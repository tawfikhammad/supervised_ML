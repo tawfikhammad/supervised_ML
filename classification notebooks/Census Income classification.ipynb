{
 "cells": [
  {
   "cell_type": "markdown",
   "id": "030ce2da",
   "metadata": {},
   "source": [
    "# <p style=\"padding:10px;background-color:#324459;margin:0;color:#eab578;font-family:newtimeroman;font-size:150%;text-align:center;border-radius: 15px 50px;overflow:hidden;font-weight:500\">Census Income Analysis and Modeling</p>\n",
    "\n",
    "<p style=\"text-align:center; \">\n",
    "<img src=\"https://pix4free.org/assets/library/2021-04-28/originals/income.jpg\" style='width: 500px; height: 350px;'>\n",
    "</p>\n"
   ]
  },
  {
   "cell_type": "markdown",
   "id": "26a1e474",
   "metadata": {},
   "source": [
    "**In this kernel I will create a machine learning model on the Census Income dataset. The objective of this project is to build a model to predict whether personal income would be over 50K or not based on pattern extracted from analysing features.**\n",
    "\n",
    "\n"
   ]
  },
  {
   "cell_type": "markdown",
   "id": "17e13d78",
   "metadata": {},
   "source": [
    "# Importing data and libraries"
   ]
  },
  {
   "cell_type": "code",
   "execution_count": 1,
   "id": "5318427c",
   "metadata": {},
   "outputs": [],
   "source": [
    "import pandas as pd \n",
    "import numpy as np\n",
    "import matplotlib.pyplot as plt\n",
    "import seaborn as sns\n",
    "import plotly.express as px\n",
    "import os\n",
    "\n",
    "from sklearn.preprocessing import OneHotEncoder, LabelEncoder\n",
    "#machine learning libraries:\n",
    "from sklearn.ensemble import RandomForestClassifier, GradientBoostingClassifier\n",
    "from sklearn.tree import DecisionTreeClassifier\n",
    "from xgboost import XGBClassifier\n",
    "from sklearn.neighbors import KNeighborsClassifier\n",
    "from sklearn.linear_model import LogisticRegression\n",
    "from sklearn.svm import SVC\n",
    "from sklearn.model_selection import GridSearchCV, train_test_split\n",
    "from sklearn.model_selection import cross_val_score, cross_val_predict\n",
    "\n",
    "#evaluation\n",
    "from sklearn.metrics import accuracy_score, confusion_matrix\n",
    "from sklearn.metrics import roc_auc_score, roc_curve \n",
    "from sklearn.metrics import r2_score,f1_score, precision_score, recall_score\n",
    "from sklearn.metrics import precision_recall_curve\n",
    "\n",
    "import warnings\n",
    "warnings.filterwarnings('ignore')"
   ]
  },
  {
   "cell_type": "code",
   "execution_count": 2,
   "id": "d88a749f",
   "metadata": {},
   "outputs": [
    {
     "data": {
      "text/html": [
       "<div>\n",
       "<style scoped>\n",
       "    .dataframe tbody tr th:only-of-type {\n",
       "        vertical-align: middle;\n",
       "    }\n",
       "\n",
       "    .dataframe tbody tr th {\n",
       "        vertical-align: top;\n",
       "    }\n",
       "\n",
       "    .dataframe thead th {\n",
       "        text-align: right;\n",
       "    }\n",
       "</style>\n",
       "<table border=\"1\" class=\"dataframe\">\n",
       "  <thead>\n",
       "    <tr style=\"text-align: right;\">\n",
       "      <th></th>\n",
       "      <th>Age</th>\n",
       "      <th>Workclass</th>\n",
       "      <th>Final Weight</th>\n",
       "      <th>Education</th>\n",
       "      <th>EducationNum</th>\n",
       "      <th>Marital Status</th>\n",
       "      <th>Occupation</th>\n",
       "      <th>Relationship</th>\n",
       "      <th>Race</th>\n",
       "      <th>Gender</th>\n",
       "      <th>Capital Gain</th>\n",
       "      <th>capital loss</th>\n",
       "      <th>Hours per Week</th>\n",
       "      <th>Native Country</th>\n",
       "      <th>Income</th>\n",
       "    </tr>\n",
       "  </thead>\n",
       "  <tbody>\n",
       "    <tr>\n",
       "      <th>0</th>\n",
       "      <td>39</td>\n",
       "      <td>State-gov</td>\n",
       "      <td>77516</td>\n",
       "      <td>Bachelors</td>\n",
       "      <td>13</td>\n",
       "      <td>Never-married</td>\n",
       "      <td>Adm-clerical</td>\n",
       "      <td>Not-in-family</td>\n",
       "      <td>White</td>\n",
       "      <td>Male</td>\n",
       "      <td>2174</td>\n",
       "      <td>0</td>\n",
       "      <td>40</td>\n",
       "      <td>United-States</td>\n",
       "      <td>&lt;=50K</td>\n",
       "    </tr>\n",
       "    <tr>\n",
       "      <th>1</th>\n",
       "      <td>50</td>\n",
       "      <td>Self-emp-not-inc</td>\n",
       "      <td>83311</td>\n",
       "      <td>Bachelors</td>\n",
       "      <td>13</td>\n",
       "      <td>Married-civ-spouse</td>\n",
       "      <td>Exec-managerial</td>\n",
       "      <td>Husband</td>\n",
       "      <td>White</td>\n",
       "      <td>Male</td>\n",
       "      <td>0</td>\n",
       "      <td>0</td>\n",
       "      <td>13</td>\n",
       "      <td>United-States</td>\n",
       "      <td>&lt;=50K</td>\n",
       "    </tr>\n",
       "    <tr>\n",
       "      <th>2</th>\n",
       "      <td>38</td>\n",
       "      <td>Private</td>\n",
       "      <td>215646</td>\n",
       "      <td>HS-grad</td>\n",
       "      <td>9</td>\n",
       "      <td>Divorced</td>\n",
       "      <td>Handlers-cleaners</td>\n",
       "      <td>Not-in-family</td>\n",
       "      <td>White</td>\n",
       "      <td>Male</td>\n",
       "      <td>0</td>\n",
       "      <td>0</td>\n",
       "      <td>40</td>\n",
       "      <td>United-States</td>\n",
       "      <td>&lt;=50K</td>\n",
       "    </tr>\n",
       "    <tr>\n",
       "      <th>3</th>\n",
       "      <td>53</td>\n",
       "      <td>Private</td>\n",
       "      <td>234721</td>\n",
       "      <td>11th</td>\n",
       "      <td>7</td>\n",
       "      <td>Married-civ-spouse</td>\n",
       "      <td>Handlers-cleaners</td>\n",
       "      <td>Husband</td>\n",
       "      <td>Black</td>\n",
       "      <td>Male</td>\n",
       "      <td>0</td>\n",
       "      <td>0</td>\n",
       "      <td>40</td>\n",
       "      <td>United-States</td>\n",
       "      <td>&lt;=50K</td>\n",
       "    </tr>\n",
       "    <tr>\n",
       "      <th>4</th>\n",
       "      <td>28</td>\n",
       "      <td>Private</td>\n",
       "      <td>338409</td>\n",
       "      <td>Bachelors</td>\n",
       "      <td>13</td>\n",
       "      <td>Married-civ-spouse</td>\n",
       "      <td>Prof-specialty</td>\n",
       "      <td>Wife</td>\n",
       "      <td>Black</td>\n",
       "      <td>Female</td>\n",
       "      <td>0</td>\n",
       "      <td>0</td>\n",
       "      <td>40</td>\n",
       "      <td>Cuba</td>\n",
       "      <td>&lt;=50K</td>\n",
       "    </tr>\n",
       "  </tbody>\n",
       "</table>\n",
       "</div>"
      ],
      "text/plain": [
       "   Age          Workclass  Final Weight   Education  EducationNum  \\\n",
       "0   39          State-gov         77516   Bachelors            13   \n",
       "1   50   Self-emp-not-inc         83311   Bachelors            13   \n",
       "2   38            Private        215646     HS-grad             9   \n",
       "3   53            Private        234721        11th             7   \n",
       "4   28            Private        338409   Bachelors            13   \n",
       "\n",
       "        Marital Status          Occupation    Relationship    Race   Gender  \\\n",
       "0        Never-married        Adm-clerical   Not-in-family   White     Male   \n",
       "1   Married-civ-spouse     Exec-managerial         Husband   White     Male   \n",
       "2             Divorced   Handlers-cleaners   Not-in-family   White     Male   \n",
       "3   Married-civ-spouse   Handlers-cleaners         Husband   Black     Male   \n",
       "4   Married-civ-spouse      Prof-specialty            Wife   Black   Female   \n",
       "\n",
       "   Capital Gain  capital loss  Hours per Week  Native Country  Income  \n",
       "0          2174             0              40   United-States   <=50K  \n",
       "1             0             0              13   United-States   <=50K  \n",
       "2             0             0              40   United-States   <=50K  \n",
       "3             0             0              40   United-States   <=50K  \n",
       "4             0             0              40            Cuba   <=50K  "
      ]
     },
     "execution_count": 2,
     "metadata": {},
     "output_type": "execute_result"
    }
   ],
   "source": [
    "train_data= pd.read_csv(r\"train data.csv\")\n",
    "test_data= pd.read_csv(r\"test data.csv\")\n",
    "\n",
    "train_data.head()"
   ]
  },
  {
   "cell_type": "code",
   "execution_count": 3,
   "id": "9b66d6e4",
   "metadata": {},
   "outputs": [
    {
     "data": {
      "text/html": [
       "<div>\n",
       "<style scoped>\n",
       "    .dataframe tbody tr th:only-of-type {\n",
       "        vertical-align: middle;\n",
       "    }\n",
       "\n",
       "    .dataframe tbody tr th {\n",
       "        vertical-align: top;\n",
       "    }\n",
       "\n",
       "    .dataframe thead th {\n",
       "        text-align: right;\n",
       "    }\n",
       "</style>\n",
       "<table border=\"1\" class=\"dataframe\">\n",
       "  <thead>\n",
       "    <tr style=\"text-align: right;\">\n",
       "      <th></th>\n",
       "      <th>25</th>\n",
       "      <th>Private</th>\n",
       "      <th>226802</th>\n",
       "      <th>11th</th>\n",
       "      <th>7</th>\n",
       "      <th>Never-married</th>\n",
       "      <th>Machine-op-inspct</th>\n",
       "      <th>Own-child</th>\n",
       "      <th>Black</th>\n",
       "      <th>Male</th>\n",
       "      <th>0</th>\n",
       "      <th>0.1</th>\n",
       "      <th>40</th>\n",
       "      <th>United-States</th>\n",
       "      <th>&lt;=50K.</th>\n",
       "    </tr>\n",
       "  </thead>\n",
       "  <tbody>\n",
       "    <tr>\n",
       "      <th>0</th>\n",
       "      <td>38</td>\n",
       "      <td>Private</td>\n",
       "      <td>89814</td>\n",
       "      <td>HS-grad</td>\n",
       "      <td>9</td>\n",
       "      <td>Married-civ-spouse</td>\n",
       "      <td>Farming-fishing</td>\n",
       "      <td>Husband</td>\n",
       "      <td>White</td>\n",
       "      <td>Male</td>\n",
       "      <td>0</td>\n",
       "      <td>0</td>\n",
       "      <td>50</td>\n",
       "      <td>United-States</td>\n",
       "      <td>&lt;=50K.</td>\n",
       "    </tr>\n",
       "    <tr>\n",
       "      <th>1</th>\n",
       "      <td>28</td>\n",
       "      <td>Local-gov</td>\n",
       "      <td>336951</td>\n",
       "      <td>Assoc-acdm</td>\n",
       "      <td>12</td>\n",
       "      <td>Married-civ-spouse</td>\n",
       "      <td>Protective-serv</td>\n",
       "      <td>Husband</td>\n",
       "      <td>White</td>\n",
       "      <td>Male</td>\n",
       "      <td>0</td>\n",
       "      <td>0</td>\n",
       "      <td>40</td>\n",
       "      <td>United-States</td>\n",
       "      <td>&gt;50K.</td>\n",
       "    </tr>\n",
       "    <tr>\n",
       "      <th>2</th>\n",
       "      <td>44</td>\n",
       "      <td>Private</td>\n",
       "      <td>160323</td>\n",
       "      <td>Some-college</td>\n",
       "      <td>10</td>\n",
       "      <td>Married-civ-spouse</td>\n",
       "      <td>Machine-op-inspct</td>\n",
       "      <td>Husband</td>\n",
       "      <td>Black</td>\n",
       "      <td>Male</td>\n",
       "      <td>7688</td>\n",
       "      <td>0</td>\n",
       "      <td>40</td>\n",
       "      <td>United-States</td>\n",
       "      <td>&gt;50K.</td>\n",
       "    </tr>\n",
       "    <tr>\n",
       "      <th>3</th>\n",
       "      <td>18</td>\n",
       "      <td>?</td>\n",
       "      <td>103497</td>\n",
       "      <td>Some-college</td>\n",
       "      <td>10</td>\n",
       "      <td>Never-married</td>\n",
       "      <td>?</td>\n",
       "      <td>Own-child</td>\n",
       "      <td>White</td>\n",
       "      <td>Female</td>\n",
       "      <td>0</td>\n",
       "      <td>0</td>\n",
       "      <td>30</td>\n",
       "      <td>United-States</td>\n",
       "      <td>&lt;=50K.</td>\n",
       "    </tr>\n",
       "    <tr>\n",
       "      <th>4</th>\n",
       "      <td>34</td>\n",
       "      <td>Private</td>\n",
       "      <td>198693</td>\n",
       "      <td>10th</td>\n",
       "      <td>6</td>\n",
       "      <td>Never-married</td>\n",
       "      <td>Other-service</td>\n",
       "      <td>Not-in-family</td>\n",
       "      <td>White</td>\n",
       "      <td>Male</td>\n",
       "      <td>0</td>\n",
       "      <td>0</td>\n",
       "      <td>30</td>\n",
       "      <td>United-States</td>\n",
       "      <td>&lt;=50K.</td>\n",
       "    </tr>\n",
       "  </tbody>\n",
       "</table>\n",
       "</div>"
      ],
      "text/plain": [
       "   25     Private  226802           11th   7        Never-married  \\\n",
       "0  38     Private   89814        HS-grad   9   Married-civ-spouse   \n",
       "1  28   Local-gov  336951     Assoc-acdm  12   Married-civ-spouse   \n",
       "2  44     Private  160323   Some-college  10   Married-civ-spouse   \n",
       "3  18           ?  103497   Some-college  10        Never-married   \n",
       "4  34     Private  198693           10th   6        Never-married   \n",
       "\n",
       "    Machine-op-inspct       Own-child   Black     Male     0  0.1  40  \\\n",
       "0     Farming-fishing         Husband   White     Male     0    0  50   \n",
       "1     Protective-serv         Husband   White     Male     0    0  40   \n",
       "2   Machine-op-inspct         Husband   Black     Male  7688    0  40   \n",
       "3                   ?       Own-child   White   Female     0    0  30   \n",
       "4       Other-service   Not-in-family   White     Male     0    0  30   \n",
       "\n",
       "    United-States   <=50K.  \n",
       "0   United-States   <=50K.  \n",
       "1   United-States    >50K.  \n",
       "2   United-States    >50K.  \n",
       "3   United-States   <=50K.  \n",
       "4   United-States   <=50K.  "
      ]
     },
     "execution_count": 3,
     "metadata": {},
     "output_type": "execute_result"
    }
   ],
   "source": [
    "test_data.head()"
   ]
  },
  {
   "cell_type": "markdown",
   "id": "c00e43a3",
   "metadata": {},
   "source": [
    "It seem test data has unnamed columns so let's handle that.\n",
    "\n",
    "\n"
   ]
  },
  {
   "cell_type": "code",
   "execution_count": 4,
   "id": "47ab6066",
   "metadata": {},
   "outputs": [],
   "source": [
    "columns=train_data.columns\n",
    "test_data.columns=columns"
   ]
  },
  {
   "cell_type": "code",
   "execution_count": 5,
   "id": "3497b804",
   "metadata": {},
   "outputs": [],
   "source": [
    "df = pd.concat([train_data, test_data], axis= 0)"
   ]
  },
  {
   "cell_type": "code",
   "execution_count": 6,
   "id": "176a0029",
   "metadata": {},
   "outputs": [
    {
     "data": {
      "text/html": [
       "<div>\n",
       "<style scoped>\n",
       "    .dataframe tbody tr th:only-of-type {\n",
       "        vertical-align: middle;\n",
       "    }\n",
       "\n",
       "    .dataframe tbody tr th {\n",
       "        vertical-align: top;\n",
       "    }\n",
       "\n",
       "    .dataframe thead th {\n",
       "        text-align: right;\n",
       "    }\n",
       "</style>\n",
       "<table border=\"1\" class=\"dataframe\">\n",
       "  <thead>\n",
       "    <tr style=\"text-align: right;\">\n",
       "      <th></th>\n",
       "      <th>Age</th>\n",
       "      <th>Workclass</th>\n",
       "      <th>Final Weight</th>\n",
       "      <th>Education</th>\n",
       "      <th>EducationNum</th>\n",
       "      <th>Marital Status</th>\n",
       "      <th>Occupation</th>\n",
       "      <th>Relationship</th>\n",
       "      <th>Race</th>\n",
       "      <th>Gender</th>\n",
       "      <th>Capital Gain</th>\n",
       "      <th>capital loss</th>\n",
       "      <th>Hours per Week</th>\n",
       "      <th>Native Country</th>\n",
       "      <th>Income</th>\n",
       "    </tr>\n",
       "  </thead>\n",
       "  <tbody>\n",
       "    <tr>\n",
       "      <th>0</th>\n",
       "      <td>39</td>\n",
       "      <td>State-gov</td>\n",
       "      <td>77516</td>\n",
       "      <td>Bachelors</td>\n",
       "      <td>13</td>\n",
       "      <td>Never-married</td>\n",
       "      <td>Adm-clerical</td>\n",
       "      <td>Not-in-family</td>\n",
       "      <td>White</td>\n",
       "      <td>Male</td>\n",
       "      <td>2174</td>\n",
       "      <td>0</td>\n",
       "      <td>40</td>\n",
       "      <td>United-States</td>\n",
       "      <td>&lt;=50K</td>\n",
       "    </tr>\n",
       "    <tr>\n",
       "      <th>1</th>\n",
       "      <td>50</td>\n",
       "      <td>Self-emp-not-inc</td>\n",
       "      <td>83311</td>\n",
       "      <td>Bachelors</td>\n",
       "      <td>13</td>\n",
       "      <td>Married-civ-spouse</td>\n",
       "      <td>Exec-managerial</td>\n",
       "      <td>Husband</td>\n",
       "      <td>White</td>\n",
       "      <td>Male</td>\n",
       "      <td>0</td>\n",
       "      <td>0</td>\n",
       "      <td>13</td>\n",
       "      <td>United-States</td>\n",
       "      <td>&lt;=50K</td>\n",
       "    </tr>\n",
       "    <tr>\n",
       "      <th>2</th>\n",
       "      <td>38</td>\n",
       "      <td>Private</td>\n",
       "      <td>215646</td>\n",
       "      <td>HS-grad</td>\n",
       "      <td>9</td>\n",
       "      <td>Divorced</td>\n",
       "      <td>Handlers-cleaners</td>\n",
       "      <td>Not-in-family</td>\n",
       "      <td>White</td>\n",
       "      <td>Male</td>\n",
       "      <td>0</td>\n",
       "      <td>0</td>\n",
       "      <td>40</td>\n",
       "      <td>United-States</td>\n",
       "      <td>&lt;=50K</td>\n",
       "    </tr>\n",
       "    <tr>\n",
       "      <th>3</th>\n",
       "      <td>53</td>\n",
       "      <td>Private</td>\n",
       "      <td>234721</td>\n",
       "      <td>11th</td>\n",
       "      <td>7</td>\n",
       "      <td>Married-civ-spouse</td>\n",
       "      <td>Handlers-cleaners</td>\n",
       "      <td>Husband</td>\n",
       "      <td>Black</td>\n",
       "      <td>Male</td>\n",
       "      <td>0</td>\n",
       "      <td>0</td>\n",
       "      <td>40</td>\n",
       "      <td>United-States</td>\n",
       "      <td>&lt;=50K</td>\n",
       "    </tr>\n",
       "    <tr>\n",
       "      <th>4</th>\n",
       "      <td>28</td>\n",
       "      <td>Private</td>\n",
       "      <td>338409</td>\n",
       "      <td>Bachelors</td>\n",
       "      <td>13</td>\n",
       "      <td>Married-civ-spouse</td>\n",
       "      <td>Prof-specialty</td>\n",
       "      <td>Wife</td>\n",
       "      <td>Black</td>\n",
       "      <td>Female</td>\n",
       "      <td>0</td>\n",
       "      <td>0</td>\n",
       "      <td>40</td>\n",
       "      <td>Cuba</td>\n",
       "      <td>&lt;=50K</td>\n",
       "    </tr>\n",
       "  </tbody>\n",
       "</table>\n",
       "</div>"
      ],
      "text/plain": [
       "   Age          Workclass  Final Weight   Education  EducationNum  \\\n",
       "0   39          State-gov         77516   Bachelors            13   \n",
       "1   50   Self-emp-not-inc         83311   Bachelors            13   \n",
       "2   38            Private        215646     HS-grad             9   \n",
       "3   53            Private        234721        11th             7   \n",
       "4   28            Private        338409   Bachelors            13   \n",
       "\n",
       "        Marital Status          Occupation    Relationship    Race   Gender  \\\n",
       "0        Never-married        Adm-clerical   Not-in-family   White     Male   \n",
       "1   Married-civ-spouse     Exec-managerial         Husband   White     Male   \n",
       "2             Divorced   Handlers-cleaners   Not-in-family   White     Male   \n",
       "3   Married-civ-spouse   Handlers-cleaners         Husband   Black     Male   \n",
       "4   Married-civ-spouse      Prof-specialty            Wife   Black   Female   \n",
       "\n",
       "   Capital Gain  capital loss  Hours per Week  Native Country  Income  \n",
       "0          2174             0              40   United-States   <=50K  \n",
       "1             0             0              13   United-States   <=50K  \n",
       "2             0             0              40   United-States   <=50K  \n",
       "3             0             0              40   United-States   <=50K  \n",
       "4             0             0              40            Cuba   <=50K  "
      ]
     },
     "execution_count": 6,
     "metadata": {},
     "output_type": "execute_result"
    }
   ],
   "source": [
    "df.head(5)"
   ]
  },
  {
   "cell_type": "markdown",
   "id": "1e8224b1",
   "metadata": {},
   "source": [
    "# data cleaning"
   ]
  },
  {
   "cell_type": "code",
   "execution_count": 7,
   "id": "eb3f4580",
   "metadata": {},
   "outputs": [],
   "source": [
    "#strip string columns\n",
    "\n",
    "for col in columns:\n",
    "    if df[col].dtype in ['O']:\n",
    "        df[col]=df[col].str.strip()"
   ]
  },
  {
   "cell_type": "code",
   "execution_count": 8,
   "id": "2d175672",
   "metadata": {},
   "outputs": [
    {
     "name": "stdout",
     "output_type": "stream",
     "text": [
      "<class 'pandas.core.frame.DataFrame'>\n",
      "Int64Index: 48841 entries, 0 to 16279\n",
      "Data columns (total 15 columns):\n",
      " #   Column          Non-Null Count  Dtype \n",
      "---  ------          --------------  ----- \n",
      " 0   Age             48841 non-null  int64 \n",
      " 1   Workclass       48841 non-null  object\n",
      " 2   Final Weight    48841 non-null  int64 \n",
      " 3   Education       48841 non-null  object\n",
      " 4   EducationNum    48841 non-null  int64 \n",
      " 5   Marital Status  48841 non-null  object\n",
      " 6   Occupation      48841 non-null  object\n",
      " 7   Relationship    48841 non-null  object\n",
      " 8   Race            48841 non-null  object\n",
      " 9   Gender          48841 non-null  object\n",
      " 10  Capital Gain    48841 non-null  int64 \n",
      " 11  capital loss    48841 non-null  int64 \n",
      " 12  Hours per Week  48841 non-null  int64 \n",
      " 13  Native Country  48841 non-null  object\n",
      " 14  Income          48841 non-null  object\n",
      "dtypes: int64(6), object(9)\n",
      "memory usage: 6.0+ MB\n"
     ]
    }
   ],
   "source": [
    "df.info()"
   ]
  },
  {
   "cell_type": "markdown",
   "id": "c63ae1d1",
   "metadata": {},
   "source": [
    "### Handle missing data"
   ]
  },
  {
   "cell_type": "code",
   "execution_count": 9,
   "id": "11d1ec6d",
   "metadata": {},
   "outputs": [
    {
     "data": {
      "text/plain": [
       "array(['State-gov', 'Self-emp-not-inc', 'Private', 'Federal-gov',\n",
       "       'Local-gov', '?', 'Self-emp-inc', 'Without-pay', 'Never-worked'],\n",
       "      dtype=object)"
      ]
     },
     "execution_count": 9,
     "metadata": {},
     "output_type": "execute_result"
    }
   ],
   "source": [
    "df['Workclass'].unique()"
   ]
  },
  {
   "cell_type": "markdown",
   "id": "a9b41794",
   "metadata": {},
   "source": [
    "**`?` It expresses as missing data so let's change it.**"
   ]
  },
  {
   "cell_type": "code",
   "execution_count": 10,
   "id": "5d5cd60a",
   "metadata": {},
   "outputs": [],
   "source": [
    "df.replace(\"?\", np.NaN, inplace=True)"
   ]
  },
  {
   "cell_type": "code",
   "execution_count": 11,
   "id": "0e9edeb2",
   "metadata": {},
   "outputs": [
    {
     "data": {
      "text/plain": [
       "Occupation        2809\n",
       "Workclass         2799\n",
       "Native Country     857\n",
       "dtype: int64"
      ]
     },
     "execution_count": 11,
     "metadata": {},
     "output_type": "execute_result"
    }
   ],
   "source": [
    "data_na = df.isna().sum()\n",
    "data_na.drop(data_na[data_na == 0].index).sort_values(ascending=False)"
   ]
  },
  {
   "cell_type": "code",
   "execution_count": 12,
   "id": "b055bcb5",
   "metadata": {},
   "outputs": [
    {
     "data": {
      "text/plain": [
       "2799"
      ]
     },
     "execution_count": 12,
     "metadata": {},
     "output_type": "execute_result"
    }
   ],
   "source": [
    "len(df[df['Workclass'].isna() & df['Occupation'].isna()])"
   ]
  },
  {
   "cell_type": "code",
   "execution_count": 13,
   "id": "c6bc99f4",
   "metadata": {},
   "outputs": [
    {
     "data": {
      "text/html": [
       "<div>\n",
       "<style scoped>\n",
       "    .dataframe tbody tr th:only-of-type {\n",
       "        vertical-align: middle;\n",
       "    }\n",
       "\n",
       "    .dataframe tbody tr th {\n",
       "        vertical-align: top;\n",
       "    }\n",
       "\n",
       "    .dataframe thead th {\n",
       "        text-align: right;\n",
       "    }\n",
       "</style>\n",
       "<table border=\"1\" class=\"dataframe\">\n",
       "  <thead>\n",
       "    <tr style=\"text-align: right;\">\n",
       "      <th></th>\n",
       "      <th>Age</th>\n",
       "      <th>Workclass</th>\n",
       "      <th>Final Weight</th>\n",
       "      <th>Education</th>\n",
       "      <th>EducationNum</th>\n",
       "      <th>Marital Status</th>\n",
       "      <th>Occupation</th>\n",
       "      <th>Relationship</th>\n",
       "      <th>Race</th>\n",
       "      <th>Gender</th>\n",
       "      <th>Capital Gain</th>\n",
       "      <th>capital loss</th>\n",
       "      <th>Hours per Week</th>\n",
       "      <th>Native Country</th>\n",
       "      <th>Income</th>\n",
       "    </tr>\n",
       "  </thead>\n",
       "  <tbody>\n",
       "    <tr>\n",
       "      <th>5361</th>\n",
       "      <td>18</td>\n",
       "      <td>Never-worked</td>\n",
       "      <td>206359</td>\n",
       "      <td>10th</td>\n",
       "      <td>6</td>\n",
       "      <td>Never-married</td>\n",
       "      <td>NaN</td>\n",
       "      <td>Own-child</td>\n",
       "      <td>White</td>\n",
       "      <td>Male</td>\n",
       "      <td>0</td>\n",
       "      <td>0</td>\n",
       "      <td>40</td>\n",
       "      <td>United-States</td>\n",
       "      <td>&lt;=50K</td>\n",
       "    </tr>\n",
       "    <tr>\n",
       "      <th>10845</th>\n",
       "      <td>23</td>\n",
       "      <td>Never-worked</td>\n",
       "      <td>188535</td>\n",
       "      <td>7th-8th</td>\n",
       "      <td>4</td>\n",
       "      <td>Divorced</td>\n",
       "      <td>NaN</td>\n",
       "      <td>Not-in-family</td>\n",
       "      <td>White</td>\n",
       "      <td>Male</td>\n",
       "      <td>0</td>\n",
       "      <td>0</td>\n",
       "      <td>35</td>\n",
       "      <td>United-States</td>\n",
       "      <td>&lt;=50K</td>\n",
       "    </tr>\n",
       "    <tr>\n",
       "      <th>14772</th>\n",
       "      <td>17</td>\n",
       "      <td>Never-worked</td>\n",
       "      <td>237272</td>\n",
       "      <td>10th</td>\n",
       "      <td>6</td>\n",
       "      <td>Never-married</td>\n",
       "      <td>NaN</td>\n",
       "      <td>Own-child</td>\n",
       "      <td>White</td>\n",
       "      <td>Male</td>\n",
       "      <td>0</td>\n",
       "      <td>0</td>\n",
       "      <td>30</td>\n",
       "      <td>United-States</td>\n",
       "      <td>&lt;=50K</td>\n",
       "    </tr>\n",
       "    <tr>\n",
       "      <th>20337</th>\n",
       "      <td>18</td>\n",
       "      <td>Never-worked</td>\n",
       "      <td>157131</td>\n",
       "      <td>11th</td>\n",
       "      <td>7</td>\n",
       "      <td>Never-married</td>\n",
       "      <td>NaN</td>\n",
       "      <td>Own-child</td>\n",
       "      <td>White</td>\n",
       "      <td>Female</td>\n",
       "      <td>0</td>\n",
       "      <td>0</td>\n",
       "      <td>10</td>\n",
       "      <td>United-States</td>\n",
       "      <td>&lt;=50K</td>\n",
       "    </tr>\n",
       "    <tr>\n",
       "      <th>23232</th>\n",
       "      <td>20</td>\n",
       "      <td>Never-worked</td>\n",
       "      <td>462294</td>\n",
       "      <td>Some-college</td>\n",
       "      <td>10</td>\n",
       "      <td>Never-married</td>\n",
       "      <td>NaN</td>\n",
       "      <td>Own-child</td>\n",
       "      <td>Black</td>\n",
       "      <td>Male</td>\n",
       "      <td>0</td>\n",
       "      <td>0</td>\n",
       "      <td>40</td>\n",
       "      <td>United-States</td>\n",
       "      <td>&lt;=50K</td>\n",
       "    </tr>\n",
       "    <tr>\n",
       "      <th>32304</th>\n",
       "      <td>30</td>\n",
       "      <td>Never-worked</td>\n",
       "      <td>176673</td>\n",
       "      <td>HS-grad</td>\n",
       "      <td>9</td>\n",
       "      <td>Married-civ-spouse</td>\n",
       "      <td>NaN</td>\n",
       "      <td>Wife</td>\n",
       "      <td>Black</td>\n",
       "      <td>Female</td>\n",
       "      <td>0</td>\n",
       "      <td>0</td>\n",
       "      <td>40</td>\n",
       "      <td>United-States</td>\n",
       "      <td>&lt;=50K</td>\n",
       "    </tr>\n",
       "    <tr>\n",
       "      <th>32314</th>\n",
       "      <td>18</td>\n",
       "      <td>Never-worked</td>\n",
       "      <td>153663</td>\n",
       "      <td>Some-college</td>\n",
       "      <td>10</td>\n",
       "      <td>Never-married</td>\n",
       "      <td>NaN</td>\n",
       "      <td>Own-child</td>\n",
       "      <td>White</td>\n",
       "      <td>Male</td>\n",
       "      <td>0</td>\n",
       "      <td>0</td>\n",
       "      <td>4</td>\n",
       "      <td>United-States</td>\n",
       "      <td>&lt;=50K</td>\n",
       "    </tr>\n",
       "    <tr>\n",
       "      <th>8784</th>\n",
       "      <td>17</td>\n",
       "      <td>Never-worked</td>\n",
       "      <td>131593</td>\n",
       "      <td>11th</td>\n",
       "      <td>7</td>\n",
       "      <td>Never-married</td>\n",
       "      <td>NaN</td>\n",
       "      <td>Own-child</td>\n",
       "      <td>Black</td>\n",
       "      <td>Female</td>\n",
       "      <td>0</td>\n",
       "      <td>0</td>\n",
       "      <td>20</td>\n",
       "      <td>United-States</td>\n",
       "      <td>&lt;=50K.</td>\n",
       "    </tr>\n",
       "    <tr>\n",
       "      <th>11606</th>\n",
       "      <td>20</td>\n",
       "      <td>Never-worked</td>\n",
       "      <td>273905</td>\n",
       "      <td>HS-grad</td>\n",
       "      <td>9</td>\n",
       "      <td>Married-spouse-absent</td>\n",
       "      <td>NaN</td>\n",
       "      <td>Other-relative</td>\n",
       "      <td>White</td>\n",
       "      <td>Male</td>\n",
       "      <td>0</td>\n",
       "      <td>0</td>\n",
       "      <td>35</td>\n",
       "      <td>United-States</td>\n",
       "      <td>&lt;=50K.</td>\n",
       "    </tr>\n",
       "    <tr>\n",
       "      <th>13897</th>\n",
       "      <td>18</td>\n",
       "      <td>Never-worked</td>\n",
       "      <td>162908</td>\n",
       "      <td>11th</td>\n",
       "      <td>7</td>\n",
       "      <td>Never-married</td>\n",
       "      <td>NaN</td>\n",
       "      <td>Own-child</td>\n",
       "      <td>White</td>\n",
       "      <td>Male</td>\n",
       "      <td>0</td>\n",
       "      <td>0</td>\n",
       "      <td>35</td>\n",
       "      <td>United-States</td>\n",
       "      <td>&lt;=50K.</td>\n",
       "    </tr>\n",
       "  </tbody>\n",
       "</table>\n",
       "</div>"
      ],
      "text/plain": [
       "       Age     Workclass  Final Weight     Education  EducationNum  \\\n",
       "5361    18  Never-worked        206359          10th             6   \n",
       "10845   23  Never-worked        188535       7th-8th             4   \n",
       "14772   17  Never-worked        237272          10th             6   \n",
       "20337   18  Never-worked        157131          11th             7   \n",
       "23232   20  Never-worked        462294  Some-college            10   \n",
       "32304   30  Never-worked        176673       HS-grad             9   \n",
       "32314   18  Never-worked        153663  Some-college            10   \n",
       "8784    17  Never-worked        131593          11th             7   \n",
       "11606   20  Never-worked        273905       HS-grad             9   \n",
       "13897   18  Never-worked        162908          11th             7   \n",
       "\n",
       "              Marital Status Occupation    Relationship   Race  Gender  \\\n",
       "5361           Never-married        NaN       Own-child  White    Male   \n",
       "10845               Divorced        NaN   Not-in-family  White    Male   \n",
       "14772          Never-married        NaN       Own-child  White    Male   \n",
       "20337          Never-married        NaN       Own-child  White  Female   \n",
       "23232          Never-married        NaN       Own-child  Black    Male   \n",
       "32304     Married-civ-spouse        NaN            Wife  Black  Female   \n",
       "32314          Never-married        NaN       Own-child  White    Male   \n",
       "8784           Never-married        NaN       Own-child  Black  Female   \n",
       "11606  Married-spouse-absent        NaN  Other-relative  White    Male   \n",
       "13897          Never-married        NaN       Own-child  White    Male   \n",
       "\n",
       "       Capital Gain  capital loss  Hours per Week Native Country  Income  \n",
       "5361              0             0              40  United-States   <=50K  \n",
       "10845             0             0              35  United-States   <=50K  \n",
       "14772             0             0              30  United-States   <=50K  \n",
       "20337             0             0              10  United-States   <=50K  \n",
       "23232             0             0              40  United-States   <=50K  \n",
       "32304             0             0              40  United-States   <=50K  \n",
       "32314             0             0               4  United-States   <=50K  \n",
       "8784              0             0              20  United-States  <=50K.  \n",
       "11606             0             0              35  United-States  <=50K.  \n",
       "13897             0             0              35  United-States  <=50K.  "
      ]
     },
     "execution_count": 13,
     "metadata": {},
     "output_type": "execute_result"
    }
   ],
   "source": [
    "df[df['Occupation'].isna() & ~df['Workclass'].isna()]"
   ]
  },
  {
   "cell_type": "code",
   "execution_count": 14,
   "id": "a531cf0e",
   "metadata": {},
   "outputs": [
    {
     "data": {
      "text/plain": [
       "Private             33905\n",
       "Self-emp-not-inc     3862\n",
       "Local-gov            3136\n",
       "State-gov            1981\n",
       "Self-emp-inc         1695\n",
       "Federal-gov          1432\n",
       "Without-pay            21\n",
       "Never-worked           10\n",
       "Name: Workclass, dtype: int64"
      ]
     },
     "execution_count": 14,
     "metadata": {},
     "output_type": "execute_result"
    }
   ],
   "source": [
    "df['Workclass'].value_counts()"
   ]
  },
  {
   "cell_type": "markdown",
   "id": "a3a239c3",
   "metadata": {},
   "source": [
    "**There are 2799 rows in the `Occupation` column and the `Workclass` that are missing. But `Occupation` column has 10 missing data more becouse the person doesn't work.**\n",
    "\n",
    "**So we replace these data with `No-occupation`**"
   ]
  },
  {
   "cell_type": "code",
   "execution_count": 15,
   "id": "4db0838c",
   "metadata": {},
   "outputs": [],
   "source": [
    "df[df['Workclass']=='Never-worked']= df[df['Workclass']=='Never-worked'].fillna('No-occupation')"
   ]
  },
  {
   "cell_type": "code",
   "execution_count": 16,
   "id": "7f58a1db",
   "metadata": {},
   "outputs": [
    {
     "data": {
      "text/plain": [
       "United-States    43831\n",
       "Mexico             951\n",
       "Philippines        295\n",
       "Germany            206\n",
       "Puerto-Rico        184\n",
       "Name: Native Country, dtype: int64"
      ]
     },
     "execution_count": 16,
     "metadata": {},
     "output_type": "execute_result"
    }
   ],
   "source": [
    "df['Native Country'].value_counts()[:5]"
   ]
  },
  {
   "cell_type": "code",
   "execution_count": 17,
   "id": "6955309e",
   "metadata": {},
   "outputs": [],
   "source": [
    "df['Native Country'].fillna('United-States', inplace=True)"
   ]
  },
  {
   "cell_type": "code",
   "execution_count": 18,
   "id": "14e611b7",
   "metadata": {},
   "outputs": [
    {
     "data": {
      "text/plain": [
       "Workclass     2799\n",
       "Occupation    2799\n",
       "dtype: int64"
      ]
     },
     "execution_count": 18,
     "metadata": {},
     "output_type": "execute_result"
    }
   ],
   "source": [
    "data_na = df.isna().sum()\n",
    "data_na.drop(data_na[data_na == 0].index).sort_values(ascending=False)"
   ]
  },
  {
   "cell_type": "code",
   "execution_count": 19,
   "id": "092c91a5",
   "metadata": {},
   "outputs": [],
   "source": [
    "df.dropna(inplace=True)"
   ]
  },
  {
   "cell_type": "markdown",
   "id": "64b4ed4b",
   "metadata": {},
   "source": [
    "### Capital Gain and loss columns"
   ]
  },
  {
   "cell_type": "code",
   "execution_count": 20,
   "id": "9842a64f",
   "metadata": {},
   "outputs": [
    {
     "name": "stdout",
     "output_type": "stream",
     "text": [
      "0.92 % 0.95 %\n"
     ]
    }
   ],
   "source": [
    "len1, len2 = len(df[df['Capital Gain']== 0])/len(df), len(df[df['capital loss']== 0])/len(df)\n",
    "\n",
    "print(round(len1,2),'%', round(len2,2),'%')"
   ]
  },
  {
   "cell_type": "markdown",
   "id": "2b53d5a7",
   "metadata": {},
   "source": [
    "**Most of 90% of Capital Gain and loss columns equal 0.** \n",
    "\n",
    "**These columns may be difficult to model. Machine learning models often have difficulty learning from these columns and make the model less accurate.**\n",
    "\n"
   ]
  },
  {
   "cell_type": "code",
   "execution_count": 21,
   "id": "64739cba",
   "metadata": {},
   "outputs": [],
   "source": [
    "df.drop(columns=['Capital Gain', 'capital loss'], inplace=True)"
   ]
  },
  {
   "cell_type": "code",
   "execution_count": 22,
   "id": "81782bf6",
   "metadata": {},
   "outputs": [
    {
     "data": {
      "text/html": [
       "<div>\n",
       "<style scoped>\n",
       "    .dataframe tbody tr th:only-of-type {\n",
       "        vertical-align: middle;\n",
       "    }\n",
       "\n",
       "    .dataframe tbody tr th {\n",
       "        vertical-align: top;\n",
       "    }\n",
       "\n",
       "    .dataframe thead th {\n",
       "        text-align: right;\n",
       "    }\n",
       "</style>\n",
       "<table border=\"1\" class=\"dataframe\">\n",
       "  <thead>\n",
       "    <tr style=\"text-align: right;\">\n",
       "      <th></th>\n",
       "      <th>Age</th>\n",
       "      <th>Workclass</th>\n",
       "      <th>Final Weight</th>\n",
       "      <th>Education</th>\n",
       "      <th>EducationNum</th>\n",
       "      <th>Marital Status</th>\n",
       "      <th>Occupation</th>\n",
       "      <th>Relationship</th>\n",
       "      <th>Race</th>\n",
       "      <th>Gender</th>\n",
       "      <th>Hours per Week</th>\n",
       "      <th>Native Country</th>\n",
       "      <th>Income</th>\n",
       "    </tr>\n",
       "  </thead>\n",
       "  <tbody>\n",
       "    <tr>\n",
       "      <th>0</th>\n",
       "      <td>39</td>\n",
       "      <td>State-gov</td>\n",
       "      <td>77516</td>\n",
       "      <td>Bachelors</td>\n",
       "      <td>13</td>\n",
       "      <td>Never-married</td>\n",
       "      <td>Adm-clerical</td>\n",
       "      <td>Not-in-family</td>\n",
       "      <td>White</td>\n",
       "      <td>Male</td>\n",
       "      <td>40</td>\n",
       "      <td>United-States</td>\n",
       "      <td>&lt;=50K</td>\n",
       "    </tr>\n",
       "    <tr>\n",
       "      <th>1</th>\n",
       "      <td>50</td>\n",
       "      <td>Self-emp-not-inc</td>\n",
       "      <td>83311</td>\n",
       "      <td>Bachelors</td>\n",
       "      <td>13</td>\n",
       "      <td>Married-civ-spouse</td>\n",
       "      <td>Exec-managerial</td>\n",
       "      <td>Husband</td>\n",
       "      <td>White</td>\n",
       "      <td>Male</td>\n",
       "      <td>13</td>\n",
       "      <td>United-States</td>\n",
       "      <td>&lt;=50K</td>\n",
       "    </tr>\n",
       "    <tr>\n",
       "      <th>2</th>\n",
       "      <td>38</td>\n",
       "      <td>Private</td>\n",
       "      <td>215646</td>\n",
       "      <td>HS-grad</td>\n",
       "      <td>9</td>\n",
       "      <td>Divorced</td>\n",
       "      <td>Handlers-cleaners</td>\n",
       "      <td>Not-in-family</td>\n",
       "      <td>White</td>\n",
       "      <td>Male</td>\n",
       "      <td>40</td>\n",
       "      <td>United-States</td>\n",
       "      <td>&lt;=50K</td>\n",
       "    </tr>\n",
       "    <tr>\n",
       "      <th>3</th>\n",
       "      <td>53</td>\n",
       "      <td>Private</td>\n",
       "      <td>234721</td>\n",
       "      <td>11th</td>\n",
       "      <td>7</td>\n",
       "      <td>Married-civ-spouse</td>\n",
       "      <td>Handlers-cleaners</td>\n",
       "      <td>Husband</td>\n",
       "      <td>Black</td>\n",
       "      <td>Male</td>\n",
       "      <td>40</td>\n",
       "      <td>United-States</td>\n",
       "      <td>&lt;=50K</td>\n",
       "    </tr>\n",
       "    <tr>\n",
       "      <th>4</th>\n",
       "      <td>28</td>\n",
       "      <td>Private</td>\n",
       "      <td>338409</td>\n",
       "      <td>Bachelors</td>\n",
       "      <td>13</td>\n",
       "      <td>Married-civ-spouse</td>\n",
       "      <td>Prof-specialty</td>\n",
       "      <td>Wife</td>\n",
       "      <td>Black</td>\n",
       "      <td>Female</td>\n",
       "      <td>40</td>\n",
       "      <td>Cuba</td>\n",
       "      <td>&lt;=50K</td>\n",
       "    </tr>\n",
       "  </tbody>\n",
       "</table>\n",
       "</div>"
      ],
      "text/plain": [
       "   Age         Workclass  Final Weight  Education  EducationNum  \\\n",
       "0   39         State-gov         77516  Bachelors            13   \n",
       "1   50  Self-emp-not-inc         83311  Bachelors            13   \n",
       "2   38           Private        215646    HS-grad             9   \n",
       "3   53           Private        234721       11th             7   \n",
       "4   28           Private        338409  Bachelors            13   \n",
       "\n",
       "       Marital Status         Occupation   Relationship   Race  Gender  \\\n",
       "0       Never-married       Adm-clerical  Not-in-family  White    Male   \n",
       "1  Married-civ-spouse    Exec-managerial        Husband  White    Male   \n",
       "2            Divorced  Handlers-cleaners  Not-in-family  White    Male   \n",
       "3  Married-civ-spouse  Handlers-cleaners        Husband  Black    Male   \n",
       "4  Married-civ-spouse     Prof-specialty           Wife  Black  Female   \n",
       "\n",
       "   Hours per Week Native Country Income  \n",
       "0              40  United-States  <=50K  \n",
       "1              13  United-States  <=50K  \n",
       "2              40  United-States  <=50K  \n",
       "3              40  United-States  <=50K  \n",
       "4              40           Cuba  <=50K  "
      ]
     },
     "execution_count": 22,
     "metadata": {},
     "output_type": "execute_result"
    }
   ],
   "source": [
    "df.head()"
   ]
  },
  {
   "cell_type": "code",
   "execution_count": 23,
   "id": "74907712",
   "metadata": {},
   "outputs": [
    {
     "data": {
      "text/plain": [
       "array(['<=50K', '>50K', '<=50K.', '>50K.'], dtype=object)"
      ]
     },
     "execution_count": 23,
     "metadata": {},
     "output_type": "execute_result"
    }
   ],
   "source": [
    "df['Income'].unique()"
   ]
  },
  {
   "cell_type": "markdown",
   "id": "3e5edeb5",
   "metadata": {},
   "source": [
    "let's correct that."
   ]
  },
  {
   "cell_type": "code",
   "execution_count": 24,
   "id": "b6f78e92",
   "metadata": {},
   "outputs": [],
   "source": [
    "df.replace({'Income':{\">50K.\":\">50K\" , \"<=50K.\":\"<=50K\"}},inplace=True)"
   ]
  },
  {
   "cell_type": "code",
   "execution_count": 25,
   "id": "499dc186",
   "metadata": {},
   "outputs": [
    {
     "data": {
      "text/plain": [
       "United-States    0.914643\n",
       "Mexico           0.019613\n",
       "Philippines      0.006147\n",
       "Germany          0.004192\n",
       "Puerto-Rico      0.003801\n",
       "Name: Native Country, dtype: float64"
      ]
     },
     "execution_count": 25,
     "metadata": {},
     "output_type": "execute_result"
    }
   ],
   "source": [
    "(df['Native Country'].value_counts()/len(df))[:5]"
   ]
  },
  {
   "cell_type": "markdown",
   "id": "2a7bfd7e",
   "metadata": {},
   "source": [
    "**Most of 90% of the `Native Country` is  United-States. That make our model less accurate and misleading.**\n",
    "\n",
    "**let's drop this column**"
   ]
  },
  {
   "cell_type": "code",
   "execution_count": 26,
   "id": "f0078d84",
   "metadata": {},
   "outputs": [],
   "source": [
    "df.drop(columns='Native Country', inplace=True)"
   ]
  },
  {
   "cell_type": "code",
   "execution_count": 27,
   "id": "0623481e",
   "metadata": {},
   "outputs": [
    {
     "data": {
      "image/png": "[encoded data removed]",
      "text/plain": [
       "<Figure size 640x480 with 1 Axes>"
      ]
     },
     "metadata": {},
     "output_type": "display_data"
    }
   ],
   "source": [
    "plt.hist(df['Final Weight'], bins=20, alpha=0.7);"
   ]
  },
  {
   "cell_type": "code",
   "execution_count": 28,
   "id": "3a76c31f",
   "metadata": {},
   "outputs": [],
   "source": [
    "mask = df['Final Weight'] > 0.6*1000000\n",
    "\n",
    "# Replace the values that satisfy the mask with the mean value\n",
    "df.loc[mask, 'Final Weight'] = np.ceil(df['Final Weight'].mean())"
   ]
  },
  {
   "cell_type": "code",
   "execution_count": 29,
   "id": "f78dd331",
   "metadata": {},
   "outputs": [
    {
     "data": {
      "image/png": "[encoded data removed]",
      "text/plain": [
       "<Figure size 640x480 with 1 Axes>"
      ]
     },
     "metadata": {},
     "output_type": "display_data"
    }
   ],
   "source": [
    "plt.hist(df['Hours per Week'], bins=20, alpha=0.7);"
   ]
  },
  {
   "cell_type": "markdown",
   "id": "32daf5b5",
   "metadata": {},
   "source": [
    "# Visualization"
   ]
  },
  {
   "cell_type": "markdown",
   "id": "ec67a67b",
   "metadata": {},
   "source": [
    "<img src=\"https://image.freepik.com/free-vector/site-stats-concept-illustration_114360-1434.jpg\" width=300>"
   ]
  },
  {
   "cell_type": "code",
   "execution_count": 30,
   "id": "3ac01ad6",
   "metadata": {},
   "outputs": [],
   "source": [
    "def add_value_labels(ax, spacing=5):\n",
    "\n",
    "    # For each bar: Place a label    \n",
    "    for rect in ax.patches:\n",
    "        \n",
    "        # Get X and Y placement of label from rect.\n",
    "        x = rect.get_x() + rect.get_width() / 2\n",
    "        y = rect.get_height()-4\n",
    "\n",
    "        # Determine vertical alignment for positive and negative values\n",
    "        va = 'bottom' if y >= 0 else 'top'\n",
    "\n",
    "        # Format the label to one decimal place\n",
    "        label = int(y)    #\"{}\".format(y)\n",
    "\n",
    "        # Determine the vertical shift of the label\n",
    "        # based on the sign of the y value and the spacing parameter\n",
    "        y_shift = spacing * (1 if y >= 0 else -1)\n",
    "\n",
    "        # Create the annotation\n",
    "        ax.annotate(label, (x, y), xytext=(0, y_shift),\n",
    "                    textcoords=\"offset points\", ha='center', va=va)\n",
    "        \n",
    "pal = ['#93bac2','#adc293','#c29793', '#E28F6B', '#76A15A', '#838477' ]\n",
    "\n",
    "def r_color(num=1, seed=None):\n",
    "\n",
    "    if seed == None:\n",
    "        seed = np.random.randint(0, 420, size=1)\n",
    "        np.random.seed(seed)\n",
    "\n",
    "    colors = np.random.choice(pal, num, replace=False)\n",
    "\n",
    "    # Return the colors\n",
    "    return list(colors)"
   ]
  },
  {
   "cell_type": "code",
   "execution_count": 31,
   "id": "a9633562",
   "metadata": {},
   "outputs": [
    {
     "data": {
      "image/png": "[encoded data removed]",
      "text/plain": [
       "<Figure size 600x500 with 1 Axes>"
      ]
     },
     "metadata": {},
     "output_type": "display_data"
    }
   ],
   "source": [
    "Workclass_data=df['Income'].value_counts()\n",
    "order= list(Workclass_data.index)\n",
    "\n",
    "plt.figure(figsize=(6,5))\n",
    "plot= sns.countplot(data=df, x='Income', order=order, palette = r_color(num=1))\n",
    "add_value_labels(plot)"
   ]
  },
  {
   "cell_type": "code",
   "execution_count": 32,
   "id": "f574516f",
   "metadata": {},
   "outputs": [
    {
     "data": {
      "image/png": "[encoded data removed]",
      "text/plain": [
       "<Figure size 1200x600 with 2 Axes>"
      ]
     },
     "metadata": {},
     "output_type": "display_data"
    }
   ],
   "source": [
    "plt.figure(figsize=(12,6))\n",
    "\n",
    "plt.subplot(1,2,1)\n",
    "plt.title('Gender', size=14)\n",
    "plot=sns.countplot(data=df, x='Gender', palette = r_color(num=1,seed=0))\n",
    "add_value_labels(plot)\n",
    "\n",
    "plt.subplot(1,2,2)\n",
    "plt.title('Race', size=14)\n",
    "plot=sns.countplot(data=df, x='Race', palette = r_color(num=1, seed=2))\n",
    "plt.xticks(rotation=75)\n",
    "add_value_labels(plot)"
   ]
  },
  {
   "cell_type": "code",
   "execution_count": 33,
   "id": "639d6096",
   "metadata": {},
   "outputs": [
    {
     "data": {
      "image/png": "[encoded data removed]",
      "text/plain": [
       "<Figure size 1500x600 with 1 Axes>"
      ]
     },
     "metadata": {},
     "output_type": "display_data"
    }
   ],
   "source": [
    "Workclass_data=df['Workclass'].value_counts()\n",
    "order= list(Workclass_data.index)\n",
    "\n",
    "plt.figure(figsize=(15,6))\n",
    "plot= sns.countplot(data=df, y='Workclass', orient=\"h\", order=order,  palette = r_color(num=1))\n"
   ]
  },
  {
   "cell_type": "markdown",
   "id": "84bc8edb",
   "metadata": {},
   "source": [
    "* **The majority of people in the census dataset have jobs in the private sector. This suggests that the private sector is the largest employer in the economy.**\n",
    "* **Self-employment is also relatively common, with over 6,000 people in the dataset classified as Self-emp-not-inc or Self-emp-inc. This suggests that there is a significant number of people who are starting their own businesses or working for themselves.**\n",
    "* **Government jobs are less common, but still represent a significant portion of the workforce.**"
   ]
  },
  {
   "cell_type": "code",
   "execution_count": 34,
   "id": "80218630",
   "metadata": {},
   "outputs": [
    {
     "data": {
      "image/png": "[encoded data removed]",
      "text/plain": [
       "<Figure size 1400x600 with 1 Axes>"
      ]
     },
     "metadata": {},
     "output_type": "display_data"
    }
   ],
   "source": [
    "Occupation_data=df['Occupation'].value_counts()\n",
    "order= list(Occupation_data.index)\n",
    "\n",
    "plt.figure(figsize=(14,6))\n",
    "plot= sns.countplot(data=df, y='Occupation', orient=\"h\", order=order, palette = r_color(num=1,seed=0))"
   ]
  },
  {
   "cell_type": "code",
   "execution_count": 35,
   "id": "4fdc6ab2",
   "metadata": {},
   "outputs": [],
   "source": [
    "Relationship_data=df['Relationship'].value_counts()\n",
    "\n",
    "order= list(Relationship_data.index)\n",
    "values = list(Relationship_data.values)"
   ]
  },
  {
   "cell_type": "code",
   "execution_count": 36,
   "id": "1225ca9a",
   "metadata": {},
   "outputs": [
    {
     "data": {
      "image/png": "[encoded data removed]",
      "text/plain": [
       "<Figure size 1200x600 with 2 Axes>"
      ]
     },
     "metadata": {},
     "output_type": "display_data"
    }
   ],
   "source": [
    "plt.figure(figsize=(12,6))\n",
    "\n",
    "# Plot the count bar plot\n",
    "plt.subplot(1,2,1)\n",
    "plot1= sns.countplot(data=df, x='Relationship', order=order, palette = r_color(num=1,seed=0))\n",
    "plt.title('Count by Relationship', fontsize=18)\n",
    "plt.xticks(rotation=75)\n",
    "add_value_labels(plot1);\n",
    "\n",
    "plt.subplot(1,2,2)\n",
    "plt.pie(values, labels=order, autopct='%1.1f%%', colors= r_color(num=6,seed=0))\n",
    "plt.title('Relationship Distribution', fontsize=18);"
   ]
  },
  {
   "cell_type": "markdown",
   "id": "742d2589",
   "metadata": {},
   "source": [
    "* **The majority of people are married or in a relationship.**\n",
    "* **There is a significant number of unmarried people and not-in-family.**\n",
    "* **There is a small number of people who are other relatives.**"
   ]
  },
  {
   "cell_type": "code",
   "execution_count": 37,
   "id": "538d8b61",
   "metadata": {},
   "outputs": [],
   "source": [
    "Education_data=df['Education'].value_counts()\n",
    "order1= list(Education_data.index)\n",
    "\n",
    "EducationNum_data=df['EducationNum'].value_counts()\n",
    "order2= list(EducationNum_data.index)"
   ]
  },
  {
   "cell_type": "code",
   "execution_count": 38,
   "id": "09c19e8b",
   "metadata": {},
   "outputs": [
    {
     "data": {
      "image/png": "[encoded data removed]",
      "text/plain": [
       "<Figure size 1300x600 with 2 Axes>"
      ]
     },
     "metadata": {},
     "output_type": "display_data"
    }
   ],
   "source": [
    "plt.figure(figsize=(13,6))\n",
    "\n",
    "# Plot the count bar plot\n",
    "plt.subplot(1,2,1)\n",
    "plot1= sns.countplot(data=df, x='Education', order=order1, palette = r_color(num=1,seed=0))\n",
    "plt.title('Count by Education', fontsize=18)\n",
    "plt.xticks(rotation=75);\n",
    "\n",
    "plt.subplot(1,2,2)\n",
    "plot2= sns.countplot(data=df, x='EducationNum', order=order2, palette = r_color(num=1,seed=42))\n",
    "plt.title('Count by Education', fontsize=18);"
   ]
  },
  {
   "cell_type": "markdown",
   "id": "6d5d5a44",
   "metadata": {},
   "source": [
    "**You can notice that the `Education` column related with `EducationNum` column \n",
    "Where:**\n",
    "* **HS-grad = 9 years of education completed.**\n",
    "* **Some-college = 10**\n",
    "* **Bachelors = 13**\n",
    "* **Masters = 14**\n",
    "* **Assoc-voc = 11   And So On..**\n",
    "\n",
    "We will drop `Education` column."
   ]
  },
  {
   "cell_type": "code",
   "execution_count": 39,
   "id": "87006d55",
   "metadata": {},
   "outputs": [],
   "source": [
    "df.drop(columns='Education', inplace=True)"
   ]
  },
  {
   "cell_type": "code",
   "execution_count": 40,
   "id": "54d2ad92",
   "metadata": {},
   "outputs": [
    {
     "data": {
      "text/html": [
       "<div>\n",
       "<style scoped>\n",
       "    .dataframe tbody tr th:only-of-type {\n",
       "        vertical-align: middle;\n",
       "    }\n",
       "\n",
       "    .dataframe tbody tr th {\n",
       "        vertical-align: top;\n",
       "    }\n",
       "\n",
       "    .dataframe thead th {\n",
       "        text-align: right;\n",
       "    }\n",
       "</style>\n",
       "<table border=\"1\" class=\"dataframe\">\n",
       "  <thead>\n",
       "    <tr style=\"text-align: right;\">\n",
       "      <th></th>\n",
       "      <th>Age</th>\n",
       "      <th>Workclass</th>\n",
       "      <th>Final Weight</th>\n",
       "      <th>EducationNum</th>\n",
       "      <th>Marital Status</th>\n",
       "      <th>Occupation</th>\n",
       "      <th>Relationship</th>\n",
       "      <th>Race</th>\n",
       "      <th>Gender</th>\n",
       "      <th>Hours per Week</th>\n",
       "      <th>Income</th>\n",
       "    </tr>\n",
       "  </thead>\n",
       "  <tbody>\n",
       "    <tr>\n",
       "      <th>0</th>\n",
       "      <td>39</td>\n",
       "      <td>State-gov</td>\n",
       "      <td>77516</td>\n",
       "      <td>13</td>\n",
       "      <td>Never-married</td>\n",
       "      <td>Adm-clerical</td>\n",
       "      <td>Not-in-family</td>\n",
       "      <td>White</td>\n",
       "      <td>Male</td>\n",
       "      <td>40</td>\n",
       "      <td>&lt;=50K</td>\n",
       "    </tr>\n",
       "    <tr>\n",
       "      <th>1</th>\n",
       "      <td>50</td>\n",
       "      <td>Self-emp-not-inc</td>\n",
       "      <td>83311</td>\n",
       "      <td>13</td>\n",
       "      <td>Married-civ-spouse</td>\n",
       "      <td>Exec-managerial</td>\n",
       "      <td>Husband</td>\n",
       "      <td>White</td>\n",
       "      <td>Male</td>\n",
       "      <td>13</td>\n",
       "      <td>&lt;=50K</td>\n",
       "    </tr>\n",
       "    <tr>\n",
       "      <th>2</th>\n",
       "      <td>38</td>\n",
       "      <td>Private</td>\n",
       "      <td>215646</td>\n",
       "      <td>9</td>\n",
       "      <td>Divorced</td>\n",
       "      <td>Handlers-cleaners</td>\n",
       "      <td>Not-in-family</td>\n",
       "      <td>White</td>\n",
       "      <td>Male</td>\n",
       "      <td>40</td>\n",
       "      <td>&lt;=50K</td>\n",
       "    </tr>\n",
       "    <tr>\n",
       "      <th>3</th>\n",
       "      <td>53</td>\n",
       "      <td>Private</td>\n",
       "      <td>234721</td>\n",
       "      <td>7</td>\n",
       "      <td>Married-civ-spouse</td>\n",
       "      <td>Handlers-cleaners</td>\n",
       "      <td>Husband</td>\n",
       "      <td>Black</td>\n",
       "      <td>Male</td>\n",
       "      <td>40</td>\n",
       "      <td>&lt;=50K</td>\n",
       "    </tr>\n",
       "    <tr>\n",
       "      <th>4</th>\n",
       "      <td>28</td>\n",
       "      <td>Private</td>\n",
       "      <td>338409</td>\n",
       "      <td>13</td>\n",
       "      <td>Married-civ-spouse</td>\n",
       "      <td>Prof-specialty</td>\n",
       "      <td>Wife</td>\n",
       "      <td>Black</td>\n",
       "      <td>Female</td>\n",
       "      <td>40</td>\n",
       "      <td>&lt;=50K</td>\n",
       "    </tr>\n",
       "  </tbody>\n",
       "</table>\n",
       "</div>"
      ],
      "text/plain": [
       "   Age         Workclass  Final Weight  EducationNum      Marital Status  \\\n",
       "0   39         State-gov         77516            13       Never-married   \n",
       "1   50  Self-emp-not-inc         83311            13  Married-civ-spouse   \n",
       "2   38           Private        215646             9            Divorced   \n",
       "3   53           Private        234721             7  Married-civ-spouse   \n",
       "4   28           Private        338409            13  Married-civ-spouse   \n",
       "\n",
       "          Occupation   Relationship   Race  Gender  Hours per Week Income  \n",
       "0       Adm-clerical  Not-in-family  White    Male              40  <=50K  \n",
       "1    Exec-managerial        Husband  White    Male              13  <=50K  \n",
       "2  Handlers-cleaners  Not-in-family  White    Male              40  <=50K  \n",
       "3  Handlers-cleaners        Husband  Black    Male              40  <=50K  \n",
       "4     Prof-specialty           Wife  Black  Female              40  <=50K  "
      ]
     },
     "execution_count": 40,
     "metadata": {},
     "output_type": "execute_result"
    }
   ],
   "source": [
    "df.head()"
   ]
  },
  {
   "cell_type": "markdown",
   "id": "cab66818",
   "metadata": {},
   "source": [
    "# Data encoding"
   ]
  },
  {
   "cell_type": "code",
   "execution_count": 41,
   "id": "8021fd54",
   "metadata": {},
   "outputs": [
    {
     "data": {
      "text/plain": [
       "['Workclass',\n",
       " 'EducationNum',\n",
       " 'Marital Status',\n",
       " 'Occupation',\n",
       " 'Relationship',\n",
       " 'Race']"
      ]
     },
     "execution_count": 41,
     "metadata": {},
     "output_type": "execute_result"
    }
   ],
   "source": [
    "ohe_cols = [col for col in df.columns if 42 >= df[col].nunique() > 2]\n",
    "ohe_cols"
   ]
  },
  {
   "cell_type": "code",
   "execution_count": 42,
   "id": "4dd11a84",
   "metadata": {},
   "outputs": [],
   "source": [
    "# label encoder\n",
    "\n",
    "def label_encoder(dataframe, binary_col):\n",
    "    labelencoder = LabelEncoder()\n",
    "    dataframe[binary_col] = labelencoder.fit_transform(dataframe[binary_col])\n",
    "    return dataframe\n",
    "\n",
    "for col in ['Income', 'Gender']:\n",
    "    df = label_encoder(df, col)"
   ]
  },
  {
   "cell_type": "code",
   "execution_count": 43,
   "id": "a4f5fae5",
   "metadata": {},
   "outputs": [],
   "source": [
    "def one_hot_encoder(dataframe, categorical_cols, drop_first=True):\n",
    "    encoded_data = dataframe.copy()  # Make a copy of the original DataFrame\n",
    "    \n",
    "    for col in categorical_cols:\n",
    "        dumm = pd.get_dummies(dataframe[col], prefix=col, dtype=int, drop_first=drop_first)\n",
    "        del encoded_data[col]\n",
    "        encoded_data = pd.concat([encoded_data, dumm], axis=1)\n",
    "    \n",
    "    return encoded_data\n",
    "\n",
    "df = one_hot_encoder(df, ['Workclass', 'Marital Status', 'Occupation', 'Relationship', 'Race'])"
   ]
  },
  {
   "cell_type": "code",
   "execution_count": 44,
   "id": "8a26263a",
   "metadata": {},
   "outputs": [
    {
     "data": {
      "text/plain": [
       "(46042, 42)"
      ]
     },
     "execution_count": 44,
     "metadata": {},
     "output_type": "execute_result"
    }
   ],
   "source": [
    "df.shape"
   ]
  },
  {
   "cell_type": "markdown",
   "id": "4e59ee6e",
   "metadata": {},
   "source": [
    "# Building models"
   ]
  },
  {
   "cell_type": "markdown",
   "id": "855860b3",
   "metadata": {},
   "source": [
    "### Spliting data"
   ]
  },
  {
   "cell_type": "code",
   "execution_count": 45,
   "id": "49767219",
   "metadata": {},
   "outputs": [],
   "source": [
    "X = df.drop(\"Income\", axis=1)\n",
    "y = df[\"Income\"]\n",
    "\n",
    "X_train, X_test, y_train, y_test = train_test_split(\n",
    "    X , y ,\n",
    "    test_size=0.2,\n",
    "    random_state=42\n",
    ")"
   ]
  },
  {
   "cell_type": "code",
   "execution_count": 46,
   "id": "8b27eb35",
   "metadata": {},
   "outputs": [
    {
     "name": "stdout",
     "output_type": "stream",
     "text": [
      "X_train shape: (36833, 41)\n",
      "y_train shape: (36833,)\n",
      "X_test shape: (9209, 41)\n",
      "y_test shape: (9209,)\n"
     ]
    }
   ],
   "source": [
    "print(\"X_train shape:\", X_train.shape)\n",
    "print(\"y_train shape:\", y_train.shape)\n",
    "print(\"X_test shape:\", X_test.shape)\n",
    "print(\"y_test shape:\", y_test.shape)"
   ]
  },
  {
   "cell_type": "markdown",
   "id": "5fda1b1b",
   "metadata": {},
   "source": [
    "### Define models"
   ]
  },
  {
   "cell_type": "code",
   "execution_count": 47,
   "id": "e44df6ad",
   "metadata": {},
   "outputs": [],
   "source": [
    "Models = [\n",
    "        \n",
    "        (\"SVM\",      SVC()),     #Support Vector Machines\n",
    "               \n",
    "        (\"kNN\",      KNeighborsClassifier(n_neighbors = 3)),    #KNeighborsClassifier\n",
    "\n",
    "        (\"LR_model\", LogisticRegression(random_state=42,n_jobs=-1)),   #Logistic Regression model\n",
    "\n",
    "        (\"DT_model\", DecisionTreeClassifier(random_state=42)),    #Decision tree model\n",
    "\n",
    "        (\"RF_model\", RandomForestClassifier(random_state=42, n_jobs=-1)),   #Random Forest model\n",
    "\n",
    "        (\"GradientBoosting\",GradientBoostingClassifier(max_depth=2,     #GradientBoosting model\n",
    "                                                      n_estimators=100))\n",
    "        ]"
   ]
  },
  {
   "cell_type": "code",
   "execution_count": 48,
   "id": "406d80a5",
   "metadata": {},
   "outputs": [
    {
     "name": "stdout",
     "output_type": "stream",
     "text": [
      "SVM Accuracy Score : 75.180%\n",
      "kNN Accuracy Score : 84.530%\n",
      "LR_model Accuracy Score : 75.180%\n",
      "DT_model Accuracy Score : 99.986%\n",
      "RF_model Accuracy Score : 99.978%\n",
      "GradientBoosting Accuracy Score : 83.260%\n"
     ]
    }
   ],
   "source": [
    "accuracies = {}\n",
    "models = {}\n",
    "model = Models\n",
    "for name,model in Models:\n",
    "    model.fit(X_train, y_train)\n",
    "    models[name] = model\n",
    "    acc = model.score(X_train, y_train)*100\n",
    "    accuracies[name] = acc\n",
    "    print(\"{} Accuracy Score : {:.3f}%\".format(name,acc))"
   ]
  },
  {
   "cell_type": "code",
   "execution_count": 49,
   "id": "ef67db85",
   "metadata": {},
   "outputs": [
    {
     "data": {
      "text/html": [
       "<div>\n",
       "<style scoped>\n",
       "    .dataframe tbody tr th:only-of-type {\n",
       "        vertical-align: middle;\n",
       "    }\n",
       "\n",
       "    .dataframe tbody tr th {\n",
       "        vertical-align: top;\n",
       "    }\n",
       "\n",
       "    .dataframe thead th {\n",
       "        text-align: right;\n",
       "    }\n",
       "</style>\n",
       "<table border=\"1\" class=\"dataframe\">\n",
       "  <thead>\n",
       "    <tr style=\"text-align: right;\">\n",
       "      <th></th>\n",
       "      <th>Model</th>\n",
       "      <th>Test score</th>\n",
       "    </tr>\n",
       "  </thead>\n",
       "  <tbody>\n",
       "    <tr>\n",
       "      <th>3</th>\n",
       "      <td>DT_model</td>\n",
       "      <td>99.986425</td>\n",
       "    </tr>\n",
       "    <tr>\n",
       "      <th>4</th>\n",
       "      <td>RF_model</td>\n",
       "      <td>99.978280</td>\n",
       "    </tr>\n",
       "    <tr>\n",
       "      <th>1</th>\n",
       "      <td>kNN</td>\n",
       "      <td>84.530177</td>\n",
       "    </tr>\n",
       "    <tr>\n",
       "      <th>5</th>\n",
       "      <td>GradientBoosting</td>\n",
       "      <td>83.259577</td>\n",
       "    </tr>\n",
       "    <tr>\n",
       "      <th>0</th>\n",
       "      <td>SVM</td>\n",
       "      <td>75.179866</td>\n",
       "    </tr>\n",
       "    <tr>\n",
       "      <th>2</th>\n",
       "      <td>LR_model</td>\n",
       "      <td>75.179866</td>\n",
       "    </tr>\n",
       "  </tbody>\n",
       "</table>\n",
       "</div>"
      ],
      "text/plain": [
       "              Model  Test score\n",
       "3          DT_model   99.986425\n",
       "4          RF_model   99.978280\n",
       "1               kNN   84.530177\n",
       "5  GradientBoosting   83.259577\n",
       "0               SVM   75.179866\n",
       "2          LR_model   75.179866"
      ]
     },
     "execution_count": 49,
     "metadata": {},
     "output_type": "execute_result"
    }
   ],
   "source": [
    "models_res = pd.DataFrame(data=accuracies.items())\n",
    "models_res.columns = ['Model','Test score']\n",
    "models_res.sort_values('Test score',ascending=False)"
   ]
  },
  {
   "cell_type": "code",
   "execution_count": 50,
   "id": "ff1f6773",
   "metadata": {},
   "outputs": [
    {
     "name": "stdout",
     "output_type": "stream",
     "text": [
      "99.99 %\n",
      "77.59 %\n"
     ]
    }
   ],
   "source": [
    "# Decision Tree\n",
    "DT_model = DecisionTreeClassifier()\n",
    "DT_model.fit(X_train, y_train)\n",
    "\n",
    "acc_train = round(DT_model.score(X_train, y_train) * 100, 2)\n",
    "print(acc_train, \"%\")\n",
    "\n",
    "acc_test = round(DT_model.score(X_test, y_test) * 100, 2)\n",
    "print(acc_test, \"%\")"
   ]
  },
  {
   "cell_type": "markdown",
   "id": "fddabc82",
   "metadata": {},
   "source": [
    "**it Sounds like overfitted.**\n",
    "\n",
    "**Let's set our paramerters to reduce the effect of overfitting.**"
   ]
  },
  {
   "cell_type": "code",
   "execution_count": 65,
   "id": "7163de76",
   "metadata": {},
   "outputs": [
    {
     "name": "stdout",
     "output_type": "stream",
     "text": [
      "83.22 %\n",
      "83.61 %\n"
     ]
    }
   ],
   "source": [
    "DT_model = DecisionTreeClassifier(max_depth=40, \n",
    "                                  max_features='auto',\n",
    "                                  min_samples_leaf=40,\n",
    "                                  min_samples_split=5,\n",
    "                                  random_state=42)\n",
    "\n",
    "DT_model.fit(X_train, y_train)\n",
    "\n",
    "acc_train = round(DT_model.score(X_train, y_train) * 100, 2)\n",
    "print(acc_train, \"%\")\n",
    "\n",
    "acc_test = round(DT_model.score(X_test, y_test) * 100, 2)\n",
    "print(acc_test, \"%\")"
   ]
  },
  {
   "cell_type": "markdown",
   "id": "4ad636ba",
   "metadata": {},
   "source": [
    "**We're almost done with the problem of overfitting.** "
   ]
  },
  {
   "cell_type": "markdown",
   "id": "6b5ede18",
   "metadata": {},
   "source": [
    "## Evaluate DT_model"
   ]
  },
  {
   "cell_type": "code",
   "execution_count": 71,
   "id": "243a141b",
   "metadata": {},
   "outputs": [],
   "source": [
    "Predictions = DT_model.predict(X_test)"
   ]
  },
  {
   "cell_type": "code",
   "execution_count": 72,
   "id": "7531b77d",
   "metadata": {},
   "outputs": [
    {
     "data": {
      "image/png": "[encoded data removed]",
      "text/plain": [
       "<Figure size 800x600 with 1 Axes>"
      ]
     },
     "metadata": {},
     "output_type": "display_data"
    }
   ],
   "source": [
    "# Create a confusion matrix\n",
    "cm = confusion_matrix(y_test, Predictions)\n",
    "\n",
    "# Plot confusion matrix using seaborn\n",
    "plt.figure(figsize=(8, 6))\n",
    "sns.heatmap(cm, annot=True, cmap=\"gray_r\", fmt=\"d\", cbar=False)\n",
    "plt.xlabel('Predicted Labels')\n",
    "plt.ylabel('True Labels')\n",
    "plt.title('Confusion Matrix')\n",
    "plt.show()"
   ]
  },
  {
   "cell_type": "code",
   "execution_count": 75,
   "id": "4f46cdb2",
   "metadata": {},
   "outputs": [
    {
     "name": "stdout",
     "output_type": "stream",
     "text": [
      "Precision: 0.83\n",
      "Recall: 0.84\n",
      "F1-score: 0.83\n"
     ]
    }
   ],
   "source": [
    "# Calculate precision, recall, and F1-score\n",
    "precision = precision_score(y_test, Predictions, average='weighted')\n",
    "recall = recall_score(y_test, Predictions, average='weighted')\n",
    "f1 = f1_score(y_test, Predictions, average='weighted')\n",
    "\n",
    "# Print evaluation metrics\n",
    "print(\"Precision: {:.2f}\".format(precision))\n",
    "print(\"Recall: {:.2f}\".format(recall))\n",
    "print(\"F1-score: {:.2f}\".format(f1))"
   ]
  },
  {
   "cell_type": "code",
   "execution_count": 74,
   "id": "5d346fa6",
   "metadata": {},
   "outputs": [
    {
     "name": "stdout",
     "output_type": "stream",
     "text": [
      "ROC-AUC-Score: 0.8829190118824266\n"
     ]
    }
   ],
   "source": [
    "#probabilities of our predictions\n",
    "y_scores = DT_model.predict_proba(X_test) \n",
    "\n",
    "Roc_Auc_Score = roc_auc_score(y_test, y_scores[:,1])\n",
    "print(\"ROC-AUC-Score:\", Roc_Auc_Score)"
   ]
  },
  {
   "cell_type": "code",
   "execution_count": 77,
   "id": "0da709a1",
   "metadata": {},
   "outputs": [
    {
     "data": {
      "image/png": "[encoded data removed]",
      "text/plain": [
       "<Figure size 640x480 with 1 Axes>"
      ]
     },
     "metadata": {},
     "output_type": "display_data"
    }
   ],
   "source": [
    "FPR, TPR, thresholds = roc_curve(y_test, y_scores[:,1])\n",
    "\n",
    "plt.plot(FPR, TPR)\n",
    "plt.plot([0, 1], [0, 1], 'g')\n",
    "plt.axis([0, 1, 0, 1])\n",
    "plt.xlabel('False Positive Rate (FPR)')\n",
    "plt.ylabel('True Positive Rate (TPR)')\n",
    "plt.title('Auc - Roc curve',fontsize=15);"
   ]
  },
  {
   "cell_type": "markdown",
   "id": "ceb5bd00",
   "metadata": {},
   "source": [
    "**ROC AUC Score: is the corresponding score to the ROC AUC Curve. It simply measure the area under the curve, which is called AUC.**\n",
    "\n",
    "**the score is good enough**"
   ]
  },
  {
   "cell_type": "markdown",
   "id": "a9d09c41",
   "metadata": {},
   "source": [
    "***\n",
    "\n",
    "<br>\n",
    "\n",
    "<div style=\"text-align: center;\">\n",
    "   <span style=\"font-size: 4.5em; font-weight: bold; font-family: Arial;\">THANK YOU!</span>\n",
    "</div>/\n",
    "\n",
    "<br>\n",
    "<br>\n",
    "\n",
    "<br>\n",
    "\n",
    "<div style=\"text-align: center;\">\n",
    "   <span style=\"font-size: 1.4em; font-weight: bold; font-family: Arial; max-width:1200px; display: inline-block;\">\n",
    "       If you find this notebook useful, I'd greatly appreciate your upvote!\n",
    "   </span>\n",
    "</div>"
   ]
  },
  {
   "cell_type": "code",
   "execution_count": null,
   "id": "24452f3c",
   "metadata": {},
   "outputs": [],
   "source": []
  }
 ],
 "metadata": {
  "kernelspec": {
   "display_name": "Python 3 (ipykernel)",
   "language": "python",
   "name": "python3"
  },
  "language_info": {
   "codemirror_mode": {
    "name": "ipython",
    "version": 3
   },
   "file_extension": ".py",
   "mimetype": "text/x-python",
   "name": "python",
   "nbconvert_exporter": "python",
   "pygments_lexer": "ipython3",
   "version": "3.9.13"
  }
 },
 "nbformat": 4,
 "nbformat_minor": 5
}
