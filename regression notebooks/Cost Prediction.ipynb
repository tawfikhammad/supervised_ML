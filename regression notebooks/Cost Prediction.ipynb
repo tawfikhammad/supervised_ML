{
 "cells": [
  {
   "cell_type": "code",
   "execution_count": 188,
   "id": "a35176f3",
   "metadata": {},
   "outputs": [],
   "source": [
    "import pandas as pd \n",
    "import numpy as np\n",
    "import matplotlib.pyplot as plt\n",
    "import seaborn as sns \n",
    "from scipy.stats import skew\n",
    "\n",
    "from sklearn.ensemble import RandomForestRegressor, VotingRegressor, ExtraTreesRegressor\n",
    "from sklearn.model_selection import GridSearchCV, cross_val_score, train_test_split\n",
    "from sklearn.metrics import mean_squared_error, mean_absolute_error\n",
    "from sklearn.preprocessing import OneHotEncoder,LabelEncoder, StandardScaler\n",
    "\n",
    "import warnings\n",
    "warnings.filterwarnings('ignore', category=RuntimeWarning)"
   ]
  },
  {
   "cell_type": "code",
   "execution_count": 189,
   "id": "98a8c538",
   "metadata": {},
   "outputs": [],
   "source": [
    "# import train data\n",
    "batch1 = pd.read_csv('Data/train/Train_Batch_1.csv')\n",
    "batch2 = pd.read_csv('Data/train/Train_Batch_2.csv')\n",
    "batch3 = pd.read_csv('Data/train/Train_Batch_3.csv')\n",
    "\n",
    "# import test data\n",
    "test = pd.read_csv('Data/test.csv')"
   ]
  },
  {
   "cell_type": "markdown",
   "id": "0a93f8d7",
   "metadata": {},
   "source": [
    "Train dataset is composed of numerous files, which could result in minor variations in certain column names or even the internal structure of the data.\n",
    "\n",
    "So, let's see how can deal with this problem."
   ]
  },
  {
   "cell_type": "markdown",
   "id": "626ece44",
   "metadata": {},
   "source": [
    "# <a id=\"1\"></a>\n",
    "<div style=\"padding: 30px;color:white;margin:10;font-size:170%;text-align:left;display:fill;border-radius:10px;background-color:#F1C40F;overflow:hidden;background-image: url(https://th.bing.com/th/id/R.3be5e39321febd4c1f758691e109c8bd?rik=lkhAzU4ulIuL0Q&riu=http%3a%2f%2fupload.wikimedia.org%2fwikipedia%2fcommons%2f5%2f56%2fRMS_Titanic_2.jpg&ehk=VbIvq0%2b63pXvH%2bl3Ln4tlz%2bwppwyoN%2fUTZDuGVYTHiQ%3d&risl=&pid=ImgRaw&r=0)\"><b><span style='color:#404040'> Data Understanding </span></b> </div>"
   ]
  },
  {
   "cell_type": "code",
   "execution_count": 190,
   "id": "62c9c810",
   "metadata": {},
   "outputs": [
    {
     "name": "stdout",
     "output_type": "stream",
     "text": [
      "(19440, 17)\n",
      "(12956, 18)\n",
      "(6466, 19)\n",
      "(19942, 18)\n"
     ]
    }
   ],
   "source": [
    "print(batch1.shape)\n",
    "print(batch2.shape)\n",
    "print(batch3.shape)\n",
    "print(test.shape)"
   ]
  },
  {
   "cell_type": "markdown",
   "id": "fbea6c60",
   "metadata": {},
   "source": [
    "**train data batchs have unsame shapes. We will solve it**"
   ]
  },
  {
   "cell_type": "code",
   "execution_count": 191,
   "id": "7daf4095",
   "metadata": {},
   "outputs": [
    {
     "name": "stdout",
     "output_type": "stream",
     "text": [
      "Index(['Unnamed: 0', 'Person Description', 'Place Code', 'Customer Order',\n",
      "       'Additional Features in market', 'Promotion Name', 'Store Kind',\n",
      "       'Store Sales', 'Store Cost', 'Product Weights Data in (KG)',\n",
      "       'Is Recyclable?', 'Min. Yearly Income', 'Store Area', 'Grocery Area',\n",
      "       'Frozen Area', 'Meat Area', 'Cost'],\n",
      "      dtype='object')\n",
      "----------------\n",
      "Index(['Unnamed: 0', 'Person Description', 'Place Code', 'Customer Order',\n",
      "       'Additional Features in market', 'Promotion Name', 'Store Kind',\n",
      "       'Store Sales', 'Store Cost', 'Gross Weight', 'Net Weight',\n",
      "       'Is Recyclable?', 'Min. Person Yearly Income', 'Store Area',\n",
      "       'Grocery Area', 'Frozen Area', 'Meat Area', 'Cost'],\n",
      "      dtype='object')\n",
      "----------------\n",
      "Index(['Unnamed: 0', 'Person%20Description', 'Place%20Code',\n",
      "       'Customer%20Order', 'Additional%20Features%20in%20market',\n",
      "       'Promotion%20Name', 'Store%20Kind', 'Store%20Sales', 'Store%20Cost',\n",
      "       'Gross%20Weight', 'Net%20Weight', 'Weights%20Data', 'Is%20Recyclable?',\n",
      "       'Yearly%20Income', 'Store%20Area', 'Grocery%20Area', 'Frozen%20Area',\n",
      "       'Meat%20Area', 'Cost'],\n",
      "      dtype='object')\n"
     ]
    }
   ],
   "source": [
    "print(batch1.columns)\n",
    "print('----------------')\n",
    "print(batch2.columns)\n",
    "print('----------------')\n",
    "print(batch3.columns)"
   ]
  },
  {
   "cell_type": "markdown",
   "id": "355703d4",
   "metadata": {},
   "source": [
    "**And these columns have differant names. Let's handle that..**"
   ]
  },
  {
   "cell_type": "code",
   "execution_count": 192,
   "id": "ebff2a77",
   "metadata": {},
   "outputs": [
    {
     "data": {
      "text/html": [
       "<div>\n",
       "<style scoped>\n",
       "    .dataframe tbody tr th:only-of-type {\n",
       "        vertical-align: middle;\n",
       "    }\n",
       "\n",
       "    .dataframe tbody tr th {\n",
       "        vertical-align: top;\n",
       "    }\n",
       "\n",
       "    .dataframe thead th {\n",
       "        text-align: right;\n",
       "    }\n",
       "</style>\n",
       "<table border=\"1\" class=\"dataframe\">\n",
       "  <thead>\n",
       "    <tr style=\"text-align: right;\">\n",
       "      <th></th>\n",
       "      <th>mean of nulls</th>\n",
       "      <th>num of nulls</th>\n",
       "    </tr>\n",
       "  </thead>\n",
       "  <tbody>\n",
       "    <tr>\n",
       "      <th>Additional Features in market</th>\n",
       "      <td>0.221193</td>\n",
       "      <td>4300</td>\n",
       "    </tr>\n",
       "    <tr>\n",
       "      <th>Promotion Name</th>\n",
       "      <td>0.149691</td>\n",
       "      <td>2910</td>\n",
       "    </tr>\n",
       "    <tr>\n",
       "      <th>Store Kind</th>\n",
       "      <td>0.149691</td>\n",
       "      <td>2910</td>\n",
       "    </tr>\n",
       "    <tr>\n",
       "      <th>Grocery Area</th>\n",
       "      <td>0.101852</td>\n",
       "      <td>1980</td>\n",
       "    </tr>\n",
       "    <tr>\n",
       "      <th>Store Area</th>\n",
       "      <td>0.100669</td>\n",
       "      <td>1957</td>\n",
       "    </tr>\n",
       "    <tr>\n",
       "      <th>Meat Area</th>\n",
       "      <td>0.100206</td>\n",
       "      <td>1948</td>\n",
       "    </tr>\n",
       "    <tr>\n",
       "      <th>Frozen Area</th>\n",
       "      <td>0.099486</td>\n",
       "      <td>1934</td>\n",
       "    </tr>\n",
       "    <tr>\n",
       "      <th>Cost</th>\n",
       "      <td>0.001235</td>\n",
       "      <td>24</td>\n",
       "    </tr>\n",
       "    <tr>\n",
       "      <th>Min. Yearly Income</th>\n",
       "      <td>0.000154</td>\n",
       "      <td>3</td>\n",
       "    </tr>\n",
       "  </tbody>\n",
       "</table>\n",
       "</div>"
      ],
      "text/plain": [
       "                               mean of nulls  num of nulls\n",
       "Additional Features in market       0.221193          4300\n",
       "Promotion Name                      0.149691          2910\n",
       "Store Kind                          0.149691          2910\n",
       "Grocery Area                        0.101852          1980\n",
       "Store Area                          0.100669          1957\n",
       "Meat Area                           0.100206          1948\n",
       "Frozen Area                         0.099486          1934\n",
       "Cost                                0.001235            24\n",
       "Min. Yearly Income                  0.000154             3"
      ]
     },
     "execution_count": 192,
     "metadata": {},
     "output_type": "execute_result"
    }
   ],
   "source": [
    "batch1_na = (batch1.isna().sum() / len(batch1)) \n",
    "batch1_na = batch1_na.drop(batch1_na[batch1_na == 0].index).sort_values(ascending=False)\n",
    "batch1_na_data = pd.DataFrame({'mean of nulls' :batch1_na, \"num of nulls\" : batch1[batch1_na.index].isna().sum()})\n",
    "batch1_na_data"
   ]
  },
  {
   "cell_type": "code",
   "execution_count": 193,
   "id": "37f3122f",
   "metadata": {},
   "outputs": [
    {
     "data": {
      "text/html": [
       "<div>\n",
       "<style scoped>\n",
       "    .dataframe tbody tr th:only-of-type {\n",
       "        vertical-align: middle;\n",
       "    }\n",
       "\n",
       "    .dataframe tbody tr th {\n",
       "        vertical-align: top;\n",
       "    }\n",
       "\n",
       "    .dataframe thead th {\n",
       "        text-align: right;\n",
       "    }\n",
       "</style>\n",
       "<table border=\"1\" class=\"dataframe\">\n",
       "  <thead>\n",
       "    <tr style=\"text-align: right;\">\n",
       "      <th></th>\n",
       "      <th>mean of nulls</th>\n",
       "      <th>num of nulls</th>\n",
       "    </tr>\n",
       "  </thead>\n",
       "  <tbody>\n",
       "    <tr>\n",
       "      <th>Gross Weight</th>\n",
       "      <td>0.149892</td>\n",
       "      <td>1942</td>\n",
       "    </tr>\n",
       "    <tr>\n",
       "      <th>Net Weight</th>\n",
       "      <td>0.149583</td>\n",
       "      <td>1938</td>\n",
       "    </tr>\n",
       "    <tr>\n",
       "      <th>Frozen Area</th>\n",
       "      <td>0.100262</td>\n",
       "      <td>1299</td>\n",
       "    </tr>\n",
       "    <tr>\n",
       "      <th>Grocery Area</th>\n",
       "      <td>0.100185</td>\n",
       "      <td>1298</td>\n",
       "    </tr>\n",
       "    <tr>\n",
       "      <th>Store Area</th>\n",
       "      <td>0.099799</td>\n",
       "      <td>1293</td>\n",
       "    </tr>\n",
       "    <tr>\n",
       "      <th>Promotion Name</th>\n",
       "      <td>0.099645</td>\n",
       "      <td>1291</td>\n",
       "    </tr>\n",
       "    <tr>\n",
       "      <th>Store Kind</th>\n",
       "      <td>0.098256</td>\n",
       "      <td>1273</td>\n",
       "    </tr>\n",
       "    <tr>\n",
       "      <th>Meat Area</th>\n",
       "      <td>0.097870</td>\n",
       "      <td>1268</td>\n",
       "    </tr>\n",
       "    <tr>\n",
       "      <th>Min. Person Yearly Income</th>\n",
       "      <td>0.000309</td>\n",
       "      <td>4</td>\n",
       "    </tr>\n",
       "    <tr>\n",
       "      <th>Cost</th>\n",
       "      <td>0.000232</td>\n",
       "      <td>3</td>\n",
       "    </tr>\n",
       "    <tr>\n",
       "      <th>Customer Order</th>\n",
       "      <td>0.000154</td>\n",
       "      <td>2</td>\n",
       "    </tr>\n",
       "    <tr>\n",
       "      <th>Store Sales</th>\n",
       "      <td>0.000077</td>\n",
       "      <td>1</td>\n",
       "    </tr>\n",
       "  </tbody>\n",
       "</table>\n",
       "</div>"
      ],
      "text/plain": [
       "                           mean of nulls  num of nulls\n",
       "Gross Weight                    0.149892          1942\n",
       "Net Weight                      0.149583          1938\n",
       "Frozen Area                     0.100262          1299\n",
       "Grocery Area                    0.100185          1298\n",
       "Store Area                      0.099799          1293\n",
       "Promotion Name                  0.099645          1291\n",
       "Store Kind                      0.098256          1273\n",
       "Meat Area                       0.097870          1268\n",
       "Min. Person Yearly Income       0.000309             4\n",
       "Cost                            0.000232             3\n",
       "Customer Order                  0.000154             2\n",
       "Store Sales                     0.000077             1"
      ]
     },
     "execution_count": 193,
     "metadata": {},
     "output_type": "execute_result"
    }
   ],
   "source": [
    "batch2_na = (batch2.isna().sum() / len(batch2)) \n",
    "batch2_na = batch2_na.drop(batch2_na[batch2_na == 0].index).sort_values(ascending=False)\n",
    "batch2_na_data = pd.DataFrame({'mean of nulls' :batch2_na, \"num of nulls\" : batch2[batch2_na.index].isna().sum()})\n",
    "batch2_na_data"
   ]
  },
  {
   "cell_type": "code",
   "execution_count": 194,
   "id": "087bde2c",
   "metadata": {},
   "outputs": [
    {
     "data": {
      "text/html": [
       "<div>\n",
       "<style scoped>\n",
       "    .dataframe tbody tr th:only-of-type {\n",
       "        vertical-align: middle;\n",
       "    }\n",
       "\n",
       "    .dataframe tbody tr th {\n",
       "        vertical-align: top;\n",
       "    }\n",
       "\n",
       "    .dataframe thead th {\n",
       "        text-align: right;\n",
       "    }\n",
       "</style>\n",
       "<table border=\"1\" class=\"dataframe\">\n",
       "  <thead>\n",
       "    <tr style=\"text-align: right;\">\n",
       "      <th></th>\n",
       "      <th>mean of nulls</th>\n",
       "      <th>num of nulls</th>\n",
       "    </tr>\n",
       "  </thead>\n",
       "  <tbody>\n",
       "    <tr>\n",
       "      <th>Promotion%20Name</th>\n",
       "      <td>0.251624</td>\n",
       "      <td>1627</td>\n",
       "    </tr>\n",
       "    <tr>\n",
       "      <th>Store%20Kind</th>\n",
       "      <td>0.251469</td>\n",
       "      <td>1626</td>\n",
       "    </tr>\n",
       "    <tr>\n",
       "      <th>Gross%20Weight</th>\n",
       "      <td>0.150789</td>\n",
       "      <td>975</td>\n",
       "    </tr>\n",
       "    <tr>\n",
       "      <th>Net%20Weight</th>\n",
       "      <td>0.147696</td>\n",
       "      <td>955</td>\n",
       "    </tr>\n",
       "    <tr>\n",
       "      <th>Meat%20Area</th>\n",
       "      <td>0.051500</td>\n",
       "      <td>333</td>\n",
       "    </tr>\n",
       "    <tr>\n",
       "      <th>Grocery%20Area</th>\n",
       "      <td>0.050727</td>\n",
       "      <td>328</td>\n",
       "    </tr>\n",
       "    <tr>\n",
       "      <th>Frozen%20Area</th>\n",
       "      <td>0.049335</td>\n",
       "      <td>319</td>\n",
       "    </tr>\n",
       "    <tr>\n",
       "      <th>Store%20Area</th>\n",
       "      <td>0.048716</td>\n",
       "      <td>315</td>\n",
       "    </tr>\n",
       "    <tr>\n",
       "      <th>Store%20Sales</th>\n",
       "      <td>0.002165</td>\n",
       "      <td>14</td>\n",
       "    </tr>\n",
       "    <tr>\n",
       "      <th>Store%20Cost</th>\n",
       "      <td>0.001083</td>\n",
       "      <td>7</td>\n",
       "    </tr>\n",
       "    <tr>\n",
       "      <th>Cost</th>\n",
       "      <td>0.000619</td>\n",
       "      <td>4</td>\n",
       "    </tr>\n",
       "    <tr>\n",
       "      <th>Is%20Recyclable?</th>\n",
       "      <td>0.000309</td>\n",
       "      <td>2</td>\n",
       "    </tr>\n",
       "    <tr>\n",
       "      <th>Yearly%20Income</th>\n",
       "      <td>0.000155</td>\n",
       "      <td>1</td>\n",
       "    </tr>\n",
       "  </tbody>\n",
       "</table>\n",
       "</div>"
      ],
      "text/plain": [
       "                  mean of nulls  num of nulls\n",
       "Promotion%20Name       0.251624          1627\n",
       "Store%20Kind           0.251469          1626\n",
       "Gross%20Weight         0.150789           975\n",
       "Net%20Weight           0.147696           955\n",
       "Meat%20Area            0.051500           333\n",
       "Grocery%20Area         0.050727           328\n",
       "Frozen%20Area          0.049335           319\n",
       "Store%20Area           0.048716           315\n",
       "Store%20Sales          0.002165            14\n",
       "Store%20Cost           0.001083             7\n",
       "Cost                   0.000619             4\n",
       "Is%20Recyclable?       0.000309             2\n",
       "Yearly%20Income        0.000155             1"
      ]
     },
     "execution_count": 194,
     "metadata": {},
     "output_type": "execute_result"
    }
   ],
   "source": [
    "batch3_na = (batch3.isna().sum() / len(batch3)) \n",
    "batch3_na = batch3_na.drop(batch3_na[batch3_na == 0].index).sort_values(ascending=False)\n",
    "batch3_na_data = pd.DataFrame({'mean of nulls' :batch3_na, \"num of nulls\" : batch3[batch3_na.index].isna().sum()})\n",
    "batch3_na_data"
   ]
  },
  {
   "cell_type": "markdown",
   "id": "d038bb4c",
   "metadata": {},
   "source": [
    "**There are alot of missing data in each batch. We also will fix it**"
   ]
  },
  {
   "cell_type": "markdown",
   "id": "f13fdcf9",
   "metadata": {},
   "source": [
    "We will create functions and apply these functions on all batchs and test set.\n",
    "The functions will unify the names of the columns in each data and correct the data of each column. "
   ]
  },
  {
   "cell_type": "markdown",
   "id": "c0c689e5",
   "metadata": {},
   "source": [
    "# <a id=\"1\"></a>\n",
    "<div style=\"padding: 30px;color:white;margin:10;font-size:170%;text-align:left;display:fill;border-radius:10px;background-color:#F1C40F;overflow:hidden;background-image: url(https://th.bing.com/th/id/R.3be5e39321febd4c1f758691e109c8bd?rik=lkhAzU4ulIuL0Q&riu=http%3a%2f%2fupload.wikimedia.org%2fwikipedia%2fcommons%2f5%2f56%2fRMS_Titanic_2.jpg&ehk=VbIvq0%2b63pXvH%2bl3Ln4tlz%2bwppwyoN%2fUTZDuGVYTHiQ%3d&risl=&pid=ImgRaw&r=0)\"><b><span style='color:#404040'> Feature Engineering  and Data Cleaning </span></b> </div>"
   ]
  },
  {
   "cell_type": "code",
   "execution_count": 195,
   "id": "78c0cad0",
   "metadata": {},
   "outputs": [
    {
     "data": {
      "text/html": [
       "<div>\n",
       "<style scoped>\n",
       "    .dataframe tbody tr th:only-of-type {\n",
       "        vertical-align: middle;\n",
       "    }\n",
       "\n",
       "    .dataframe tbody tr th {\n",
       "        vertical-align: top;\n",
       "    }\n",
       "\n",
       "    .dataframe thead th {\n",
       "        text-align: right;\n",
       "    }\n",
       "</style>\n",
       "<table border=\"1\" class=\"dataframe\">\n",
       "  <thead>\n",
       "    <tr style=\"text-align: right;\">\n",
       "      <th></th>\n",
       "      <th>Unnamed: 0</th>\n",
       "      <th>Person Description</th>\n",
       "      <th>Place Code</th>\n",
       "      <th>Customer Order</th>\n",
       "      <th>Additional Features in market</th>\n",
       "      <th>Promotion Name</th>\n",
       "      <th>Store Kind</th>\n",
       "      <th>Store Sales</th>\n",
       "      <th>Store Cost</th>\n",
       "      <th>Product Weights Data in (KG)</th>\n",
       "      <th>Is Recyclable?</th>\n",
       "      <th>Min. Yearly Income</th>\n",
       "      <th>Store Area</th>\n",
       "      <th>Grocery Area</th>\n",
       "      <th>Frozen Area</th>\n",
       "      <th>Meat Area</th>\n",
       "      <th>Cost</th>\n",
       "    </tr>\n",
       "  </thead>\n",
       "  <tbody>\n",
       "    <tr>\n",
       "      <th>0</th>\n",
       "      <td>mc_ID_0</td>\n",
       "      <td>Single Female with four children, education: b...</td>\n",
       "      <td>H11go_ZA</td>\n",
       "      <td>Cleaning Supplies from Household department, O...</td>\n",
       "      <td>['Video Store', 'Florist', 'Ready Food', 'Coff...</td>\n",
       "      <td>Dimes Off</td>\n",
       "      <td>Deluxe</td>\n",
       "      <td>8.76 Millions</td>\n",
       "      <td>4.2924 Millions</td>\n",
       "      <td>{'Gross Weight': 28.1997, 'Net Weight': 26.600...</td>\n",
       "      <td>recyclable</td>\n",
       "      <td>10K+</td>\n",
       "      <td>2842.23</td>\n",
       "      <td>2037.64</td>\n",
       "      <td>481.98</td>\n",
       "      <td>323</td>\n",
       "      <td>602.7575</td>\n",
       "    </tr>\n",
       "    <tr>\n",
       "      <th>1</th>\n",
       "      <td>mc_ID_1</td>\n",
       "      <td>Single Female with three children, education: ...</td>\n",
       "      <td>S04ne_WA</td>\n",
       "      <td>Snack Foods from Snack Foods department, Order...</td>\n",
       "      <td>NaN</td>\n",
       "      <td>Budget Bargains</td>\n",
       "      <td>Supermarket</td>\n",
       "      <td>6.36 Millions</td>\n",
       "      <td>1.9716 Millions</td>\n",
       "      <td>{'Gross Weight': 16.571, 'Net Weight': 14.972,...</td>\n",
       "      <td>non recyclable</td>\n",
       "      <td>50K+</td>\n",
       "      <td>2814.95</td>\n",
       "      <td>2049.72</td>\n",
       "      <td>457.36</td>\n",
       "      <td>NaN</td>\n",
       "      <td>708.6650</td>\n",
       "    </tr>\n",
       "    <tr>\n",
       "      <th>2</th>\n",
       "      <td>mc_ID_2</td>\n",
       "      <td>Married Male with two children, education: hig...</td>\n",
       "      <td>L05es_CA</td>\n",
       "      <td>Magazines from Periodicals department, Ordered...</td>\n",
       "      <td>['Florist']</td>\n",
       "      <td>Shelf Emptiers</td>\n",
       "      <td>Supermarket</td>\n",
       "      <td>10.86 Millions</td>\n",
       "      <td>4.4526 Millions</td>\n",
       "      <td>{'Gross Weight': 28.6358, 'Net Weight': 27.182...</td>\n",
       "      <td>recyclable</td>\n",
       "      <td>30K+</td>\n",
       "      <td>2192.32</td>\n",
       "      <td>1322.21</td>\n",
       "      <td>523.32</td>\n",
       "      <td>348.85</td>\n",
       "      <td>564.2647</td>\n",
       "    </tr>\n",
       "  </tbody>\n",
       "</table>\n",
       "</div>"
      ],
      "text/plain": [
       "  Unnamed: 0                                 Person Description Place Code  \\\n",
       "0    mc_ID_0  Single Female with four children, education: b...   H11go_ZA   \n",
       "1    mc_ID_1  Single Female with three children, education: ...   S04ne_WA   \n",
       "2    mc_ID_2  Married Male with two children, education: hig...   L05es_CA   \n",
       "\n",
       "                                      Customer Order  \\\n",
       "0  Cleaning Supplies from Household department, O...   \n",
       "1  Snack Foods from Snack Foods department, Order...   \n",
       "2  Magazines from Periodicals department, Ordered...   \n",
       "\n",
       "                       Additional Features in market   Promotion Name  \\\n",
       "0  ['Video Store', 'Florist', 'Ready Food', 'Coff...        Dimes Off   \n",
       "1                                                NaN  Budget Bargains   \n",
       "2                                        ['Florist']   Shelf Emptiers   \n",
       "\n",
       "    Store Kind     Store Sales       Store Cost  \\\n",
       "0       Deluxe   8.76 Millions  4.2924 Millions   \n",
       "1  Supermarket   6.36 Millions  1.9716 Millions   \n",
       "2  Supermarket  10.86 Millions  4.4526 Millions   \n",
       "\n",
       "                        Product Weights Data in (KG)  Is Recyclable?  \\\n",
       "0  {'Gross Weight': 28.1997, 'Net Weight': 26.600...      recyclable   \n",
       "1  {'Gross Weight': 16.571, 'Net Weight': 14.972,...  non recyclable   \n",
       "2  {'Gross Weight': 28.6358, 'Net Weight': 27.182...      recyclable   \n",
       "\n",
       "  Min. Yearly Income Store Area Grocery Area  Frozen Area Meat Area      Cost  \n",
       "0               10K+    2842.23      2037.64       481.98       323  602.7575  \n",
       "1               50K+    2814.95      2049.72       457.36       NaN  708.6650  \n",
       "2               30K+    2192.32      1322.21       523.32    348.85  564.2647  "
      ]
     },
     "execution_count": 195,
     "metadata": {},
     "output_type": "execute_result"
    }
   ],
   "source": [
    "batch1.head(3)"
   ]
  },
  {
   "cell_type": "markdown",
   "id": "0b7932e3",
   "metadata": {},
   "source": [
    "As you can see. This very uncleaned data with very trouble internal structure.\n",
    "let's clean it.\n",
    "\n",
    "### **<mark style=\"color:#404040;border-radius:20px;opacity:1.5;background-image: url(https://th.bing.com/th/id/R.3be5e39321febd4c1f758691e109c8bd?rik=lkhAzU4ulIuL0Q&riu=http%3a%2f%2fupload.wikimedia.org%2fwikipedia%2fcommons%2f5%2f56%2fRMS_Titanic_2.jpg&ehk=VbIvq0%2b63pXvH%2bl3Ln4tlz%2bwppwyoN%2fUTZDuGVYTHiQ%3d&risl=&pid=ImgRaw&r=0)\"> Person Description column </mark>**\n",
    "<br>\n",
    "\n",
    "We will extract information like: `Marital Status`, `Gender`, `Num Children` and `Education`.\n",
    "we will put each in seperated column and drop original column."
   ]
  },
  {
   "cell_type": "code",
   "execution_count": 196,
   "id": "2f48145e",
   "metadata": {},
   "outputs": [
    {
     "data": {
      "text/plain": [
       "Married Female with four children, education: bachelors degree working as professional         270\n",
       "Single Male with one child, education: bachelors degree working as professional                253\n",
       "Married Female with four children, education: partial high school working as skilled manual    245\n",
       "Married Male with three children, education: bachelors degree working as professional          237\n",
       "Single Male with three children, education: bachelors degree working as professional           217\n",
       "Name: Person Description, dtype: int64"
      ]
     },
     "execution_count": 196,
     "metadata": {},
     "output_type": "execute_result"
    }
   ],
   "source": [
    "batch1['Person Description'].value_counts()[:5]"
   ]
  },
  {
   "cell_type": "code",
   "execution_count": 197,
   "id": "b821ca8f",
   "metadata": {},
   "outputs": [],
   "source": [
    "def clean_Person_Description_column(df, column):\n",
    "    \n",
    "    # Split the \"Person Description\" column based on delimiters\n",
    "    df[\"Description\"] = df[column].str.split(\",\", expand=True)[[0]]\n",
    "\n",
    "    # Extracting\n",
    "    df[[\"Marital Status\", \"Gender\", \"Num Children\"]] = df[\"Description\"].str.split(\" \", expand=True)[[0, 1, 3]]\n",
    "                                       \n",
    "    # Clean up whitespace\n",
    "    df = df.applymap(lambda x: x.strip() if isinstance(x, str) else x)\n",
    "    \n",
    "    # Drop the original \"Person Description\" column\n",
    "    df.drop(columns=[column, \"Description\"], inplace=True)\n",
    "    \n",
    "    return df"
   ]
  },
  {
   "cell_type": "code",
   "execution_count": 198,
   "id": "a64640e9",
   "metadata": {},
   "outputs": [],
   "source": [
    "# apply function on dataframes\n",
    "\n",
    "batch1= clean_Person_Description_column(batch1, 'Person Description')\n",
    "batch2= clean_Person_Description_column(batch2, 'Person Description')\n",
    "batch3= clean_Person_Description_column(batch3, 'Person%20Description')\n",
    "\n",
    "#---------------------------------------------\n",
    "test= clean_Person_Description_column(test, 'Person Description')"
   ]
  },
  {
   "cell_type": "markdown",
   "id": "f6892c23",
   "metadata": {},
   "source": [
    "### **<mark style=\"color:#404040;border-radius:20px;opacity:1.5;background-image: url(https://th.bing.com/th/id/R.3be5e39321febd4c1f758691e109c8bd?rik=lkhAzU4ulIuL0Q&riu=http%3a%2f%2fupload.wikimedia.org%2fwikipedia%2fcommons%2f5%2f56%2fRMS_Titanic_2.jpg&ehk=VbIvq0%2b63pXvH%2bl3Ln4tlz%2bwppwyoN%2fUTZDuGVYTHiQ%3d&risl=&pid=ImgRaw&r=0)\">Place Code column </mark>**\n",
    "<br>"
   ]
  },
  {
   "cell_type": "code",
   "execution_count": 199,
   "id": "efc89cae",
   "metadata": {},
   "outputs": [
    {
     "data": {
      "text/plain": [
       "0    H11go_ZA\n",
       "1    S04ne_WA\n",
       "2    L05es_CA\n",
       "3    S03le_WA\n",
       "4    M10da_YU\n",
       "Name: Place Code, dtype: object"
      ]
     },
     "execution_count": 199,
     "metadata": {},
     "output_type": "execute_result"
    }
   ],
   "source": [
    "batch1['Place Code'].head()"
   ]
  },
  {
   "cell_type": "markdown",
   "id": "b8f22929",
   "metadata": {},
   "source": [
    "Code for each place which consists of 2 city codes parts separated by \"_\".\n",
    "\n",
    "We will split each value at  \"_\"  to extract ISO2 code for the place."
   ]
  },
  {
   "cell_type": "raw",
   "id": "1f4d686e",
   "metadata": {},
   "source": [
    "def clean_Place_Code_column(df, column):\n",
    "    \n",
    "    # Split\n",
    "    df[\"Place code\"] = df[column].str.split(\"_\", expand=True)[[1]]\n",
    "    \n",
    "    df.drop(columns=column, inplace=True)\n",
    "    return df\n"
   ]
  },
  {
   "cell_type": "raw",
   "id": "5112f014",
   "metadata": {},
   "source": [
    "batch1= clean_Place_Code_column(batch1, \"Place Code\")\n",
    "batch2= clean_Place_Code_column(batch2, \"Place Code\")\n",
    "batch3= clean_Place_Code_column(batch3, \"Place%20Code\")\n",
    "\n",
    "#-----------------------------------------------\n",
    "test= clean_Place_Code_column(test, \"Place Code\")"
   ]
  },
  {
   "cell_type": "code",
   "execution_count": 200,
   "id": "a0844ca7",
   "metadata": {},
   "outputs": [],
   "source": [
    "batch3.rename(columns={\"Place%20Code\": 'Place Code'}, inplace=True)"
   ]
  },
  {
   "cell_type": "markdown",
   "id": "2f2a939a",
   "metadata": {},
   "source": [
    "### **<mark style=\"color:#404040;border-radius:20px;opacity:1.5;background-image: url(https://th.bing.com/th/id/R.3be5e39321febd4c1f758691e109c8bd?rik=lkhAzU4ulIuL0Q&riu=http%3a%2f%2fupload.wikimedia.org%2fwikipedia%2fcommons%2f5%2f56%2fRMS_Titanic_2.jpg&ehk=VbIvq0%2b63pXvH%2bl3Ln4tlz%2bwppwyoN%2fUTZDuGVYTHiQ%3d&risl=&pid=ImgRaw&r=0)\">Customer Order column  </mark>**\n",
    "<br>"
   ]
  },
  {
   "cell_type": "code",
   "execution_count": 201,
   "id": "307e855d",
   "metadata": {},
   "outputs": [
    {
     "data": {
      "text/plain": [
       "Snack Foods from Snack Foods department, Ordered Brand : Fast           468\n",
       "Snack Foods from Snack Foods department, Ordered Brand : Nationeel      465\n",
       "Snack Foods from Snack Foods department, Ordered Brand : Horatio        444\n",
       "Snack Foods from Snack Foods department, Ordered Brand : Fort West      443\n",
       "Snack Foods from Snack Foods department, Ordered Brand : Best Choice    412\n",
       "Name: Customer Order, dtype: int64"
      ]
     },
     "execution_count": 201,
     "metadata": {},
     "output_type": "execute_result"
    }
   ],
   "source": [
    "batch1[\"Customer Order\"].value_counts()[:5]"
   ]
  },
  {
   "cell_type": "markdown",
   "id": "8edc7cd2",
   "metadata": {},
   "source": [
    "We will extract `customer order` information not `department` of order and `Ordered Brand`.\n",
    "I find this will be useful."
   ]
  },
  {
   "cell_type": "code",
   "execution_count": 202,
   "id": "4d635dbd",
   "metadata": {},
   "outputs": [],
   "source": [
    "def clean_Customer_Order_column(df, column):\n",
    "    \n",
    "    # Split the \"Customer Order \" column \n",
    "    df[[\"Customer order\"]] = df[column].str.split(\" from | department\", expand=True)[[0]]\n",
    "    \n",
    "    df.drop(columns=column, inplace= True)\n",
    "    return df\n"
   ]
  },
  {
   "cell_type": "code",
   "execution_count": 203,
   "id": "094de69c",
   "metadata": {},
   "outputs": [],
   "source": [
    "batch1= clean_Customer_Order_column(batch1, 'Customer Order')\n",
    "batch2= clean_Customer_Order_column(batch2, 'Customer Order')\n",
    "batch3= clean_Customer_Order_column(batch3, 'Customer%20Order')\n",
    "\n",
    "#-------------------------------------\n",
    "test= clean_Customer_Order_column(test, 'Customer Order')"
   ]
  },
  {
   "cell_type": "code",
   "execution_count": 204,
   "id": "f6e0cc7d",
   "metadata": {},
   "outputs": [
    {
     "data": {
      "text/html": [
       "<div>\n",
       "<style scoped>\n",
       "    .dataframe tbody tr th:only-of-type {\n",
       "        vertical-align: middle;\n",
       "    }\n",
       "\n",
       "    .dataframe tbody tr th {\n",
       "        vertical-align: top;\n",
       "    }\n",
       "\n",
       "    .dataframe thead th {\n",
       "        text-align: right;\n",
       "    }\n",
       "</style>\n",
       "<table border=\"1\" class=\"dataframe\">\n",
       "  <thead>\n",
       "    <tr style=\"text-align: right;\">\n",
       "      <th></th>\n",
       "      <th>Unnamed: 0</th>\n",
       "      <th>Place Code</th>\n",
       "      <th>Additional Features in market</th>\n",
       "      <th>Promotion Name</th>\n",
       "      <th>Store Kind</th>\n",
       "      <th>Store Sales</th>\n",
       "      <th>Store Cost</th>\n",
       "      <th>Product Weights Data in (KG)</th>\n",
       "      <th>Is Recyclable?</th>\n",
       "      <th>Min. Yearly Income</th>\n",
       "      <th>Store Area</th>\n",
       "      <th>Grocery Area</th>\n",
       "      <th>Frozen Area</th>\n",
       "      <th>Meat Area</th>\n",
       "      <th>Cost</th>\n",
       "      <th>Marital Status</th>\n",
       "      <th>Gender</th>\n",
       "      <th>Num Children</th>\n",
       "      <th>Customer order</th>\n",
       "    </tr>\n",
       "  </thead>\n",
       "  <tbody>\n",
       "    <tr>\n",
       "      <th>0</th>\n",
       "      <td>mc_ID_0</td>\n",
       "      <td>H11go_ZA</td>\n",
       "      <td>['Video Store', 'Florist', 'Ready Food', 'Coff...</td>\n",
       "      <td>Dimes Off</td>\n",
       "      <td>Deluxe</td>\n",
       "      <td>8.76 Millions</td>\n",
       "      <td>4.2924 Millions</td>\n",
       "      <td>{'Gross Weight': 28.1997, 'Net Weight': 26.600...</td>\n",
       "      <td>recyclable</td>\n",
       "      <td>10K+</td>\n",
       "      <td>2842.23</td>\n",
       "      <td>2037.64</td>\n",
       "      <td>481.98</td>\n",
       "      <td>323</td>\n",
       "      <td>602.7575</td>\n",
       "      <td>Single</td>\n",
       "      <td>Female</td>\n",
       "      <td>four</td>\n",
       "      <td>Cleaning Supplies</td>\n",
       "    </tr>\n",
       "    <tr>\n",
       "      <th>1</th>\n",
       "      <td>mc_ID_1</td>\n",
       "      <td>S04ne_WA</td>\n",
       "      <td>NaN</td>\n",
       "      <td>Budget Bargains</td>\n",
       "      <td>Supermarket</td>\n",
       "      <td>6.36 Millions</td>\n",
       "      <td>1.9716 Millions</td>\n",
       "      <td>{'Gross Weight': 16.571, 'Net Weight': 14.972,...</td>\n",
       "      <td>non recyclable</td>\n",
       "      <td>50K+</td>\n",
       "      <td>2814.95</td>\n",
       "      <td>2049.72</td>\n",
       "      <td>457.36</td>\n",
       "      <td>NaN</td>\n",
       "      <td>708.6650</td>\n",
       "      <td>Single</td>\n",
       "      <td>Female</td>\n",
       "      <td>three</td>\n",
       "      <td>Snack Foods</td>\n",
       "    </tr>\n",
       "    <tr>\n",
       "      <th>2</th>\n",
       "      <td>mc_ID_2</td>\n",
       "      <td>L05es_CA</td>\n",
       "      <td>['Florist']</td>\n",
       "      <td>Shelf Emptiers</td>\n",
       "      <td>Supermarket</td>\n",
       "      <td>10.86 Millions</td>\n",
       "      <td>4.4526 Millions</td>\n",
       "      <td>{'Gross Weight': 28.6358, 'Net Weight': 27.182...</td>\n",
       "      <td>recyclable</td>\n",
       "      <td>30K+</td>\n",
       "      <td>2192.32</td>\n",
       "      <td>1322.21</td>\n",
       "      <td>523.32</td>\n",
       "      <td>348.85</td>\n",
       "      <td>564.2647</td>\n",
       "      <td>Married</td>\n",
       "      <td>Male</td>\n",
       "      <td>two</td>\n",
       "      <td>Magazines</td>\n",
       "    </tr>\n",
       "    <tr>\n",
       "      <th>3</th>\n",
       "      <td>mc_ID_3</td>\n",
       "      <td>S03le_WA</td>\n",
       "      <td>['Coffee Bar']</td>\n",
       "      <td>Savings Galore</td>\n",
       "      <td>NaN</td>\n",
       "      <td>1.98 Millions</td>\n",
       "      <td>0.6732 Millions</td>\n",
       "      <td>{'Gross Weight': 14.2161, 'Net Weight': 11.294...</td>\n",
       "      <td>recyclable</td>\n",
       "      <td>30K+</td>\n",
       "      <td>1974.73</td>\n",
       "      <td>NaN</td>\n",
       "      <td>440.92</td>\n",
       "      <td>293.95</td>\n",
       "      <td>724.5119</td>\n",
       "      <td>Single</td>\n",
       "      <td>Female</td>\n",
       "      <td>three</td>\n",
       "      <td>Dairy</td>\n",
       "    </tr>\n",
       "    <tr>\n",
       "      <th>4</th>\n",
       "      <td>mc_ID_4</td>\n",
       "      <td>M10da_YU</td>\n",
       "      <td>['Bar For Salad', 'Ready Food', 'Coffee Bar', ...</td>\n",
       "      <td>Sale Winners</td>\n",
       "      <td>Deluxe</td>\n",
       "      <td>11.56 Millions</td>\n",
       "      <td>4.9708 Millions</td>\n",
       "      <td>{'Gross Weight': 12.6172, 'Net Weight': 9.71, ...</td>\n",
       "      <td>non recyclable</td>\n",
       "      <td>50K+</td>\n",
       "      <td>2862.3</td>\n",
       "      <td>1872.19</td>\n",
       "      <td>593.93</td>\n",
       "      <td>395.95</td>\n",
       "      <td>519.7574</td>\n",
       "      <td>Married</td>\n",
       "      <td>Female</td>\n",
       "      <td>five</td>\n",
       "      <td>Vegetables</td>\n",
       "    </tr>\n",
       "  </tbody>\n",
       "</table>\n",
       "</div>"
      ],
      "text/plain": [
       "  Unnamed: 0 Place Code                      Additional Features in market  \\\n",
       "0    mc_ID_0   H11go_ZA  ['Video Store', 'Florist', 'Ready Food', 'Coff...   \n",
       "1    mc_ID_1   S04ne_WA                                                NaN   \n",
       "2    mc_ID_2   L05es_CA                                        ['Florist']   \n",
       "3    mc_ID_3   S03le_WA                                     ['Coffee Bar']   \n",
       "4    mc_ID_4   M10da_YU  ['Bar For Salad', 'Ready Food', 'Coffee Bar', ...   \n",
       "\n",
       "    Promotion Name   Store Kind     Store Sales       Store Cost  \\\n",
       "0        Dimes Off       Deluxe   8.76 Millions  4.2924 Millions   \n",
       "1  Budget Bargains  Supermarket   6.36 Millions  1.9716 Millions   \n",
       "2   Shelf Emptiers  Supermarket  10.86 Millions  4.4526 Millions   \n",
       "3   Savings Galore          NaN   1.98 Millions  0.6732 Millions   \n",
       "4     Sale Winners       Deluxe  11.56 Millions  4.9708 Millions   \n",
       "\n",
       "                        Product Weights Data in (KG)  Is Recyclable?  \\\n",
       "0  {'Gross Weight': 28.1997, 'Net Weight': 26.600...      recyclable   \n",
       "1  {'Gross Weight': 16.571, 'Net Weight': 14.972,...  non recyclable   \n",
       "2  {'Gross Weight': 28.6358, 'Net Weight': 27.182...      recyclable   \n",
       "3  {'Gross Weight': 14.2161, 'Net Weight': 11.294...      recyclable   \n",
       "4  {'Gross Weight': 12.6172, 'Net Weight': 9.71, ...  non recyclable   \n",
       "\n",
       "  Min. Yearly Income Store Area Grocery Area  Frozen Area Meat Area      Cost  \\\n",
       "0               10K+    2842.23      2037.64       481.98       323  602.7575   \n",
       "1               50K+    2814.95      2049.72       457.36       NaN  708.6650   \n",
       "2               30K+    2192.32      1322.21       523.32    348.85  564.2647   \n",
       "3               30K+    1974.73          NaN       440.92    293.95  724.5119   \n",
       "4               50K+     2862.3      1872.19       593.93    395.95  519.7574   \n",
       "\n",
       "  Marital Status  Gender Num Children     Customer order  \n",
       "0         Single  Female         four  Cleaning Supplies  \n",
       "1         Single  Female        three        Snack Foods  \n",
       "2        Married    Male          two          Magazines  \n",
       "3         Single  Female        three              Dairy  \n",
       "4        Married  Female         five         Vegetables  "
      ]
     },
     "execution_count": 204,
     "metadata": {},
     "output_type": "execute_result"
    }
   ],
   "source": [
    "batch1.head()"
   ]
  },
  {
   "cell_type": "markdown",
   "id": "8c4654ac",
   "metadata": {},
   "source": [
    "### **<mark style=\"color:#404040;border-radius:20px;opacity:1.5;background-image: url(https://th.bing.com/th/id/R.3be5e39321febd4c1f758691e109c8bd?rik=lkhAzU4ulIuL0Q&riu=http%3a%2f%2fupload.wikimedia.org%2fwikipedia%2fcommons%2f5%2f56%2fRMS_Titanic_2.jpg&ehk=VbIvq0%2b63pXvH%2bl3Ln4tlz%2bwppwyoN%2fUTZDuGVYTHiQ%3d&risl=&pid=ImgRaw&r=0)\"> Additional Features in market column  </mark>**\n",
    "<br>"
   ]
  },
  {
   "cell_type": "code",
   "execution_count": 205,
   "id": "9e178952",
   "metadata": {},
   "outputs": [
    {
     "data": {
      "text/plain": [
       "['Coffee Bar']                                              2230\n",
       "['Florist']                                                 1322\n",
       "['Ready Food', 'Bar For Salad']                             1037\n",
       "['Bar For Salad', 'Ready Food']                              933\n",
       "['Florist', 'Bar For Salad', 'Coffee Bar', 'Ready Food']     133\n",
       "['Florist', 'Ready Food', 'Coffee Bar', 'Bar For Salad']     125\n",
       "['Coffee Bar', 'Bar For Salad', 'Ready Food', 'Florist']     124\n",
       "['Bar For Salad', 'Coffee Bar', 'Florist', 'Ready Food']     121\n",
       "Name: Additional Features in market, dtype: int64"
      ]
     },
     "execution_count": 205,
     "metadata": {},
     "output_type": "execute_result"
    }
   ],
   "source": [
    "batch1[\"Additional Features in market\"].value_counts()[:8]"
   ]
  },
  {
   "cell_type": "markdown",
   "id": "128e410f",
   "metadata": {},
   "source": [
    "This column contains lists not single value. That is very unuseless. becouse we should focus on extacting information from that type of columns, we will calcoulate the lenght of this lists expresses the number of features in market. \n",
    "\n",
    "We will create a new column `Additional Features count` and drop old column `Additional Features in market`."
   ]
  },
  {
   "cell_type": "code",
   "execution_count": 206,
   "id": "c06225ea",
   "metadata": {},
   "outputs": [],
   "source": [
    "def clean_Additional_Features_column(df, column):\n",
    "    \n",
    "   # Create columns for each unique value and fill with 1 if the value exists, 0 otherwise\n",
    "    \n",
    "    df[column] = df[column].apply(lambda x: [] if pd.isna(x) else x)\n",
    "    unique_values = [\"Coffee Bar\", \"Florist\", \"Ready Food\", \"Bar For Salad\", 'Video Store']\n",
    "    for value in unique_values:\n",
    "        df[value] = df[column].apply(lambda x: 1 if value in x else 0)\n",
    "\n",
    "    \n",
    "    df.drop(columns=column, inplace=True)\n",
    "    \n",
    "    return df"
   ]
  },
  {
   "cell_type": "code",
   "execution_count": 207,
   "id": "8b44aae4",
   "metadata": {},
   "outputs": [],
   "source": [
    "batch1= clean_Additional_Features_column(batch1, 'Additional Features in market')\n",
    "batch2= clean_Additional_Features_column(batch2, 'Additional Features in market')\n",
    "batch3= clean_Additional_Features_column(batch3, 'Additional%20Features%20in%20market')\n",
    "\n",
    "#------------------------------------\n",
    "test= clean_Additional_Features_column(test, 'Additional Features in market')"
   ]
  },
  {
   "cell_type": "code",
   "execution_count": 208,
   "id": "78ce180b",
   "metadata": {},
   "outputs": [
    {
     "data": {
      "text/html": [
       "<div>\n",
       "<style scoped>\n",
       "    .dataframe tbody tr th:only-of-type {\n",
       "        vertical-align: middle;\n",
       "    }\n",
       "\n",
       "    .dataframe tbody tr th {\n",
       "        vertical-align: top;\n",
       "    }\n",
       "\n",
       "    .dataframe thead th {\n",
       "        text-align: right;\n",
       "    }\n",
       "</style>\n",
       "<table border=\"1\" class=\"dataframe\">\n",
       "  <thead>\n",
       "    <tr style=\"text-align: right;\">\n",
       "      <th></th>\n",
       "      <th>Coffee Bar</th>\n",
       "      <th>Florist</th>\n",
       "      <th>Ready Food</th>\n",
       "      <th>Bar For Salad</th>\n",
       "      <th>Video Store</th>\n",
       "    </tr>\n",
       "  </thead>\n",
       "  <tbody>\n",
       "    <tr>\n",
       "      <th>0</th>\n",
       "      <td>1</td>\n",
       "      <td>1</td>\n",
       "      <td>1</td>\n",
       "      <td>1</td>\n",
       "      <td>1</td>\n",
       "    </tr>\n",
       "    <tr>\n",
       "      <th>1</th>\n",
       "      <td>0</td>\n",
       "      <td>0</td>\n",
       "      <td>0</td>\n",
       "      <td>0</td>\n",
       "      <td>0</td>\n",
       "    </tr>\n",
       "    <tr>\n",
       "      <th>2</th>\n",
       "      <td>0</td>\n",
       "      <td>1</td>\n",
       "      <td>0</td>\n",
       "      <td>0</td>\n",
       "      <td>0</td>\n",
       "    </tr>\n",
       "    <tr>\n",
       "      <th>3</th>\n",
       "      <td>1</td>\n",
       "      <td>0</td>\n",
       "      <td>0</td>\n",
       "      <td>0</td>\n",
       "      <td>0</td>\n",
       "    </tr>\n",
       "    <tr>\n",
       "      <th>4</th>\n",
       "      <td>1</td>\n",
       "      <td>1</td>\n",
       "      <td>1</td>\n",
       "      <td>1</td>\n",
       "      <td>1</td>\n",
       "    </tr>\n",
       "  </tbody>\n",
       "</table>\n",
       "</div>"
      ],
      "text/plain": [
       "   Coffee Bar  Florist  Ready Food  Bar For Salad  Video Store\n",
       "0           1        1           1              1            1\n",
       "1           0        0           0              0            0\n",
       "2           0        1           0              0            0\n",
       "3           1        0           0              0            0\n",
       "4           1        1           1              1            1"
      ]
     },
     "execution_count": 208,
     "metadata": {},
     "output_type": "execute_result"
    }
   ],
   "source": [
    "batch1[[\"Coffee Bar\", \"Florist\", \"Ready Food\", \"Bar For Salad\", 'Video Store']].head()"
   ]
  },
  {
   "cell_type": "markdown",
   "id": "151d008f",
   "metadata": {},
   "source": [
    "### **<mark style=\"color:#404040;border-radius:20px;opacity:1.5;background-image: url(https://th.bing.com/th/id/R.3be5e39321febd4c1f758691e109c8bd?rik=lkhAzU4ulIuL0Q&riu=http%3a%2f%2fupload.wikimedia.org%2fwikipedia%2fcommons%2f5%2f56%2fRMS_Titanic_2.jpg&ehk=VbIvq0%2b63pXvH%2bl3Ln4tlz%2bwppwyoN%2fUTZDuGVYTHiQ%3d&risl=&pid=ImgRaw&r=0)\">Store Sales and Store cost columns  </mark>**\n",
    "<br>"
   ]
  },
  {
   "cell_type": "code",
   "execution_count": 209,
   "id": "ed62930f",
   "metadata": {},
   "outputs": [
    {
     "data": {
      "text/html": [
       "<div>\n",
       "<style scoped>\n",
       "    .dataframe tbody tr th:only-of-type {\n",
       "        vertical-align: middle;\n",
       "    }\n",
       "\n",
       "    .dataframe tbody tr th {\n",
       "        vertical-align: top;\n",
       "    }\n",
       "\n",
       "    .dataframe thead th {\n",
       "        text-align: right;\n",
       "    }\n",
       "</style>\n",
       "<table border=\"1\" class=\"dataframe\">\n",
       "  <thead>\n",
       "    <tr style=\"text-align: right;\">\n",
       "      <th></th>\n",
       "      <th>Store Sales</th>\n",
       "      <th>Store Cost</th>\n",
       "    </tr>\n",
       "  </thead>\n",
       "  <tbody>\n",
       "    <tr>\n",
       "      <th>0</th>\n",
       "      <td>8.76 Millions</td>\n",
       "      <td>4.2924 Millions</td>\n",
       "    </tr>\n",
       "    <tr>\n",
       "      <th>1</th>\n",
       "      <td>6.36 Millions</td>\n",
       "      <td>1.9716 Millions</td>\n",
       "    </tr>\n",
       "    <tr>\n",
       "      <th>2</th>\n",
       "      <td>10.86 Millions</td>\n",
       "      <td>4.4526 Millions</td>\n",
       "    </tr>\n",
       "    <tr>\n",
       "      <th>3</th>\n",
       "      <td>1.98 Millions</td>\n",
       "      <td>0.6732 Millions</td>\n",
       "    </tr>\n",
       "    <tr>\n",
       "      <th>4</th>\n",
       "      <td>11.56 Millions</td>\n",
       "      <td>4.9708 Millions</td>\n",
       "    </tr>\n",
       "  </tbody>\n",
       "</table>\n",
       "</div>"
      ],
      "text/plain": [
       "      Store Sales       Store Cost\n",
       "0   8.76 Millions  4.2924 Millions\n",
       "1   6.36 Millions  1.9716 Millions\n",
       "2  10.86 Millions  4.4526 Millions\n",
       "3   1.98 Millions  0.6732 Millions\n",
       "4  11.56 Millions  4.9708 Millions"
      ]
     },
     "execution_count": 209,
     "metadata": {},
     "output_type": "execute_result"
    }
   ],
   "source": [
    "batch1[['Store Sales', 'Store Cost']].head()"
   ]
  },
  {
   "cell_type": "markdown",
   "id": "956ee37a",
   "metadata": {},
   "source": [
    "The two columns in string format that each value in this columns contains a string value beside the number. So we will remove the string and convert the columns in float type.\n",
    "\n",
    "we will rename the columns into `Store Sales (M)` and `Store Cost (M)` and create `Sales Cost ratio` column."
   ]
  },
  {
   "cell_type": "code",
   "execution_count": 210,
   "id": "af14187b",
   "metadata": {},
   "outputs": [],
   "source": [
    "def clean_StoreSales_and_Storecost_columns(df, column1, column2):\n",
    "    \n",
    "    df[['Store Sales (M)', 'Store Cost (M)']] = df[[column1, column2]].applymap(lambda x: str(x).split()[0])\n",
    "    df[['Store Sales (M)', 'Store Cost (M)']] = df[['Store Sales (M)', 'Store Cost (M)']].astype(float)\n",
    "    #df['Sales Cost ratio']= df['Store Cost (M)'] / df['Store Sales (M)']\n",
    "    \n",
    "    df.drop(columns=[column1, column2], inplace=True)\n",
    "    return df\n"
   ]
  },
  {
   "cell_type": "code",
   "execution_count": 211,
   "id": "f28f3b05",
   "metadata": {},
   "outputs": [],
   "source": [
    "batch1= clean_StoreSales_and_Storecost_columns(batch1, 'Store Sales', 'Store Cost')\n",
    "batch2= clean_StoreSales_and_Storecost_columns(batch2, 'Store Sales', 'Store Cost')\n",
    "batch3= clean_StoreSales_and_Storecost_columns(batch3, 'Store%20Sales', 'Store%20Cost')\n",
    "\n",
    "#--------------------------------------------\n",
    "test= clean_StoreSales_and_Storecost_columns(test, 'Store Sales', 'Store Cost')"
   ]
  },
  {
   "cell_type": "markdown",
   "id": "bc854eb5",
   "metadata": {},
   "source": [
    "### **<mark style=\"color:#404040;border-radius:20px;opacity:1.5;background-image: url(https://th.bing.com/th/id/R.3be5e39321febd4c1f758691e109c8bd?rik=lkhAzU4ulIuL0Q&riu=http%3a%2f%2fupload.wikimedia.org%2fwikipedia%2fcommons%2f5%2f56%2fRMS_Titanic_2.jpg&ehk=VbIvq0%2b63pXvH%2bl3Ln4tlz%2bwppwyoN%2fUTZDuGVYTHiQ%3d&risl=&pid=ImgRaw&r=0)\"> Product Weights Data in (KG) column </mark>**\n",
    "<br>"
   ]
  },
  {
   "cell_type": "code",
   "execution_count": 212,
   "id": "619174a9",
   "metadata": {},
   "outputs": [
    {
     "data": {
      "text/plain": [
       "{'Gross Weight': 27.0368, 'Net Weight': 24.1296, 'Package Weight': 2.9072}    161\n",
       "{'Gross Weight': 28.9265, 'Net Weight': 25.874, 'Package Weight': 3.0525}     131\n",
       "{'Gross Weight': 19.7689, 'Net Weight': 16.8617, 'Package Weight': 2.9072}    126\n",
       "{'Gross Weight': 21.3678, 'Net Weight': 18.3153, 'Package Weight': 3.0525}    121\n",
       "{'Gross Weight': 14.972, 'Net Weight': 12.0648, 'Package Weight': 2.9072}     117\n",
       "Name: Product Weights Data in (KG), dtype: int64"
      ]
     },
     "execution_count": 212,
     "metadata": {},
     "output_type": "execute_result"
    }
   ],
   "source": [
    "batch1[\"Product Weights Data in (KG)\"].value_counts()[:5]"
   ]
  },
  {
   "cell_type": "markdown",
   "id": "74a98296",
   "metadata": {},
   "source": [
    "This column contain a dict values each dict contain 3 values. We will seperate each value in dict into a single column.\n",
    "\n",
    "Three values are:\n",
    "* Gross Weight\n",
    "* Net Weight\n",
    "* Package Weight\n",
    "\n",
    "**`Note`**: \n",
    "\n",
    "1- batch2 dataframe doesn't have this column but have just a Gross Weight and Net Weight columns.\n",
    "\n",
    "2- batch3 dataframe has this column addition to Gross Weight and Net Weight columns.\n",
    "\n",
    "3- Gross Weight **=** Net Weight **+** Package Weight."
   ]
  },
  {
   "cell_type": "code",
   "execution_count": 213,
   "id": "076327d0",
   "metadata": {},
   "outputs": [],
   "source": [
    "import ast\n",
    "\n",
    "def clean_Product_Weights_column(df, column):\n",
    "    \n",
    "    df[['Gross Weight', 'Net Weight', 'Package Weight']] = df[column].apply(\n",
    "        lambda x: pd.Series(ast.literal_eval(x).values()))\n",
    "    \n",
    "    df.drop(columns=column, inplace=True)\n",
    "    \n",
    "    return df\n"
   ]
  },
  {
   "cell_type": "code",
   "execution_count": 214,
   "id": "67632d7d",
   "metadata": {},
   "outputs": [],
   "source": [
    "batch1= clean_Product_Weights_column(batch1, 'Product Weights Data in (KG)')\n",
    "batch3= clean_Product_Weights_column(batch3, 'Weights%20Data')"
   ]
  },
  {
   "cell_type": "markdown",
   "id": "85d4fca1",
   "metadata": {},
   "source": [
    "check about nulls in test set"
   ]
  },
  {
   "cell_type": "code",
   "execution_count": 215,
   "id": "6140845c",
   "metadata": {},
   "outputs": [
    {
     "data": {
      "text/plain": [
       "Gross Weight       983\n",
       "Net Weight        1018\n",
       "Package Weight       0\n",
       "dtype: int64"
      ]
     },
     "execution_count": 215,
     "metadata": {},
     "output_type": "execute_result"
    }
   ],
   "source": [
    "test[['Gross Weight', 'Net Weight', 'Package Weight']].isna().sum()"
   ]
  },
  {
   "cell_type": "code",
   "execution_count": 216,
   "id": "ffe13fac",
   "metadata": {},
   "outputs": [],
   "source": [
    "test['Gross Weight'].fillna(test['Net Weight']+test['Package Weight'], inplace=True)\n",
    "test['Gross Weight'].fillna(test['Package Weight']+(test['Net Weight'].mean()), inplace=True)\n",
    "test['Net Weight'].fillna(test['Gross Weight']-test['Package Weight'].mean(), inplace=True)"
   ]
  },
  {
   "cell_type": "code",
   "execution_count": 217,
   "id": "940b9e7a",
   "metadata": {},
   "outputs": [
    {
     "data": {
      "text/plain": [
       "Package Weight    0\n",
       "Gross Weight      0\n",
       "Net Weight        0\n",
       "dtype: int64"
      ]
     },
     "execution_count": 217,
     "metadata": {},
     "output_type": "execute_result"
    }
   ],
   "source": [
    "test[['Package Weight', 'Gross Weight', 'Net Weight']].isna().sum()"
   ]
  },
  {
   "cell_type": "markdown",
   "id": "756603c3",
   "metadata": {},
   "source": [
    "check about nulls in batch2"
   ]
  },
  {
   "cell_type": "code",
   "execution_count": 218,
   "id": "2d4435de",
   "metadata": {},
   "outputs": [
    {
     "data": {
      "text/plain": [
       "Gross Weight    1942\n",
       "Net Weight      1938\n",
       "dtype: int64"
      ]
     },
     "execution_count": 218,
     "metadata": {},
     "output_type": "execute_result"
    }
   ],
   "source": [
    "batch2[['Gross Weight', 'Net Weight']].isna().sum()"
   ]
  },
  {
   "cell_type": "markdown",
   "id": "bd403e18",
   "metadata": {},
   "source": [
    "**Fill nulls in `Gross Weight` and `Net Weight` column in batch2 and create `Package Weight` column**"
   ]
  },
  {
   "cell_type": "code",
   "execution_count": 219,
   "id": "2a0bf204",
   "metadata": {},
   "outputs": [],
   "source": [
    "value= round((batch2['Gross Weight']/batch2['Net Weight']).mean(),2)\n",
    "batch2['Gross Weight'].fillna(batch2['Net Weight']*value, inplace=True)\n",
    "batch2['Gross Weight'].fillna(batch2['Gross Weight'].mean(), inplace=True)\n",
    "\n",
    "batch2['Net Weight'].fillna(batch2['Gross Weight']*(value**-1), inplace=True)"
   ]
  },
  {
   "cell_type": "code",
   "execution_count": 220,
   "id": "4400734d",
   "metadata": {},
   "outputs": [],
   "source": [
    "batch2['Package Weight']= batch2['Gross Weight']-batch2['Net Weight']"
   ]
  },
  {
   "cell_type": "code",
   "execution_count": 221,
   "id": "8292af59",
   "metadata": {},
   "outputs": [
    {
     "data": {
      "text/plain": [
       "Package Weight    0\n",
       "Gross Weight      0\n",
       "Net Weight        0\n",
       "dtype: int64"
      ]
     },
     "execution_count": 221,
     "metadata": {},
     "output_type": "execute_result"
    }
   ],
   "source": [
    "batch2[['Package Weight', 'Gross Weight',  'Net Weight']].isna().sum()"
   ]
  },
  {
   "cell_type": "code",
   "execution_count": 222,
   "id": "2f73a60d",
   "metadata": {},
   "outputs": [],
   "source": [
    "batch3.drop(columns= ['Gross%20Weight', 'Net%20Weight'], inplace=True)   "
   ]
  },
  {
   "cell_type": "markdown",
   "id": "1b2f7403",
   "metadata": {},
   "source": [
    "### **<mark style=\"color:#404040;border-radius:20px;opacity:1.5;background-image: url(https://th.bing.com/th/id/R.3be5e39321febd4c1f758691e109c8bd?rik=lkhAzU4ulIuL0Q&riu=http%3a%2f%2fupload.wikimedia.org%2fwikipedia%2fcommons%2f5%2f56%2fRMS_Titanic_2.jpg&ehk=VbIvq0%2b63pXvH%2bl3Ln4tlz%2bwppwyoN%2fUTZDuGVYTHiQ%3d&risl=&pid=ImgRaw&r=0)\"> Is Recyclable? column  </mark>**\n",
    "<br>"
   ]
  },
  {
   "cell_type": "code",
   "execution_count": 223,
   "id": "174c446a",
   "metadata": {},
   "outputs": [
    {
     "data": {
      "text/plain": [
       "array(['recyclable', 'non recyclable'], dtype=object)"
      ]
     },
     "execution_count": 223,
     "metadata": {},
     "output_type": "execute_result"
    }
   ],
   "source": [
    "batch1[\"Is Recyclable?\"].unique()"
   ]
  },
  {
   "cell_type": "code",
   "execution_count": 224,
   "id": "05d5f588",
   "metadata": {},
   "outputs": [
    {
     "data": {
      "text/plain": [
       "array(['yes', 'no'], dtype=object)"
      ]
     },
     "execution_count": 224,
     "metadata": {},
     "output_type": "execute_result"
    }
   ],
   "source": [
    "batch2[\"Is Recyclable?\"].unique()"
   ]
  },
  {
   "cell_type": "code",
   "execution_count": 225,
   "id": "eb5713b8",
   "metadata": {},
   "outputs": [
    {
     "data": {
      "text/plain": [
       "array(['yes', 'no', nan], dtype=object)"
      ]
     },
     "execution_count": 225,
     "metadata": {},
     "output_type": "execute_result"
    }
   ],
   "source": [
    "batch3[\"Is%20Recyclable?\"].unique()"
   ]
  },
  {
   "cell_type": "markdown",
   "id": "f44aac4f",
   "metadata": {},
   "source": [
    "If the item in market is Recyclable or no. But where is the problem here? \n",
    "\n",
    "Unique values in batch1 are `recyclable` and `non Recyclable` But in batch2 and batch3 are `yes` and `no`\n",
    "\n",
    "let's handle that."
   ]
  },
  {
   "cell_type": "code",
   "execution_count": 226,
   "id": "3165bc20",
   "metadata": {},
   "outputs": [],
   "source": [
    "def clean_Is_Recyclable_column(df, column):\n",
    "    \n",
    "    df[column].fillna(df[column].mode()[0], inplace=True)\n",
    "    \n",
    "    if list(df[column].unique()) == ['yes', 'no']:\n",
    "        df['Is Recyclable']=df[column].map({'yes':1, 'no':0})\n",
    "    \n",
    "    else:\n",
    "        df['Is Recyclable']=df[column].map({'recyclable':1, 'non recyclable':0})\n",
    "        \n",
    "        \n",
    "    df.drop(columns=column, inplace=True)\n",
    "    return df\n"
   ]
  },
  {
   "cell_type": "code",
   "execution_count": 227,
   "id": "d335cdff",
   "metadata": {},
   "outputs": [],
   "source": [
    "batch1= clean_Is_Recyclable_column(batch1, \"Is Recyclable?\")\n",
    "batch2= clean_Is_Recyclable_column(batch2, \"Is Recyclable?\")\n",
    "batch3= clean_Is_Recyclable_column(batch3, \"Is%20Recyclable?\")\n",
    "\n",
    "#---------------------------------------\n",
    "test= clean_Is_Recyclable_column(test, \"Is Recyclable?\")"
   ]
  },
  {
   "cell_type": "markdown",
   "id": "29094b16",
   "metadata": {},
   "source": [
    "### **<mark style=\"color:#404040;border-radius:20px;opacity:1.5;background-image: url(https://th.bing.com/th/id/R.3be5e39321febd4c1f758691e109c8bd?rik=lkhAzU4ulIuL0Q&riu=http%3a%2f%2fupload.wikimedia.org%2fwikipedia%2fcommons%2f5%2f56%2fRMS_Titanic_2.jpg&ehk=VbIvq0%2b63pXvH%2bl3Ln4tlz%2bwppwyoN%2fUTZDuGVYTHiQ%3d&risl=&pid=ImgRaw&r=0)\"> Yearly Income column  </mark>**\n",
    "<br>"
   ]
  },
  {
   "cell_type": "code",
   "execution_count": 228,
   "id": "888bc9dc",
   "metadata": {},
   "outputs": [],
   "source": [
    "def rename_to_YearlyIncome(df, column):\n",
    "    df.rename(columns={column: 'Yearly Income'}, inplace=True)\n",
    "    return df"
   ]
  },
  {
   "cell_type": "code",
   "execution_count": 229,
   "id": "2564cdca",
   "metadata": {},
   "outputs": [],
   "source": [
    "batch1= rename_to_YearlyIncome(batch1, 'Min. Yearly Income')\n",
    "batch2= rename_to_YearlyIncome(batch2, 'Min. Person Yearly Income')\n",
    "batch3= rename_to_YearlyIncome(batch3, 'Yearly%20Income')"
   ]
  },
  {
   "cell_type": "markdown",
   "id": "303d7e07",
   "metadata": {},
   "source": [
    "### **<mark style=\"color:#404040;border-radius:20px;opacity:1.5;background-image: url(https://th.bing.com/th/id/R.3be5e39321febd4c1f758691e109c8bd?rik=lkhAzU4ulIuL0Q&riu=http%3a%2f%2fupload.wikimedia.org%2fwikipedia%2fcommons%2f5%2f56%2fRMS_Titanic_2.jpg&ehk=VbIvq0%2b63pXvH%2bl3Ln4tlz%2bwppwyoN%2fUTZDuGVYTHiQ%3d&risl=&pid=ImgRaw&r=0)\"> Area columns  </mark>**\n",
    "<br>"
   ]
  },
  {
   "cell_type": "code",
   "execution_count": 230,
   "id": "51c0f04b",
   "metadata": {},
   "outputs": [
    {
     "data": {
      "text/html": [
       "<div>\n",
       "<style scoped>\n",
       "    .dataframe tbody tr th:only-of-type {\n",
       "        vertical-align: middle;\n",
       "    }\n",
       "\n",
       "    .dataframe tbody tr th {\n",
       "        vertical-align: top;\n",
       "    }\n",
       "\n",
       "    .dataframe thead th {\n",
       "        text-align: right;\n",
       "    }\n",
       "</style>\n",
       "<table border=\"1\" class=\"dataframe\">\n",
       "  <thead>\n",
       "    <tr style=\"text-align: right;\">\n",
       "      <th></th>\n",
       "      <th>Meat Area</th>\n",
       "      <th>Grocery Area</th>\n",
       "      <th>Frozen Area</th>\n",
       "      <th>Store Area</th>\n",
       "    </tr>\n",
       "  </thead>\n",
       "  <tbody>\n",
       "    <tr>\n",
       "      <th>0</th>\n",
       "      <td>323</td>\n",
       "      <td>2037.64</td>\n",
       "      <td>481.98</td>\n",
       "      <td>2842.23</td>\n",
       "    </tr>\n",
       "    <tr>\n",
       "      <th>1</th>\n",
       "      <td>NaN</td>\n",
       "      <td>2049.72</td>\n",
       "      <td>457.36</td>\n",
       "      <td>2814.95</td>\n",
       "    </tr>\n",
       "    <tr>\n",
       "      <th>2</th>\n",
       "      <td>348.85</td>\n",
       "      <td>1322.21</td>\n",
       "      <td>523.32</td>\n",
       "      <td>2192.32</td>\n",
       "    </tr>\n",
       "    <tr>\n",
       "      <th>3</th>\n",
       "      <td>293.95</td>\n",
       "      <td>NaN</td>\n",
       "      <td>440.92</td>\n",
       "      <td>1974.73</td>\n",
       "    </tr>\n",
       "    <tr>\n",
       "      <th>4</th>\n",
       "      <td>395.95</td>\n",
       "      <td>1872.19</td>\n",
       "      <td>593.93</td>\n",
       "      <td>2862.3</td>\n",
       "    </tr>\n",
       "  </tbody>\n",
       "</table>\n",
       "</div>"
      ],
      "text/plain": [
       "  Meat Area Grocery Area  Frozen Area Store Area\n",
       "0       323      2037.64       481.98    2842.23\n",
       "1       NaN      2049.72       457.36    2814.95\n",
       "2    348.85      1322.21       523.32    2192.32\n",
       "3    293.95          NaN       440.92    1974.73\n",
       "4    395.95      1872.19       593.93     2862.3"
      ]
     },
     "execution_count": 230,
     "metadata": {},
     "output_type": "execute_result"
    }
   ],
   "source": [
    "batch1[['Meat Area','Grocery Area', 'Frozen Area', 'Store Area']].head()"
   ]
  },
  {
   "cell_type": "code",
   "execution_count": 231,
   "id": "7d709112",
   "metadata": {},
   "outputs": [
    {
     "data": {
      "text/plain": [
       "Meat Area        object\n",
       "Grocery Area     object\n",
       "Frozen Area     float64\n",
       "Store Area       object\n",
       "dtype: object"
      ]
     },
     "execution_count": 231,
     "metadata": {},
     "output_type": "execute_result"
    }
   ],
   "source": [
    "batch1[['Meat Area','Grocery Area', 'Frozen Area', 'Store Area']].dtypes"
   ]
  },
  {
   "cell_type": "code",
   "execution_count": 232,
   "id": "f22f3244",
   "metadata": {},
   "outputs": [
    {
     "data": {
      "text/plain": [
       "Meat Area       float64\n",
       "Grocery Area    float64\n",
       "Frozen Area      object\n",
       "Store Area      float64\n",
       "dtype: object"
      ]
     },
     "execution_count": 232,
     "metadata": {},
     "output_type": "execute_result"
    }
   ],
   "source": [
    "batch2[['Meat Area','Grocery Area', 'Frozen Area', 'Store Area']].dtypes"
   ]
  },
  {
   "cell_type": "code",
   "execution_count": 233,
   "id": "5c79519c",
   "metadata": {},
   "outputs": [
    {
     "data": {
      "text/plain": [
       "Meat%20Area       float64\n",
       "Grocery%20Area    float64\n",
       "Frozen%20Area     float64\n",
       "Store%20Area      float64\n",
       "dtype: object"
      ]
     },
     "execution_count": 233,
     "metadata": {},
     "output_type": "execute_result"
    }
   ],
   "source": [
    "batch3[['Meat%20Area','Grocery%20Area', 'Frozen%20Area', 'Store%20Area']].dtypes"
   ]
  },
  {
   "cell_type": "markdown",
   "id": "b32c4df0",
   "metadata": {},
   "source": [
    "Area columns included `Store Area`, `Meat Area`, `Grocery Area` and `Frozen Area`.\n",
    "\n",
    "Each dataframe contain some of these columns in object type and some of unacceptable values like 'missing' not `nan`, '542.20' not `542.20` and '754.53.' not `754.53`. \n",
    "\n",
    "We should handle this problems frist then convert a column to float type.\n",
    "\n",
    "**`Note:`**\n",
    "\n",
    "1- Only batch3 dataframe has all these columns in float type. \n",
    "\n",
    "2- `Store Area` column almost equal the sum of `Meat Area`, `Grocery Area` and `Frozen Area`."
   ]
  },
  {
   "cell_type": "code",
   "execution_count": 234,
   "id": "a8d776d7",
   "metadata": {},
   "outputs": [],
   "source": [
    "def convert_to_float(df, column):\n",
    "    \n",
    "    df[column] = df[column].str.replace('\"', '')\n",
    "    df[column] = [np.nan if value in ['missing', ''] else value for value in df[column].values]\n",
    "    \n",
    "    # Remove trailing periods\n",
    "    df[column] = df[column].str.rstrip('.')\n",
    "    \n",
    "    df[column] = df[column].astype(float)\n",
    "\n",
    "    #to_rename_column\n",
    "    new_column = column.replace('%20', ' ')\n",
    "    df.rename(columns={column: new_column}, inplace=True)\n",
    "    \n",
    "    #fill nulls\n",
    "    df[column].fillna(df[column].mean())\n",
    "    \n",
    "    return df"
   ]
  },
  {
   "cell_type": "code",
   "execution_count": 235,
   "id": "fc6d47e3",
   "metadata": {},
   "outputs": [],
   "source": [
    "batch1 = convert_to_float(batch1, 'Meat Area')\n",
    "batch1 = convert_to_float(batch1, 'Store Area')\n",
    "batch1 = convert_to_float(batch1, 'Grocery Area')"
   ]
  },
  {
   "cell_type": "code",
   "execution_count": 236,
   "id": "ac7fc74c",
   "metadata": {},
   "outputs": [],
   "source": [
    "batch2 = convert_to_float(batch2, 'Frozen Area')"
   ]
  },
  {
   "cell_type": "markdown",
   "id": "33cddc49",
   "metadata": {},
   "source": [
    "If we check about nulls values in these columns, we will find almost 2000 missing values in each column.\n",
    "\n",
    "So, itis important to impute these values by suitable technique. Let's See how to impute columns!!"
   ]
  },
  {
   "cell_type": "code",
   "execution_count": 237,
   "id": "7176fe12",
   "metadata": {},
   "outputs": [
    {
     "data": {
      "text/plain": [
       "Meat Area       1948\n",
       "Grocery Area    1981\n",
       "Frozen Area     1934\n",
       "Store Area      1958\n",
       "dtype: int64"
      ]
     },
     "execution_count": 237,
     "metadata": {},
     "output_type": "execute_result"
    }
   ],
   "source": [
    "batch1[['Meat Area','Grocery Area', 'Frozen Area', 'Store Area']].isna().sum()"
   ]
  },
  {
   "cell_type": "code",
   "execution_count": 238,
   "id": "e3c1bcd0",
   "metadata": {},
   "outputs": [],
   "source": [
    "def impute_area_columns(df):\n",
    "    \n",
    "    df['Store Area'].fillna(df['Meat Area']+df['Grocery Area']+df['Frozen Area'], inplace=True)\n",
    "    df['Grocery Area'].fillna(df['Store Area']-(df['Meat Area']+df['Frozen Area']), inplace=True)\n",
    "    df['Meat Area'].fillna(df['Store Area']-(df['Grocery Area']+df['Frozen Area']), inplace=True)\n",
    "    df['Frozen Area'].fillna(df['Store Area']-(df['Meat Area']+df['Grocery Area']), inplace=True)\n",
    "    \n",
    "    df['Grocery Area'].fillna(df['Grocery Area'].mean(), inplace=True)\n",
    "    df['Meat Area'].fillna(df['Meat Area'].mean(), inplace=True)\n",
    "    df['Frozen Area'].fillna(df['Frozen Area'].mean(), inplace=True)\n",
    "    df['Store Area'].fillna(df['Meat Area']+df['Grocery Area']+df['Frozen Area'], inplace=True)\n",
    "    return df"
   ]
  },
  {
   "cell_type": "code",
   "execution_count": 239,
   "id": "deaadfeb",
   "metadata": {},
   "outputs": [
    {
     "data": {
      "text/plain": [
       "Meat Area       0\n",
       "Grocery Area    0\n",
       "Frozen Area     0\n",
       "Store Area      0\n",
       "dtype: int64"
      ]
     },
     "execution_count": 239,
     "metadata": {},
     "output_type": "execute_result"
    }
   ],
   "source": [
    "batch1=impute_area_columns(batch1)\n",
    "batch1[['Meat Area','Grocery Area', 'Frozen Area', 'Store Area']].isna().sum()"
   ]
  },
  {
   "cell_type": "code",
   "execution_count": 240,
   "id": "adaac8bc",
   "metadata": {},
   "outputs": [
    {
     "data": {
      "text/plain": [
       "Meat Area       0\n",
       "Grocery Area    0\n",
       "Frozen Area     0\n",
       "Store Area      0\n",
       "dtype: int64"
      ]
     },
     "execution_count": 240,
     "metadata": {},
     "output_type": "execute_result"
    }
   ],
   "source": [
    "batch2=impute_area_columns(batch2)\n",
    "batch2[['Meat Area','Grocery Area', 'Frozen Area', 'Store Area']].isna().sum()"
   ]
  },
  {
   "cell_type": "code",
   "execution_count": 241,
   "id": "e5d45109",
   "metadata": {},
   "outputs": [
    {
     "data": {
      "text/plain": [
       "Meat Area       0\n",
       "Grocery Area    0\n",
       "Frozen Area     0\n",
       "Store Area      0\n",
       "dtype: int64"
      ]
     },
     "execution_count": 241,
     "metadata": {},
     "output_type": "execute_result"
    }
   ],
   "source": [
    "#to_rename_column\n",
    "for column in ['Grocery%20Area', 'Store%20Area', 'Frozen%20Area', 'Meat%20Area']:\n",
    "    new_column = column.replace('%20', ' ')\n",
    "    batch3.rename(columns={column: new_column}, inplace=True)\n",
    "    \n",
    "\n",
    "batch3=impute_area_columns(batch3)\n",
    "batch3[['Meat Area','Grocery Area', 'Frozen Area', 'Store Area']].isna().sum()"
   ]
  },
  {
   "cell_type": "code",
   "execution_count": 242,
   "id": "be19d992",
   "metadata": {},
   "outputs": [
    {
     "data": {
      "text/plain": [
       "Meat Area       0\n",
       "Grocery Area    0\n",
       "Frozen Area     0\n",
       "Store Area      0\n",
       "dtype: int64"
      ]
     },
     "execution_count": 242,
     "metadata": {},
     "output_type": "execute_result"
    }
   ],
   "source": [
    "test=impute_area_columns(test)\n",
    "test[['Meat Area','Grocery Area', 'Frozen Area', 'Store Area']].isna().sum()"
   ]
  },
  {
   "cell_type": "code",
   "execution_count": 243,
   "id": "094c952f",
   "metadata": {},
   "outputs": [],
   "source": [
    "batch3.rename(columns={'Promotion%20Name': 'Promotion Name',\n",
    "                       'Store%20Kind': 'Store Kind'}, inplace=True)"
   ]
  },
  {
   "cell_type": "code",
   "execution_count": 244,
   "id": "8c25ecee",
   "metadata": {},
   "outputs": [
    {
     "data": {
      "text/html": [
       "<div>\n",
       "<style scoped>\n",
       "    .dataframe tbody tr th:only-of-type {\n",
       "        vertical-align: middle;\n",
       "    }\n",
       "\n",
       "    .dataframe tbody tr th {\n",
       "        vertical-align: top;\n",
       "    }\n",
       "\n",
       "    .dataframe thead th {\n",
       "        text-align: right;\n",
       "    }\n",
       "</style>\n",
       "<table border=\"1\" class=\"dataframe\">\n",
       "  <thead>\n",
       "    <tr style=\"text-align: right;\">\n",
       "      <th></th>\n",
       "      <th>Store Kind</th>\n",
       "      <th>Yearly Income</th>\n",
       "      <th>Store Area</th>\n",
       "      <th>Grocery Area</th>\n",
       "      <th>Frozen Area</th>\n",
       "      <th>Meat Area</th>\n",
       "      <th>Cost</th>\n",
       "      <th>Marital Status</th>\n",
       "      <th>Gender</th>\n",
       "      <th>Num Children</th>\n",
       "      <th>...</th>\n",
       "      <th>Florist</th>\n",
       "      <th>Ready Food</th>\n",
       "      <th>Bar For Salad</th>\n",
       "      <th>Video Store</th>\n",
       "      <th>Store Sales (M)</th>\n",
       "      <th>Store Cost (M)</th>\n",
       "      <th>Gross Weight</th>\n",
       "      <th>Net Weight</th>\n",
       "      <th>Package Weight</th>\n",
       "      <th>Is Recyclable</th>\n",
       "    </tr>\n",
       "  </thead>\n",
       "  <tbody>\n",
       "    <tr>\n",
       "      <th>0</th>\n",
       "      <td>Deluxe</td>\n",
       "      <td>10K+</td>\n",
       "      <td>2842.23</td>\n",
       "      <td>2037.64</td>\n",
       "      <td>481.98</td>\n",
       "      <td>323.00</td>\n",
       "      <td>602.7575</td>\n",
       "      <td>Single</td>\n",
       "      <td>Female</td>\n",
       "      <td>four</td>\n",
       "      <td>...</td>\n",
       "      <td>1</td>\n",
       "      <td>1</td>\n",
       "      <td>1</td>\n",
       "      <td>1</td>\n",
       "      <td>8.76</td>\n",
       "      <td>4.2924</td>\n",
       "      <td>28.1997</td>\n",
       "      <td>26.6008</td>\n",
       "      <td>1.5990</td>\n",
       "      <td>1</td>\n",
       "    </tr>\n",
       "    <tr>\n",
       "      <th>1</th>\n",
       "      <td>Supermarket</td>\n",
       "      <td>50K+</td>\n",
       "      <td>2814.95</td>\n",
       "      <td>2049.72</td>\n",
       "      <td>457.36</td>\n",
       "      <td>307.87</td>\n",
       "      <td>708.6650</td>\n",
       "      <td>Single</td>\n",
       "      <td>Female</td>\n",
       "      <td>three</td>\n",
       "      <td>...</td>\n",
       "      <td>0</td>\n",
       "      <td>0</td>\n",
       "      <td>0</td>\n",
       "      <td>0</td>\n",
       "      <td>6.36</td>\n",
       "      <td>1.9716</td>\n",
       "      <td>16.5710</td>\n",
       "      <td>14.9720</td>\n",
       "      <td>1.5990</td>\n",
       "      <td>0</td>\n",
       "    </tr>\n",
       "    <tr>\n",
       "      <th>2</th>\n",
       "      <td>Supermarket</td>\n",
       "      <td>30K+</td>\n",
       "      <td>2192.32</td>\n",
       "      <td>1322.21</td>\n",
       "      <td>523.32</td>\n",
       "      <td>348.85</td>\n",
       "      <td>564.2647</td>\n",
       "      <td>Married</td>\n",
       "      <td>Male</td>\n",
       "      <td>two</td>\n",
       "      <td>...</td>\n",
       "      <td>1</td>\n",
       "      <td>0</td>\n",
       "      <td>0</td>\n",
       "      <td>0</td>\n",
       "      <td>10.86</td>\n",
       "      <td>4.4526</td>\n",
       "      <td>28.6358</td>\n",
       "      <td>27.1822</td>\n",
       "      <td>1.4536</td>\n",
       "      <td>1</td>\n",
       "    </tr>\n",
       "    <tr>\n",
       "      <th>3</th>\n",
       "      <td>NaN</td>\n",
       "      <td>30K+</td>\n",
       "      <td>1974.73</td>\n",
       "      <td>1239.86</td>\n",
       "      <td>440.92</td>\n",
       "      <td>293.95</td>\n",
       "      <td>724.5119</td>\n",
       "      <td>Single</td>\n",
       "      <td>Female</td>\n",
       "      <td>three</td>\n",
       "      <td>...</td>\n",
       "      <td>0</td>\n",
       "      <td>0</td>\n",
       "      <td>0</td>\n",
       "      <td>0</td>\n",
       "      <td>1.98</td>\n",
       "      <td>0.6732</td>\n",
       "      <td>14.2161</td>\n",
       "      <td>11.2944</td>\n",
       "      <td>2.9217</td>\n",
       "      <td>1</td>\n",
       "    </tr>\n",
       "    <tr>\n",
       "      <th>4</th>\n",
       "      <td>Deluxe</td>\n",
       "      <td>50K+</td>\n",
       "      <td>2862.30</td>\n",
       "      <td>1872.19</td>\n",
       "      <td>593.93</td>\n",
       "      <td>395.95</td>\n",
       "      <td>519.7574</td>\n",
       "      <td>Married</td>\n",
       "      <td>Female</td>\n",
       "      <td>five</td>\n",
       "      <td>...</td>\n",
       "      <td>1</td>\n",
       "      <td>1</td>\n",
       "      <td>1</td>\n",
       "      <td>1</td>\n",
       "      <td>11.56</td>\n",
       "      <td>4.9708</td>\n",
       "      <td>12.6172</td>\n",
       "      <td>9.7100</td>\n",
       "      <td>2.9072</td>\n",
       "      <td>0</td>\n",
       "    </tr>\n",
       "  </tbody>\n",
       "</table>\n",
       "<p>5 rows × 22 columns</p>\n",
       "</div>"
      ],
      "text/plain": [
       "    Store Kind Yearly Income  Store Area  Grocery Area  Frozen Area  \\\n",
       "0       Deluxe          10K+     2842.23       2037.64       481.98   \n",
       "1  Supermarket          50K+     2814.95       2049.72       457.36   \n",
       "2  Supermarket          30K+     2192.32       1322.21       523.32   \n",
       "3          NaN          30K+     1974.73       1239.86       440.92   \n",
       "4       Deluxe          50K+     2862.30       1872.19       593.93   \n",
       "\n",
       "   Meat Area      Cost Marital Status  Gender Num Children  ... Florist  \\\n",
       "0     323.00  602.7575         Single  Female         four  ...       1   \n",
       "1     307.87  708.6650         Single  Female        three  ...       0   \n",
       "2     348.85  564.2647        Married    Male          two  ...       1   \n",
       "3     293.95  724.5119         Single  Female        three  ...       0   \n",
       "4     395.95  519.7574        Married  Female         five  ...       1   \n",
       "\n",
       "   Ready Food  Bar For Salad  Video Store  Store Sales (M)  Store Cost (M)  \\\n",
       "0           1              1            1             8.76          4.2924   \n",
       "1           0              0            0             6.36          1.9716   \n",
       "2           0              0            0            10.86          4.4526   \n",
       "3           0              0            0             1.98          0.6732   \n",
       "4           1              1            1            11.56          4.9708   \n",
       "\n",
       "   Gross Weight  Net Weight  Package Weight  Is Recyclable  \n",
       "0       28.1997     26.6008          1.5990              1  \n",
       "1       16.5710     14.9720          1.5990              0  \n",
       "2       28.6358     27.1822          1.4536              1  \n",
       "3       14.2161     11.2944          2.9217              1  \n",
       "4       12.6172      9.7100          2.9072              0  \n",
       "\n",
       "[5 rows x 22 columns]"
      ]
     },
     "execution_count": 244,
     "metadata": {},
     "output_type": "execute_result"
    }
   ],
   "source": [
    "batch1.iloc[:5,3:]"
   ]
  },
  {
   "cell_type": "markdown",
   "id": "38595eac",
   "metadata": {},
   "source": [
    "### Now we will concatenate all three dataframes into one."
   ]
  },
  {
   "cell_type": "code",
   "execution_count": 245,
   "id": "9ba45350",
   "metadata": {},
   "outputs": [
    {
     "name": "stdout",
     "output_type": "stream",
     "text": [
      "(19440, 25)\n",
      "(12956, 25)\n",
      "(6466, 25)\n",
      "(19942, 24)\n"
     ]
    }
   ],
   "source": [
    "print(batch1.shape)\n",
    "print(batch2.shape)\n",
    "print(batch3.shape)\n",
    "print(test.shape)"
   ]
  },
  {
   "cell_type": "code",
   "execution_count": 246,
   "id": "4bac8956",
   "metadata": {},
   "outputs": [],
   "source": [
    "train_columns= list(batch1.columns)\n",
    "batch1= batch1[train_columns]\n",
    "batch2= batch2[train_columns]\n",
    "batch3= batch3[train_columns]"
   ]
  },
  {
   "cell_type": "code",
   "execution_count": 247,
   "id": "481a8fd9",
   "metadata": {},
   "outputs": [
    {
     "data": {
      "text/html": [
       "<div>\n",
       "<style scoped>\n",
       "    .dataframe tbody tr th:only-of-type {\n",
       "        vertical-align: middle;\n",
       "    }\n",
       "\n",
       "    .dataframe tbody tr th {\n",
       "        vertical-align: top;\n",
       "    }\n",
       "\n",
       "    .dataframe thead th {\n",
       "        text-align: right;\n",
       "    }\n",
       "</style>\n",
       "<table border=\"1\" class=\"dataframe\">\n",
       "  <thead>\n",
       "    <tr style=\"text-align: right;\">\n",
       "      <th></th>\n",
       "      <th>Unnamed: 0</th>\n",
       "      <th>Place Code</th>\n",
       "      <th>Promotion Name</th>\n",
       "      <th>Store Kind</th>\n",
       "      <th>Yearly Income</th>\n",
       "      <th>Store Area</th>\n",
       "      <th>Grocery Area</th>\n",
       "      <th>Frozen Area</th>\n",
       "      <th>Meat Area</th>\n",
       "      <th>Cost</th>\n",
       "      <th>...</th>\n",
       "      <th>Florist</th>\n",
       "      <th>Ready Food</th>\n",
       "      <th>Bar For Salad</th>\n",
       "      <th>Video Store</th>\n",
       "      <th>Store Sales (M)</th>\n",
       "      <th>Store Cost (M)</th>\n",
       "      <th>Gross Weight</th>\n",
       "      <th>Net Weight</th>\n",
       "      <th>Package Weight</th>\n",
       "      <th>Is Recyclable</th>\n",
       "    </tr>\n",
       "  </thead>\n",
       "  <tbody>\n",
       "    <tr>\n",
       "      <th>0</th>\n",
       "      <td>mc_ID_0</td>\n",
       "      <td>H11go_ZA</td>\n",
       "      <td>Dimes Off</td>\n",
       "      <td>Deluxe</td>\n",
       "      <td>10K+</td>\n",
       "      <td>2842.23</td>\n",
       "      <td>2037.64</td>\n",
       "      <td>481.98</td>\n",
       "      <td>323.00</td>\n",
       "      <td>602.7575</td>\n",
       "      <td>...</td>\n",
       "      <td>1</td>\n",
       "      <td>1</td>\n",
       "      <td>1</td>\n",
       "      <td>1</td>\n",
       "      <td>8.76</td>\n",
       "      <td>4.2924</td>\n",
       "      <td>28.1997</td>\n",
       "      <td>26.6008</td>\n",
       "      <td>1.5990</td>\n",
       "      <td>1</td>\n",
       "    </tr>\n",
       "    <tr>\n",
       "      <th>1</th>\n",
       "      <td>mc_ID_1</td>\n",
       "      <td>S04ne_WA</td>\n",
       "      <td>Budget Bargains</td>\n",
       "      <td>Supermarket</td>\n",
       "      <td>50K+</td>\n",
       "      <td>2814.95</td>\n",
       "      <td>2049.72</td>\n",
       "      <td>457.36</td>\n",
       "      <td>307.87</td>\n",
       "      <td>708.6650</td>\n",
       "      <td>...</td>\n",
       "      <td>0</td>\n",
       "      <td>0</td>\n",
       "      <td>0</td>\n",
       "      <td>0</td>\n",
       "      <td>6.36</td>\n",
       "      <td>1.9716</td>\n",
       "      <td>16.5710</td>\n",
       "      <td>14.9720</td>\n",
       "      <td>1.5990</td>\n",
       "      <td>0</td>\n",
       "    </tr>\n",
       "    <tr>\n",
       "      <th>2</th>\n",
       "      <td>mc_ID_2</td>\n",
       "      <td>L05es_CA</td>\n",
       "      <td>Shelf Emptiers</td>\n",
       "      <td>Supermarket</td>\n",
       "      <td>30K+</td>\n",
       "      <td>2192.32</td>\n",
       "      <td>1322.21</td>\n",
       "      <td>523.32</td>\n",
       "      <td>348.85</td>\n",
       "      <td>564.2647</td>\n",
       "      <td>...</td>\n",
       "      <td>1</td>\n",
       "      <td>0</td>\n",
       "      <td>0</td>\n",
       "      <td>0</td>\n",
       "      <td>10.86</td>\n",
       "      <td>4.4526</td>\n",
       "      <td>28.6358</td>\n",
       "      <td>27.1822</td>\n",
       "      <td>1.4536</td>\n",
       "      <td>1</td>\n",
       "    </tr>\n",
       "    <tr>\n",
       "      <th>3</th>\n",
       "      <td>mc_ID_3</td>\n",
       "      <td>S03le_WA</td>\n",
       "      <td>Savings Galore</td>\n",
       "      <td>NaN</td>\n",
       "      <td>30K+</td>\n",
       "      <td>1974.73</td>\n",
       "      <td>1239.86</td>\n",
       "      <td>440.92</td>\n",
       "      <td>293.95</td>\n",
       "      <td>724.5119</td>\n",
       "      <td>...</td>\n",
       "      <td>0</td>\n",
       "      <td>0</td>\n",
       "      <td>0</td>\n",
       "      <td>0</td>\n",
       "      <td>1.98</td>\n",
       "      <td>0.6732</td>\n",
       "      <td>14.2161</td>\n",
       "      <td>11.2944</td>\n",
       "      <td>2.9217</td>\n",
       "      <td>1</td>\n",
       "    </tr>\n",
       "    <tr>\n",
       "      <th>4</th>\n",
       "      <td>mc_ID_4</td>\n",
       "      <td>M10da_YU</td>\n",
       "      <td>Sale Winners</td>\n",
       "      <td>Deluxe</td>\n",
       "      <td>50K+</td>\n",
       "      <td>2862.30</td>\n",
       "      <td>1872.19</td>\n",
       "      <td>593.93</td>\n",
       "      <td>395.95</td>\n",
       "      <td>519.7574</td>\n",
       "      <td>...</td>\n",
       "      <td>1</td>\n",
       "      <td>1</td>\n",
       "      <td>1</td>\n",
       "      <td>1</td>\n",
       "      <td>11.56</td>\n",
       "      <td>4.9708</td>\n",
       "      <td>12.6172</td>\n",
       "      <td>9.7100</td>\n",
       "      <td>2.9072</td>\n",
       "      <td>0</td>\n",
       "    </tr>\n",
       "  </tbody>\n",
       "</table>\n",
       "<p>5 rows × 25 columns</p>\n",
       "</div>"
      ],
      "text/plain": [
       "  Unnamed: 0 Place Code   Promotion Name   Store Kind Yearly Income  \\\n",
       "0    mc_ID_0   H11go_ZA        Dimes Off       Deluxe          10K+   \n",
       "1    mc_ID_1   S04ne_WA  Budget Bargains  Supermarket          50K+   \n",
       "2    mc_ID_2   L05es_CA   Shelf Emptiers  Supermarket          30K+   \n",
       "3    mc_ID_3   S03le_WA   Savings Galore          NaN          30K+   \n",
       "4    mc_ID_4   M10da_YU     Sale Winners       Deluxe          50K+   \n",
       "\n",
       "   Store Area  Grocery Area  Frozen Area  Meat Area      Cost  ... Florist  \\\n",
       "0     2842.23       2037.64       481.98     323.00  602.7575  ...       1   \n",
       "1     2814.95       2049.72       457.36     307.87  708.6650  ...       0   \n",
       "2     2192.32       1322.21       523.32     348.85  564.2647  ...       1   \n",
       "3     1974.73       1239.86       440.92     293.95  724.5119  ...       0   \n",
       "4     2862.30       1872.19       593.93     395.95  519.7574  ...       1   \n",
       "\n",
       "  Ready Food Bar For Salad Video Store  Store Sales (M)  Store Cost (M)  \\\n",
       "0          1             1           1             8.76          4.2924   \n",
       "1          0             0           0             6.36          1.9716   \n",
       "2          0             0           0            10.86          4.4526   \n",
       "3          0             0           0             1.98          0.6732   \n",
       "4          1             1           1            11.56          4.9708   \n",
       "\n",
       "   Gross Weight  Net Weight  Package Weight  Is Recyclable  \n",
       "0       28.1997     26.6008          1.5990              1  \n",
       "1       16.5710     14.9720          1.5990              0  \n",
       "2       28.6358     27.1822          1.4536              1  \n",
       "3       14.2161     11.2944          2.9217              1  \n",
       "4       12.6172      9.7100          2.9072              0  \n",
       "\n",
       "[5 rows x 25 columns]"
      ]
     },
     "execution_count": 247,
     "metadata": {},
     "output_type": "execute_result"
    }
   ],
   "source": [
    "train = pd.concat([batch1, batch2, batch3])\n",
    "train = train.reset_index(drop=True)\n",
    "train.head()"
   ]
  },
  {
   "cell_type": "code",
   "execution_count": 248,
   "id": "7d209018",
   "metadata": {},
   "outputs": [],
   "source": [
    "train.drop(columns='Unnamed: 0', inplace=True)"
   ]
  },
  {
   "cell_type": "code",
   "execution_count": 249,
   "id": "c86b9c87",
   "metadata": {},
   "outputs": [
    {
     "data": {
      "text/plain": [
       "(38862, 24)"
      ]
     },
     "execution_count": 249,
     "metadata": {},
     "output_type": "execute_result"
    }
   ],
   "source": [
    "train.shape"
   ]
  },
  {
   "cell_type": "markdown",
   "id": "32621292",
   "metadata": {},
   "source": [
    "# <a id=\"1\"></a>\n",
    "<div style=\"padding: 30px;color:white;margin:10;font-size:170%;text-align:left;display:fill;border-radius:10px;background-color:#F1C40F;overflow:hidden;background-image: url(https://th.bing.com/th/id/R.3be5e39321febd4c1f758691e109c8bd?rik=lkhAzU4ulIuL0Q&riu=http%3a%2f%2fupload.wikimedia.org%2fwikipedia%2fcommons%2f5%2f56%2fRMS_Titanic_2.jpg&ehk=VbIvq0%2b63pXvH%2bl3Ln4tlz%2bwppwyoN%2fUTZDuGVYTHiQ%3d&risl=&pid=ImgRaw&r=0)\"><b><span style='color:#404040'>Handle with nulls </span></b> </div>"
   ]
  },
  {
   "cell_type": "code",
   "execution_count": 250,
   "id": "c1771adc",
   "metadata": {},
   "outputs": [
    {
     "data": {
      "text/html": [
       "<div>\n",
       "<style scoped>\n",
       "    .dataframe tbody tr th:only-of-type {\n",
       "        vertical-align: middle;\n",
       "    }\n",
       "\n",
       "    .dataframe tbody tr th {\n",
       "        vertical-align: top;\n",
       "    }\n",
       "\n",
       "    .dataframe thead th {\n",
       "        text-align: right;\n",
       "    }\n",
       "</style>\n",
       "<table border=\"1\" class=\"dataframe\">\n",
       "  <thead>\n",
       "    <tr style=\"text-align: right;\">\n",
       "      <th></th>\n",
       "      <th>mean of nulls</th>\n",
       "      <th>num of nulls</th>\n",
       "    </tr>\n",
       "  </thead>\n",
       "  <tbody>\n",
       "    <tr>\n",
       "      <th>Promotion Name</th>\n",
       "      <td>0.149967</td>\n",
       "      <td>5828</td>\n",
       "    </tr>\n",
       "    <tr>\n",
       "      <th>Store Kind</th>\n",
       "      <td>0.149478</td>\n",
       "      <td>5809</td>\n",
       "    </tr>\n",
       "    <tr>\n",
       "      <th>Cost</th>\n",
       "      <td>0.000798</td>\n",
       "      <td>31</td>\n",
       "    </tr>\n",
       "    <tr>\n",
       "      <th>Store Sales (M)</th>\n",
       "      <td>0.000386</td>\n",
       "      <td>15</td>\n",
       "    </tr>\n",
       "    <tr>\n",
       "      <th>Yearly Income</th>\n",
       "      <td>0.000206</td>\n",
       "      <td>8</td>\n",
       "    </tr>\n",
       "    <tr>\n",
       "      <th>Store Cost (M)</th>\n",
       "      <td>0.000180</td>\n",
       "      <td>7</td>\n",
       "    </tr>\n",
       "    <tr>\n",
       "      <th>Customer order</th>\n",
       "      <td>0.000051</td>\n",
       "      <td>2</td>\n",
       "    </tr>\n",
       "  </tbody>\n",
       "</table>\n",
       "</div>"
      ],
      "text/plain": [
       "                 mean of nulls  num of nulls\n",
       "Promotion Name        0.149967          5828\n",
       "Store Kind            0.149478          5809\n",
       "Cost                  0.000798            31\n",
       "Store Sales (M)       0.000386            15\n",
       "Yearly Income         0.000206             8\n",
       "Store Cost (M)        0.000180             7\n",
       "Customer order        0.000051             2"
      ]
     },
     "execution_count": 250,
     "metadata": {},
     "output_type": "execute_result"
    }
   ],
   "source": [
    "train_na = (train.isna().sum() / len(train)) \n",
    "train_na = train_na.drop(train_na[train_na == 0].index).sort_values(ascending=False)\n",
    "train_na_data = pd.DataFrame({'mean of nulls' :train_na, \"num of nulls\" : train[train_na.index].isna().sum()})\n",
    "train_na_data"
   ]
  },
  {
   "cell_type": "code",
   "execution_count": 251,
   "id": "9c945ffa",
   "metadata": {},
   "outputs": [
    {
     "data": {
      "text/html": [
       "<div>\n",
       "<style scoped>\n",
       "    .dataframe tbody tr th:only-of-type {\n",
       "        vertical-align: middle;\n",
       "    }\n",
       "\n",
       "    .dataframe tbody tr th {\n",
       "        vertical-align: top;\n",
       "    }\n",
       "\n",
       "    .dataframe thead th {\n",
       "        text-align: right;\n",
       "    }\n",
       "</style>\n",
       "<table border=\"1\" class=\"dataframe\">\n",
       "  <thead>\n",
       "    <tr style=\"text-align: right;\">\n",
       "      <th></th>\n",
       "      <th>mean of nulls</th>\n",
       "      <th>num of nulls</th>\n",
       "    </tr>\n",
       "  </thead>\n",
       "  <tbody>\n",
       "    <tr>\n",
       "      <th>Store Kind</th>\n",
       "      <td>0.001404</td>\n",
       "      <td>28</td>\n",
       "    </tr>\n",
       "    <tr>\n",
       "      <th>Promotion Name</th>\n",
       "      <td>0.001304</td>\n",
       "      <td>26</td>\n",
       "    </tr>\n",
       "  </tbody>\n",
       "</table>\n",
       "</div>"
      ],
      "text/plain": [
       "                mean of nulls  num of nulls\n",
       "Store Kind           0.001404            28\n",
       "Promotion Name       0.001304            26"
      ]
     },
     "execution_count": 251,
     "metadata": {},
     "output_type": "execute_result"
    }
   ],
   "source": [
    "test_na = (test.isna().sum() / len(test)) \n",
    "test_na = test_na.drop(test_na[test_na == 0].index).sort_values(ascending=False)\n",
    "test_na_data = pd.DataFrame({'mean of nulls' :test_na, \"num of nulls\" : test[test_na.index].isna().sum()})\n",
    "test_na_data"
   ]
  },
  {
   "cell_type": "markdown",
   "id": "367015d5",
   "metadata": {},
   "source": [
    "**Promotion Name and Store Kind**"
   ]
  },
  {
   "cell_type": "markdown",
   "id": "9d8b5ec4",
   "metadata": {},
   "source": [
    "We will impute `Promotion Name` based on `Store Kind` and vice versa."
   ]
  },
  {
   "cell_type": "code",
   "execution_count": 252,
   "id": "b9a5ec53",
   "metadata": {},
   "outputs": [
    {
     "data": {
      "text/plain": [
       "1004"
      ]
     },
     "execution_count": 252,
     "metadata": {},
     "output_type": "execute_result"
    }
   ],
   "source": [
    "len(train[train['Promotion Name'].isna() & train['Store Kind'].isna()])"
   ]
  },
  {
   "cell_type": "markdown",
   "id": "317dfbfd",
   "metadata": {},
   "source": [
    "There will still be 1004 missing data in both columns.We will impute them with `mode()` method."
   ]
  },
  {
   "cell_type": "code",
   "execution_count": 253,
   "id": "cec032e7",
   "metadata": {},
   "outputs": [
    {
     "data": {
      "text/plain": [
       "Supermarket      14315\n",
       "Deluxe           12602\n",
       "Gourmet           3554\n",
       "Mid-Size          1497\n",
       "Small Grocery     1085\n",
       "Name: Store Kind, dtype: int64"
      ]
     },
     "execution_count": 253,
     "metadata": {},
     "output_type": "execute_result"
    }
   ],
   "source": [
    "train['Store Kind'].value_counts()"
   ]
  },
  {
   "cell_type": "code",
   "execution_count": 254,
   "id": "37f91206",
   "metadata": {},
   "outputs": [
    {
     "data": {
      "text/plain": [
       "Save Price               1288\n",
       "Weekend Discount         1279\n",
       "Two Day Sale             1258\n",
       "Price Winners            1157\n",
       "Super Savers             1086\n",
       "Save It (Sale)           1074\n",
       "Super Duper Savers       1066\n",
       "One Day Sale             1010\n",
       "Roller Savings (High)     992\n",
       "Sale : Double Down        970\n",
       "Name: Promotion Name, dtype: int64"
      ]
     },
     "execution_count": 254,
     "metadata": {},
     "output_type": "execute_result"
    }
   ],
   "source": [
    "train['Promotion Name'].value_counts()[:10]"
   ]
  },
  {
   "cell_type": "code",
   "execution_count": 255,
   "id": "45d2bf66",
   "metadata": {},
   "outputs": [
    {
     "data": {
      "text/html": [
       "<div>\n",
       "<style scoped>\n",
       "    .dataframe tbody tr th:only-of-type {\n",
       "        vertical-align: middle;\n",
       "    }\n",
       "\n",
       "    .dataframe tbody tr th {\n",
       "        vertical-align: top;\n",
       "    }\n",
       "\n",
       "    .dataframe thead th {\n",
       "        text-align: right;\n",
       "    }\n",
       "</style>\n",
       "<table border=\"1\" class=\"dataframe\">\n",
       "  <thead>\n",
       "    <tr style=\"text-align: right;\">\n",
       "      <th></th>\n",
       "      <th>Store Kind</th>\n",
       "      <th>Promotion Name</th>\n",
       "      <th>0</th>\n",
       "    </tr>\n",
       "  </thead>\n",
       "  <tbody>\n",
       "    <tr>\n",
       "      <th>171</th>\n",
       "      <td>Supermarket</td>\n",
       "      <td>Weekend Discount</td>\n",
       "      <td>786</td>\n",
       "    </tr>\n",
       "    <tr>\n",
       "      <th>13</th>\n",
       "      <td>Deluxe</td>\n",
       "      <td>Lottery Cash Registerion</td>\n",
       "      <td>726</td>\n",
       "    </tr>\n",
       "    <tr>\n",
       "      <th>60</th>\n",
       "      <td>Gourmet</td>\n",
       "      <td>Two Day Sale</td>\n",
       "      <td>319</td>\n",
       "    </tr>\n",
       "    <tr>\n",
       "      <th>65</th>\n",
       "      <td>Mid-Size</td>\n",
       "      <td>Budget Bargains</td>\n",
       "      <td>98</td>\n",
       "    </tr>\n",
       "    <tr>\n",
       "      <th>108</th>\n",
       "      <td>Small Grocery</td>\n",
       "      <td>Price Winners</td>\n",
       "      <td>51</td>\n",
       "    </tr>\n",
       "  </tbody>\n",
       "</table>\n",
       "</div>"
      ],
      "text/plain": [
       "        Store Kind            Promotion Name    0\n",
       "171    Supermarket          Weekend Discount  786\n",
       "13          Deluxe  Lottery Cash Registerion  726\n",
       "60         Gourmet              Two Day Sale  319\n",
       "65        Mid-Size           Budget Bargains   98\n",
       "108  Small Grocery             Price Winners   51"
      ]
     },
     "execution_count": 255,
     "metadata": {},
     "output_type": "execute_result"
    }
   ],
   "source": [
    "StoreKind_by_Promotion = train.groupby(['Store Kind', 'Promotion Name']).size().reset_index().sort_values(by=0, ascending=False)\n",
    "max_indices = StoreKind_by_Promotion.groupby('Store Kind')[0].idxmax()\n",
    "StoreKind_by_Promotion.loc[max_indices].sort_values(by=0,ascending=False)"
   ]
  },
  {
   "cell_type": "code",
   "execution_count": 256,
   "id": "814f779b",
   "metadata": {},
   "outputs": [
    {
     "data": {
      "text/html": [
       "<div>\n",
       "<style scoped>\n",
       "    .dataframe tbody tr th:only-of-type {\n",
       "        vertical-align: middle;\n",
       "    }\n",
       "\n",
       "    .dataframe tbody tr th {\n",
       "        vertical-align: top;\n",
       "    }\n",
       "\n",
       "    .dataframe thead th {\n",
       "        text-align: right;\n",
       "    }\n",
       "</style>\n",
       "<table border=\"1\" class=\"dataframe\">\n",
       "  <thead>\n",
       "    <tr style=\"text-align: right;\">\n",
       "      <th></th>\n",
       "      <th>Promotion Name</th>\n",
       "      <th>Store Kind</th>\n",
       "      <th>0</th>\n",
       "    </tr>\n",
       "  </thead>\n",
       "  <tbody>\n",
       "    <tr>\n",
       "      <th>169</th>\n",
       "      <td>Weekend Discount</td>\n",
       "      <td>Supermarket</td>\n",
       "      <td>786</td>\n",
       "    </tr>\n",
       "    <tr>\n",
       "      <th>55</th>\n",
       "      <td>Lottery Cash Registerion</td>\n",
       "      <td>Deluxe</td>\n",
       "      <td>726</td>\n",
       "    </tr>\n",
       "    <tr>\n",
       "      <th>118</th>\n",
       "      <td>Save Price</td>\n",
       "      <td>Deluxe</td>\n",
       "      <td>638</td>\n",
       "    </tr>\n",
       "    <tr>\n",
       "      <th>97</th>\n",
       "      <td>Sale : Double Down</td>\n",
       "      <td>Deluxe</td>\n",
       "      <td>556</td>\n",
       "    </tr>\n",
       "    <tr>\n",
       "      <th>142</th>\n",
       "      <td>Super Savers</td>\n",
       "      <td>Supermarket</td>\n",
       "      <td>547</td>\n",
       "    </tr>\n",
       "  </tbody>\n",
       "</table>\n",
       "</div>"
      ],
      "text/plain": [
       "               Promotion Name   Store Kind    0\n",
       "169          Weekend Discount  Supermarket  786\n",
       "55   Lottery Cash Registerion       Deluxe  726\n",
       "118                Save Price       Deluxe  638\n",
       "97         Sale : Double Down       Deluxe  556\n",
       "142              Super Savers  Supermarket  547"
      ]
     },
     "execution_count": 256,
     "metadata": {},
     "output_type": "execute_result"
    }
   ],
   "source": [
    "Promotion_by_StoreKind = train.groupby(['Promotion Name', 'Store Kind']).size().reset_index().sort_values(by=0, ascending=False)\n",
    "max_indices = Promotion_by_StoreKind.groupby('Promotion Name')[0].idxmax()\n",
    "Promotion_by_StoreKind.loc[max_indices].sort_values(by=0,ascending=False).head()"
   ]
  },
  {
   "cell_type": "code",
   "execution_count": 257,
   "id": "758ea41a",
   "metadata": {},
   "outputs": [],
   "source": [
    "for index, row in train.iterrows():\n",
    "    promotion_name = row['Promotion Name']\n",
    "    \n",
    "    if pd.isnull(row['Store Kind']):\n",
    "        if pd.isnull(promotion_name): train.at[index, 'Store Kind'] = row['Store Kind']\n",
    "            \n",
    "        elif promotion_name in ['Weekend Discount', 'Super Savers', 'Save It (Sale)', 'Roller Savings (High)', 'Savings Galore', 'Go For It',\n",
    "                               'Big Time Discounts', 'Shelf Clearing Days', 'Best Price Savers', 'Price Slashers', 'Full Free', 'Budget Bargains',\n",
    "                               'Sales Days', 'You Save Days', 'Price Destroyers', 'Two Day Sale', 'Two for One',\n",
    "                               'Saving Days', 'Wallet Savers', 'Three for One', 'Best Savings', 'Mystery Sale', 'Super Wallet Savers',\n",
    "                               'Sale Sale Sale', 'Double Your Savings']:\n",
    "            train.at[index, 'Store Kind'] = 'Supermarket'\n",
    "        elif promotion_name in ['Lottery Cash Registerion', 'Save Price', 'Sale : Double Down', 'Super Duper Savers', 'Bag Stuffer',\n",
    "                                 'Price Winners', 'Dimes Off', 'One Day Sale', 'I Cant Believe It Sale', 'Money Savers',\n",
    "                                 'GLD', 'Tip Top Savings', 'Promo Big', 'Discount Frenzy', 'Sale Winners', 'Dollar Days',\n",
    "                                 'Big Time Saving', 'Pick Your Savings', 'Price Smashers', 'Green Light Special']:\n",
    "            train.at[index, 'Store Kind'] = 'Deluxe'\n",
    "        elif promotion_name in ['Shelf Emptiers', 'Price Cutters', 'Fantastic Discounts']:\n",
    "            train.at[index, 'Store Kind'] = 'Gourmet'\n",
    "        elif promotion_name == 'Coupon Spectacular':\n",
    "            train.at[index, 'Store Kind'] = 'Mid-Size'\n"
   ]
  },
  {
   "cell_type": "code",
   "execution_count": 258,
   "id": "f847cb24",
   "metadata": {},
   "outputs": [],
   "source": [
    "promotion_mapping = {\n",
    "    'Supermarket': 'Weekend Discount',\n",
    "    'Deluxe': 'Lottery Cash Registerion',\n",
    "    'Gourmet': 'Two Day Sale',\n",
    "    'Mid-Size': 'Budget Bargains',\n",
    "    'Small Grocery': 'Price Winners'\n",
    "}\n",
    "\n",
    "train['Promotion Name'] = train.apply(lambda row: promotion_mapping.get(row['Store Kind']) if pd.isnull(row['Promotion Name']) else row['Promotion Name'], axis=1)"
   ]
  },
  {
   "cell_type": "code",
   "execution_count": 259,
   "id": "03060584",
   "metadata": {},
   "outputs": [],
   "source": [
    "train['Promotion Name'].fillna(train['Promotion Name'].mode()[0], inplace= True)\n",
    "train['Store Kind'].fillna(train['Store Kind'].mode()[0], inplace= True)"
   ]
  },
  {
   "cell_type": "code",
   "execution_count": 260,
   "id": "3cf351fc",
   "metadata": {},
   "outputs": [],
   "source": [
    "test['Promotion Name'].fillna(test['Promotion Name'].mode()[0], inplace= True)\n",
    "test['Store Kind'].fillna(test['Store Kind'].mode()[0], inplace= True)"
   ]
  },
  {
   "cell_type": "markdown",
   "id": "a6241173",
   "metadata": {},
   "source": [
    "**Cost, Store Sales (M), Store Cost (M) and Sales Cost ratio**"
   ]
  },
  {
   "cell_type": "code",
   "execution_count": 261,
   "id": "95e81e76",
   "metadata": {},
   "outputs": [],
   "source": [
    "columns_to_fill = ['Cost', 'Store Sales (M)', 'Store Cost (M)']\n",
    "train[columns_to_fill] = train[columns_to_fill].fillna(train[columns_to_fill].mean())"
   ]
  },
  {
   "cell_type": "raw",
   "id": "afe923b5",
   "metadata": {},
   "source": [
    "train['Sales Cost ratio'].fillna(train['Store Cost (M)'] / train['Store Sales (M)'],inplace=True)"
   ]
  },
  {
   "cell_type": "code",
   "execution_count": 262,
   "id": "5e4c110a",
   "metadata": {},
   "outputs": [],
   "source": [
    "for col in ['Yearly Income', 'Customer order']:\n",
    "    train[col] = train[col].fillna(train[col].mode()[0])"
   ]
  },
  {
   "cell_type": "markdown",
   "id": "ac92b161",
   "metadata": {},
   "source": [
    "# <a id=\"1\"></a>\n",
    "<div style=\"padding: 30px;color:white;margin:10;font-size:170%;text-align:left;display:fill;border-radius:10px;background-color:#F1C40F;overflow:hidden;background-image: url(https://th.bing.com/th/id/R.3be5e39321febd4c1f758691e109c8bd?rik=lkhAzU4ulIuL0Q&riu=http%3a%2f%2fupload.wikimedia.org%2fwikipedia%2fcommons%2f5%2f56%2fRMS_Titanic_2.jpg&ehk=VbIvq0%2b63pXvH%2bl3Ln4tlz%2bwppwyoN%2fUTZDuGVYTHiQ%3d&risl=&pid=ImgRaw&r=0)\"><b><span style='color:#404040'>  Explore data </span></b> </div>"
   ]
  },
  {
   "cell_type": "code",
   "execution_count": 263,
   "id": "9a17ea40",
   "metadata": {},
   "outputs": [
    {
     "name": "stdout",
     "output_type": "stream",
     "text": [
      "number of numerical columns: 10\n",
      "num_cols: ['Store Area', 'Grocery Area', 'Frozen Area', 'Meat Area', 'Cost', 'Store Sales (M)', 'Store Cost (M)', 'Gross Weight', 'Net Weight', 'Package Weight']\n",
      "------------------------\n",
      "number of descrete columns: 6\n",
      "descrete columns: ['Coffee Bar', 'Florist', 'Ready Food', 'Bar For Salad', 'Video Store', 'Is Recyclable']\n"
     ]
    }
   ],
   "source": [
    "descrete_cols= [col for col in train.columns if train[col].nunique() < 10 and train[col].dtypes != 'O']\n",
    "\n",
    "# numerical columns\n",
    "num_cols= [col for col in train.columns if train[col].dtypes != 'O']\n",
    "num_cols= [col for col in num_cols if col not in descrete_cols]\n",
    "\n",
    "print(f'number of numerical columns: {len(num_cols)}')\n",
    "print(f'num_cols: {num_cols}')\n",
    "print('------------------------')\n",
    "print(f'number of descrete columns: {len(descrete_cols)}')\n",
    "print(f'descrete columns: {descrete_cols}')"
   ]
  },
  {
   "cell_type": "code",
   "execution_count": 264,
   "id": "7209fa0f",
   "metadata": {},
   "outputs": [],
   "source": [
    "def two_plots_num_column(df, feature):\n",
    "    \n",
    "    print(f\"the skewness value of {feature} column = {df[feature].skew():.2f}\")\n",
    "    plt.figure(figsize=(10,4))\n",
    "    \n",
    "    plt.subplot(1,2,1)\n",
    "    plt.title('histgram')\n",
    "    sns.histplot(data=df, x=feature, kde=True)\n",
    "    plt.axvline(x = df[feature].mean(), c = 'red')\n",
    "    plt.axvline(x = df[feature].median(), c = 'green')\n",
    "\n",
    "    plt.subplot(1,2,2)\n",
    "    plt.title('Boxplot')\n",
    "    sns.boxplot(y=df[feature])"
   ]
  },
  {
   "cell_type": "code",
   "execution_count": 265,
   "id": "d82c04d3",
   "metadata": {},
   "outputs": [
    {
     "name": "stdout",
     "output_type": "stream",
     "text": [
      "the skewness value of Store Area column = 0.42\n"
     ]
    },
    {
     "data": {
      "image/png": "[encoded data removed]",
      "text/plain": [
       "<Figure size 1000x400 with 2 Axes>"
      ]
     },
     "metadata": {},
     "output_type": "display_data"
    }
   ],
   "source": [
    "two_plots_num_column(train, 'Store Area')"
   ]
  },
  {
   "cell_type": "code",
   "execution_count": 266,
   "id": "5a519499",
   "metadata": {},
   "outputs": [],
   "source": [
    "train.loc[train['Store Area']>4200,'Store Area'] = train['Store Area'].mean()"
   ]
  },
  {
   "cell_type": "code",
   "execution_count": 267,
   "id": "85de2b68",
   "metadata": {},
   "outputs": [
    {
     "name": "stdout",
     "output_type": "stream",
     "text": [
      "the skewness value of Grocery Area column = 0.57\n"
     ]
    },
    {
     "data": {
      "image/png": "[encoded data removed]",
      "text/plain": [
       "<Figure size 1000x400 with 2 Axes>"
      ]
     },
     "metadata": {},
     "output_type": "display_data"
    }
   ],
   "source": [
    "two_plots_num_column(train, 'Grocery Area')"
   ]
  },
  {
   "cell_type": "code",
   "execution_count": 268,
   "id": "cb176224",
   "metadata": {},
   "outputs": [],
   "source": [
    "train.loc[train['Grocery Area']>3000,'Grocery Area'] = train['Grocery Area'].mean()"
   ]
  },
  {
   "cell_type": "code",
   "execution_count": 269,
   "id": "ff48bdce",
   "metadata": {},
   "outputs": [
    {
     "name": "stdout",
     "output_type": "stream",
     "text": [
      "the skewness value of Frozen Area column = 0.58\n"
     ]
    },
    {
     "data": {
      "image/png": "[encoded data removed]",
      "text/plain": [
       "<Figure size 1000x400 with 2 Axes>"
      ]
     },
     "metadata": {},
     "output_type": "display_data"
    }
   ],
   "source": [
    "two_plots_num_column(train, 'Frozen Area')"
   ]
  },
  {
   "cell_type": "code",
   "execution_count": 270,
   "id": "9dce50d4",
   "metadata": {},
   "outputs": [],
   "source": [
    "train.loc[train['Frozen Area']>1000,'Frozen Area'] = train['Frozen Area'].mean()"
   ]
  },
  {
   "cell_type": "code",
   "execution_count": 271,
   "id": "d3c0edf1",
   "metadata": {},
   "outputs": [
    {
     "name": "stdout",
     "output_type": "stream",
     "text": [
      "the skewness value of Store Sales (M) column = 0.69\n"
     ]
    },
    {
     "data": {
      "image/png": "[encoded data removed]",
      "text/plain": [
       "<Figure size 1000x400 with 2 Axes>"
      ]
     },
     "metadata": {},
     "output_type": "display_data"
    }
   ],
   "source": [
    "two_plots_num_column(test, 'Store Sales (M)')"
   ]
  },
  {
   "cell_type": "code",
   "execution_count": 272,
   "id": "b4497b9f",
   "metadata": {},
   "outputs": [],
   "source": [
    "test.loc[test['Store Sales (M)']>20,'Store Sales (M)'] = test['Store Sales (M)'].mean()"
   ]
  },
  {
   "cell_type": "code",
   "execution_count": 273,
   "id": "dea0ecc2",
   "metadata": {},
   "outputs": [
    {
     "name": "stdout",
     "output_type": "stream",
     "text": [
      "the skewness value of Store Cost (M) column = 0.83\n"
     ]
    },
    {
     "data": {
      "image/png": "[encoded data removed]",
      "text/plain": [
       "<Figure size 1000x400 with 2 Axes>"
      ]
     },
     "metadata": {},
     "output_type": "display_data"
    }
   ],
   "source": [
    "two_plots_num_column(train, 'Store Cost (M)')"
   ]
  },
  {
   "cell_type": "code",
   "execution_count": 274,
   "id": "125bdd06",
   "metadata": {},
   "outputs": [],
   "source": [
    "test.loc[test['Store Cost (M)']>8,'Store Cost (M)'] = test['Store Cost (M)'].mean()\n",
    "train.loc[train['Store Cost (M)']>8,'Store Cost (M)'] = train['Store Cost (M)'].mean()"
   ]
  },
  {
   "cell_type": "code",
   "execution_count": 275,
   "id": "55b64074",
   "metadata": {},
   "outputs": [
    {
     "data": {
      "text/plain": [
       "['Place Code',\n",
       " 'Promotion Name',\n",
       " 'Store Kind',\n",
       " 'Yearly Income',\n",
       " 'Marital Status',\n",
       " 'Gender',\n",
       " 'Num Children',\n",
       " 'Customer order']"
      ]
     },
     "execution_count": 275,
     "metadata": {},
     "output_type": "execute_result"
    }
   ],
   "source": [
    "cat_cols = [col for col in train.columns if train[col].dtypes == 'O']\n",
    "\n",
    "# categorical columns\n",
    "cat_cols "
   ]
  },
  {
   "cell_type": "code",
   "execution_count": 276,
   "id": "14a2629a",
   "metadata": {},
   "outputs": [
    {
     "data": {
      "text/plain": [
       "Index(['Place Code', 'Promotion Name', 'Store Kind', 'Yearly Income',\n",
       "       'Store Area', 'Grocery Area', 'Frozen Area', 'Meat Area', 'Cost',\n",
       "       'Marital Status', 'Gender', 'Num Children', 'Customer order',\n",
       "       'Coffee Bar', 'Florist', 'Ready Food', 'Bar For Salad', 'Video Store',\n",
       "       'Store Sales (M)', 'Store Cost (M)', 'Gross Weight', 'Net Weight',\n",
       "       'Package Weight', 'Is Recyclable'],\n",
       "      dtype='object')"
      ]
     },
     "execution_count": 276,
     "metadata": {},
     "output_type": "execute_result"
    }
   ],
   "source": [
    "train.columns"
   ]
  },
  {
   "cell_type": "code",
   "execution_count": 277,
   "id": "aee6bb26",
   "metadata": {},
   "outputs": [],
   "source": [
    "train_columns = ['Place Code', 'Promotion Name', 'Store Kind', 'Yearly Income',\n",
    "       'Store Area', 'Grocery Area', 'Frozen Area', 'Meat Area',\n",
    "       'Marital Status', 'Gender', 'Num Children', 'Customer order', 'Coffee Bar', 'Florist',\n",
    "       'Ready Food', 'Bar For Salad', 'Video Store', 'Store Sales (M)',\n",
    "       'Store Cost (M)', 'Gross Weight', 'Net Weight',\n",
    "       'Package Weight', 'Is Recyclable', 'Cost']"
   ]
  },
  {
   "cell_type": "code",
   "execution_count": 278,
   "id": "c52980fc",
   "metadata": {},
   "outputs": [],
   "source": [
    "test_columns = ['Unnamed: 0','Place Code', 'Promotion Name', 'Store Kind', 'Yearly Income',\n",
    "       'Store Area', 'Grocery Area', 'Frozen Area', 'Meat Area',\n",
    "       'Marital Status', 'Gender', 'Num Children', 'Customer order', 'Coffee Bar', 'Florist',\n",
    "       'Ready Food', 'Bar For Salad', 'Video Store', 'Store Sales (M)',\n",
    "       'Store Cost (M)', 'Gross Weight', 'Net Weight',\n",
    "       'Package Weight', 'Is Recyclable']"
   ]
  },
  {
   "cell_type": "code",
   "execution_count": 279,
   "id": "c6bea864",
   "metadata": {},
   "outputs": [],
   "source": [
    "train = train[train_columns]\n",
    "test = test[test_columns]"
   ]
  },
  {
   "cell_type": "code",
   "execution_count": 280,
   "id": "3246fb54",
   "metadata": {},
   "outputs": [
    {
     "data": {
      "text/html": [
       "<div>\n",
       "<style scoped>\n",
       "    .dataframe tbody tr th:only-of-type {\n",
       "        vertical-align: middle;\n",
       "    }\n",
       "\n",
       "    .dataframe tbody tr th {\n",
       "        vertical-align: top;\n",
       "    }\n",
       "\n",
       "    .dataframe thead th {\n",
       "        text-align: right;\n",
       "    }\n",
       "</style>\n",
       "<table border=\"1\" class=\"dataframe\">\n",
       "  <thead>\n",
       "    <tr style=\"text-align: right;\">\n",
       "      <th></th>\n",
       "      <th>Place Code</th>\n",
       "      <th>Promotion Name</th>\n",
       "      <th>Store Kind</th>\n",
       "      <th>Yearly Income</th>\n",
       "      <th>Store Area</th>\n",
       "      <th>Grocery Area</th>\n",
       "      <th>Frozen Area</th>\n",
       "      <th>Meat Area</th>\n",
       "      <th>Marital Status</th>\n",
       "      <th>Gender</th>\n",
       "      <th>...</th>\n",
       "      <th>Ready Food</th>\n",
       "      <th>Bar For Salad</th>\n",
       "      <th>Video Store</th>\n",
       "      <th>Store Sales (M)</th>\n",
       "      <th>Store Cost (M)</th>\n",
       "      <th>Gross Weight</th>\n",
       "      <th>Net Weight</th>\n",
       "      <th>Package Weight</th>\n",
       "      <th>Is Recyclable</th>\n",
       "      <th>Cost</th>\n",
       "    </tr>\n",
       "  </thead>\n",
       "  <tbody>\n",
       "    <tr>\n",
       "      <th>0</th>\n",
       "      <td>H11go_ZA</td>\n",
       "      <td>Dimes Off</td>\n",
       "      <td>Deluxe</td>\n",
       "      <td>10K+</td>\n",
       "      <td>2842.23</td>\n",
       "      <td>2037.64</td>\n",
       "      <td>481.98</td>\n",
       "      <td>323.00</td>\n",
       "      <td>Single</td>\n",
       "      <td>Female</td>\n",
       "      <td>...</td>\n",
       "      <td>1</td>\n",
       "      <td>1</td>\n",
       "      <td>1</td>\n",
       "      <td>8.76</td>\n",
       "      <td>4.2924</td>\n",
       "      <td>28.1997</td>\n",
       "      <td>26.6008</td>\n",
       "      <td>1.5990</td>\n",
       "      <td>1</td>\n",
       "      <td>602.7575</td>\n",
       "    </tr>\n",
       "    <tr>\n",
       "      <th>1</th>\n",
       "      <td>S04ne_WA</td>\n",
       "      <td>Budget Bargains</td>\n",
       "      <td>Supermarket</td>\n",
       "      <td>50K+</td>\n",
       "      <td>2814.95</td>\n",
       "      <td>2049.72</td>\n",
       "      <td>457.36</td>\n",
       "      <td>307.87</td>\n",
       "      <td>Single</td>\n",
       "      <td>Female</td>\n",
       "      <td>...</td>\n",
       "      <td>0</td>\n",
       "      <td>0</td>\n",
       "      <td>0</td>\n",
       "      <td>6.36</td>\n",
       "      <td>1.9716</td>\n",
       "      <td>16.5710</td>\n",
       "      <td>14.9720</td>\n",
       "      <td>1.5990</td>\n",
       "      <td>0</td>\n",
       "      <td>708.6650</td>\n",
       "    </tr>\n",
       "    <tr>\n",
       "      <th>2</th>\n",
       "      <td>L05es_CA</td>\n",
       "      <td>Shelf Emptiers</td>\n",
       "      <td>Supermarket</td>\n",
       "      <td>30K+</td>\n",
       "      <td>2192.32</td>\n",
       "      <td>1322.21</td>\n",
       "      <td>523.32</td>\n",
       "      <td>348.85</td>\n",
       "      <td>Married</td>\n",
       "      <td>Male</td>\n",
       "      <td>...</td>\n",
       "      <td>0</td>\n",
       "      <td>0</td>\n",
       "      <td>0</td>\n",
       "      <td>10.86</td>\n",
       "      <td>4.4526</td>\n",
       "      <td>28.6358</td>\n",
       "      <td>27.1822</td>\n",
       "      <td>1.4536</td>\n",
       "      <td>1</td>\n",
       "      <td>564.2647</td>\n",
       "    </tr>\n",
       "  </tbody>\n",
       "</table>\n",
       "<p>3 rows × 24 columns</p>\n",
       "</div>"
      ],
      "text/plain": [
       "  Place Code   Promotion Name   Store Kind Yearly Income  Store Area  \\\n",
       "0   H11go_ZA        Dimes Off       Deluxe          10K+     2842.23   \n",
       "1   S04ne_WA  Budget Bargains  Supermarket          50K+     2814.95   \n",
       "2   L05es_CA   Shelf Emptiers  Supermarket          30K+     2192.32   \n",
       "\n",
       "   Grocery Area  Frozen Area  Meat Area Marital Status  Gender  ...  \\\n",
       "0       2037.64       481.98     323.00         Single  Female  ...   \n",
       "1       2049.72       457.36     307.87         Single  Female  ...   \n",
       "2       1322.21       523.32     348.85        Married    Male  ...   \n",
       "\n",
       "  Ready Food Bar For Salad  Video Store  Store Sales (M)  Store Cost (M)  \\\n",
       "0          1             1            1             8.76          4.2924   \n",
       "1          0             0            0             6.36          1.9716   \n",
       "2          0             0            0            10.86          4.4526   \n",
       "\n",
       "   Gross Weight  Net Weight  Package Weight  Is Recyclable      Cost  \n",
       "0       28.1997     26.6008          1.5990              1  602.7575  \n",
       "1       16.5710     14.9720          1.5990              0  708.6650  \n",
       "2       28.6358     27.1822          1.4536              1  564.2647  \n",
       "\n",
       "[3 rows x 24 columns]"
      ]
     },
     "execution_count": 280,
     "metadata": {},
     "output_type": "execute_result"
    }
   ],
   "source": [
    "train.head(3)"
   ]
  },
  {
   "cell_type": "code",
   "execution_count": 281,
   "id": "f605459e",
   "metadata": {},
   "outputs": [
    {
     "data": {
      "text/html": [
       "<div>\n",
       "<style scoped>\n",
       "    .dataframe tbody tr th:only-of-type {\n",
       "        vertical-align: middle;\n",
       "    }\n",
       "\n",
       "    .dataframe tbody tr th {\n",
       "        vertical-align: top;\n",
       "    }\n",
       "\n",
       "    .dataframe thead th {\n",
       "        text-align: right;\n",
       "    }\n",
       "</style>\n",
       "<table border=\"1\" class=\"dataframe\">\n",
       "  <thead>\n",
       "    <tr style=\"text-align: right;\">\n",
       "      <th></th>\n",
       "      <th>Store Kind</th>\n",
       "      <th>Yearly Income</th>\n",
       "      <th>Store Area</th>\n",
       "      <th>Grocery Area</th>\n",
       "      <th>Frozen Area</th>\n",
       "      <th>Meat Area</th>\n",
       "      <th>Marital Status</th>\n",
       "      <th>Gender</th>\n",
       "      <th>Num Children</th>\n",
       "      <th>Customer order</th>\n",
       "      <th>...</th>\n",
       "      <th>Florist</th>\n",
       "      <th>Ready Food</th>\n",
       "      <th>Bar For Salad</th>\n",
       "      <th>Video Store</th>\n",
       "      <th>Store Sales (M)</th>\n",
       "      <th>Store Cost (M)</th>\n",
       "      <th>Gross Weight</th>\n",
       "      <th>Net Weight</th>\n",
       "      <th>Package Weight</th>\n",
       "      <th>Is Recyclable</th>\n",
       "    </tr>\n",
       "  </thead>\n",
       "  <tbody>\n",
       "    <tr>\n",
       "      <th>0</th>\n",
       "      <td>Gourmet</td>\n",
       "      <td>50K+</td>\n",
       "      <td>2201.06</td>\n",
       "      <td>1424.85</td>\n",
       "      <td>465.54</td>\n",
       "      <td>308.73</td>\n",
       "      <td>Single</td>\n",
       "      <td>Male</td>\n",
       "      <td>four</td>\n",
       "      <td>Candy</td>\n",
       "      <td>...</td>\n",
       "      <td>1</td>\n",
       "      <td>1</td>\n",
       "      <td>1</td>\n",
       "      <td>1</td>\n",
       "      <td>11.76</td>\n",
       "      <td>4.7040</td>\n",
       "      <td>31.8337</td>\n",
       "      <td>28.7811</td>\n",
       "      <td>3.0525</td>\n",
       "      <td>1</td>\n",
       "    </tr>\n",
       "    <tr>\n",
       "      <th>1</th>\n",
       "      <td>Deluxe</td>\n",
       "      <td>70K+</td>\n",
       "      <td>2577.16</td>\n",
       "      <td>1735.17</td>\n",
       "      <td>505.07</td>\n",
       "      <td>336.59</td>\n",
       "      <td>Married</td>\n",
       "      <td>Female</td>\n",
       "      <td>three</td>\n",
       "      <td>Vegetables</td>\n",
       "      <td>...</td>\n",
       "      <td>1</td>\n",
       "      <td>1</td>\n",
       "      <td>1</td>\n",
       "      <td>1</td>\n",
       "      <td>2.16</td>\n",
       "      <td>0.6696</td>\n",
       "      <td>29.9440</td>\n",
       "      <td>27.0368</td>\n",
       "      <td>2.9072</td>\n",
       "      <td>0</td>\n",
       "    </tr>\n",
       "    <tr>\n",
       "      <th>2</th>\n",
       "      <td>Deluxe</td>\n",
       "      <td>130K+</td>\n",
       "      <td>2837.58</td>\n",
       "      <td>2038.11</td>\n",
       "      <td>481.98</td>\n",
       "      <td>321.26</td>\n",
       "      <td>Single</td>\n",
       "      <td>Female</td>\n",
       "      <td>three</td>\n",
       "      <td>Dairy</td>\n",
       "      <td>...</td>\n",
       "      <td>1</td>\n",
       "      <td>1</td>\n",
       "      <td>1</td>\n",
       "      <td>1</td>\n",
       "      <td>1.83</td>\n",
       "      <td>0.8235</td>\n",
       "      <td>29.2172</td>\n",
       "      <td>26.3100</td>\n",
       "      <td>2.9072</td>\n",
       "      <td>0</td>\n",
       "    </tr>\n",
       "  </tbody>\n",
       "</table>\n",
       "<p>3 rows × 21 columns</p>\n",
       "</div>"
      ],
      "text/plain": [
       "  Store Kind Yearly Income  Store Area  Grocery Area  Frozen Area  Meat Area  \\\n",
       "0    Gourmet          50K+     2201.06       1424.85       465.54     308.73   \n",
       "1     Deluxe          70K+     2577.16       1735.17       505.07     336.59   \n",
       "2     Deluxe         130K+     2837.58       2038.11       481.98     321.26   \n",
       "\n",
       "  Marital Status  Gender Num Children Customer order  ...  Florist  \\\n",
       "0         Single    Male         four          Candy  ...        1   \n",
       "1        Married  Female        three     Vegetables  ...        1   \n",
       "2         Single  Female        three          Dairy  ...        1   \n",
       "\n",
       "   Ready Food  Bar For Salad  Video Store  Store Sales (M)  Store Cost (M)  \\\n",
       "0           1              1            1            11.76          4.7040   \n",
       "1           1              1            1             2.16          0.6696   \n",
       "2           1              1            1             1.83          0.8235   \n",
       "\n",
       "   Gross Weight  Net Weight  Package Weight  Is Recyclable  \n",
       "0       31.8337     28.7811          3.0525              1  \n",
       "1       29.9440     27.0368          2.9072              0  \n",
       "2       29.2172     26.3100          2.9072              0  \n",
       "\n",
       "[3 rows x 21 columns]"
      ]
     },
     "execution_count": 281,
     "metadata": {},
     "output_type": "execute_result"
    }
   ],
   "source": [
    "test.iloc[:3,3:]"
   ]
  },
  {
   "cell_type": "code",
   "execution_count": 282,
   "id": "53034bf8",
   "metadata": {},
   "outputs": [],
   "source": [
    "train.to_csv('cleaned_train.csv', index=False)\n",
    "test.to_csv('cleaned_test.csv', index=False)"
   ]
  },
  {
   "cell_type": "markdown",
   "id": "7ee6626d",
   "metadata": {},
   "source": [
    "# <a id=\"1\"></a>\n",
    "<div style=\"padding: 30px;color:white;margin:10;font-size:170%;text-align:left;display:fill;border-radius:10px;background-color:#F1C40F;overflow:hidden;background-image: url(https://th.bing.com/th/id/R.3be5e39321febd4c1f758691e109c8bd?rik=lkhAzU4ulIuL0Q&riu=http%3a%2f%2fupload.wikimedia.org%2fwikipedia%2fcommons%2f5%2f56%2fRMS_Titanic_2.jpg&ehk=VbIvq0%2b63pXvH%2bl3Ln4tlz%2bwppwyoN%2fUTZDuGVYTHiQ%3d&risl=&pid=ImgRaw&r=0)\"><b><span style='color:#404040'>Prepare data for modeling</span></b> </div>"
   ]
  },
  {
   "cell_type": "markdown",
   "id": "83be78db",
   "metadata": {},
   "source": [
    "## **<mark style=\"color:#404040;border-radius:20px;opacity:1.5;background-image: url(https://th.bing.com/th/id/R.3be5e39321febd4c1f758691e109c8bd?rik=lkhAzU4ulIuL0Q&riu=http%3a%2f%2fupload.wikimedia.org%2fwikipedia%2fcommons%2f5%2f56%2fRMS_Titanic_2.jpg&ehk=VbIvq0%2b63pXvH%2bl3Ln4tlz%2bwppwyoN%2fUTZDuGVYTHiQ%3d&risl=&pid=ImgRaw&r=0)\">Encoding </mark>**\n",
    "<br>"
   ]
  },
  {
   "cell_type": "code",
   "execution_count": 283,
   "id": "f6f4fbb9",
   "metadata": {},
   "outputs": [],
   "source": [
    "def label_encoder(dataframe, cols_to_encode):\n",
    "    labelencoder = LabelEncoder()\n",
    "    for col in cols_to_encode:\n",
    "        dataframe[col] = labelencoder.fit_transform(dataframe[col])\n",
    "    return dataframe\n",
    "\n",
    "train = label_encoder(train, cat_cols)\n",
    "test = label_encoder(test, cat_cols)"
   ]
  },
  {
   "cell_type": "markdown",
   "id": "a2b3d9c4",
   "metadata": {},
   "source": [
    "## **<mark style=\"color:#404040;border-radius:20px;opacity:1.5;background-image: url(https://th.bing.com/th/id/R.3be5e39321febd4c1f758691e109c8bd?rik=lkhAzU4ulIuL0Q&riu=http%3a%2f%2fupload.wikimedia.org%2fwikipedia%2fcommons%2f5%2f56%2fRMS_Titanic_2.jpg&ehk=VbIvq0%2b63pXvH%2bl3Ln4tlz%2bwppwyoN%2fUTZDuGVYTHiQ%3d&risl=&pid=ImgRaw&r=0)\"> Check about Multicollinearity  </mark>**\n",
    "<br>"
   ]
  },
  {
   "cell_type": "markdown",
   "id": "6fe4ff35",
   "metadata": {},
   "source": [
    "It means that the independant variables should not have any correlation between each other"
   ]
  },
  {
   "cell_type": "code",
   "execution_count": 284,
   "id": "128f077d",
   "metadata": {},
   "outputs": [
    {
     "data": {
      "image/png": "[encoded data removed]",
      "text/plain": [
       "<Figure size 1700x1000 with 2 Axes>"
      ]
     },
     "metadata": {},
     "output_type": "display_data"
    }
   ],
   "source": [
    "# Compute the correlation matrix\n",
    "correlation_matrix = train.corr()\n",
    "\n",
    "#Graph I.\n",
    "plt.figure(figsize=(17, 10))\n",
    "sns.heatmap(correlation_matrix, annot=True, cmap='coolwarm', linewidths=0.5, fmt='.2f')\n",
    "plt.title(\"Correlation Matrix Heatmap\")\n",
    "plt.show()"
   ]
  },
  {
   "cell_type": "markdown",
   "id": "3f89dbdf",
   "metadata": {},
   "source": [
    "* Sometimes two or more variables are correlated to a independant variable which is hard to identify from correlation plot. in that case you can check the VIF (Variance Inflation Factor).\n",
    "\n",
    "### What's the Variance Inflation Factor (VIF)?\n",
    "\n",
    "VIF value ranges between 1 to infinity . value 1 indecation no multicollinearity and the higher value of VIF , the higher value of multicollinearity.\n",
    "\n",
    "* VIF between `1:5` indecating moderate multicollinearity.\n",
    "* VIF between `5:10` indecating higher level of multicollinearity.\n",
    "* VIF between `10:..` indecating very high level multicollinearity."
   ]
  },
  {
   "cell_type": "code",
   "execution_count": 292,
   "id": "709fdd00",
   "metadata": {},
   "outputs": [
    {
     "data": {
      "text/html": [
       "<div>\n",
       "<style scoped>\n",
       "    .dataframe tbody tr th:only-of-type {\n",
       "        vertical-align: middle;\n",
       "    }\n",
       "\n",
       "    .dataframe tbody tr th {\n",
       "        vertical-align: top;\n",
       "    }\n",
       "\n",
       "    .dataframe thead th {\n",
       "        text-align: right;\n",
       "    }\n",
       "</style>\n",
       "<table border=\"1\" class=\"dataframe\">\n",
       "  <thead>\n",
       "    <tr style=\"text-align: right;\">\n",
       "      <th></th>\n",
       "      <th>feature</th>\n",
       "      <th>VIF</th>\n",
       "    </tr>\n",
       "  </thead>\n",
       "  <tbody>\n",
       "    <tr>\n",
       "      <th>0</th>\n",
       "      <td>Place Code</td>\n",
       "      <td>5.335845</td>\n",
       "    </tr>\n",
       "    <tr>\n",
       "      <th>1</th>\n",
       "      <td>Promotion Name</td>\n",
       "      <td>4.964340</td>\n",
       "    </tr>\n",
       "    <tr>\n",
       "      <th>2</th>\n",
       "      <td>Store Kind</td>\n",
       "      <td>5.702378</td>\n",
       "    </tr>\n",
       "    <tr>\n",
       "      <th>3</th>\n",
       "      <td>Yearly Income</td>\n",
       "      <td>3.388297</td>\n",
       "    </tr>\n",
       "    <tr>\n",
       "      <th>4</th>\n",
       "      <td>Store Area</td>\n",
       "      <td>22.476841</td>\n",
       "    </tr>\n",
       "    <tr>\n",
       "      <th>5</th>\n",
       "      <td>Marital Status</td>\n",
       "      <td>2.001651</td>\n",
       "    </tr>\n",
       "    <tr>\n",
       "      <th>6</th>\n",
       "      <td>Gender</td>\n",
       "      <td>1.940639</td>\n",
       "    </tr>\n",
       "    <tr>\n",
       "      <th>7</th>\n",
       "      <td>Num Children</td>\n",
       "      <td>4.333634</td>\n",
       "    </tr>\n",
       "    <tr>\n",
       "      <th>8</th>\n",
       "      <td>Customer order</td>\n",
       "      <td>4.122918</td>\n",
       "    </tr>\n",
       "    <tr>\n",
       "      <th>9</th>\n",
       "      <td>Coffee Bar</td>\n",
       "      <td>5.593692</td>\n",
       "    </tr>\n",
       "    <tr>\n",
       "      <th>10</th>\n",
       "      <td>Florist</td>\n",
       "      <td>5.851458</td>\n",
       "    </tr>\n",
       "    <tr>\n",
       "      <th>11</th>\n",
       "      <td>Ready Food</td>\n",
       "      <td>7.816493</td>\n",
       "    </tr>\n",
       "    <tr>\n",
       "      <th>12</th>\n",
       "      <td>Video Store</td>\n",
       "      <td>3.602595</td>\n",
       "    </tr>\n",
       "    <tr>\n",
       "      <th>13</th>\n",
       "      <td>Store Sales (M)</td>\n",
       "      <td>4.493558</td>\n",
       "    </tr>\n",
       "    <tr>\n",
       "      <th>14</th>\n",
       "      <td>Gross Weight</td>\n",
       "      <td>9.141614</td>\n",
       "    </tr>\n",
       "    <tr>\n",
       "      <th>15</th>\n",
       "      <td>Is Recyclable</td>\n",
       "      <td>2.249127</td>\n",
       "    </tr>\n",
       "  </tbody>\n",
       "</table>\n",
       "</div>"
      ],
      "text/plain": [
       "            feature        VIF\n",
       "0        Place Code   5.335845\n",
       "1    Promotion Name   4.964340\n",
       "2        Store Kind   5.702378\n",
       "3     Yearly Income   3.388297\n",
       "4        Store Area  22.476841\n",
       "5    Marital Status   2.001651\n",
       "6            Gender   1.940639\n",
       "7      Num Children   4.333634\n",
       "8    Customer order   4.122918\n",
       "9        Coffee Bar   5.593692\n",
       "10          Florist   5.851458\n",
       "11       Ready Food   7.816493\n",
       "12      Video Store   3.602595\n",
       "13  Store Sales (M)   4.493558\n",
       "14     Gross Weight   9.141614\n",
       "15    Is Recyclable   2.249127"
      ]
     },
     "execution_count": 292,
     "metadata": {},
     "output_type": "execute_result"
    }
   ],
   "source": [
    "# check about multicollenarity\n",
    "\n",
    "from statsmodels.stats.outliers_influence import variance_inflation_factor\n",
    "\n",
    "columns= train.drop(columns='Cost').columns\n",
    "# VIF dataframe\n",
    "vif_data = pd.DataFrame()\n",
    "vif_data[\"feature\"] = columns\n",
    "  \n",
    "# calculating VIF for each feature\n",
    "vif_data[\"VIF\"] = [variance_inflation_factor(train.drop(columns='Cost').values, i) for i in range(len(columns))]\n",
    "  \n",
    "vif_data"
   ]
  },
  {
   "cell_type": "markdown",
   "id": "d6199321",
   "metadata": {},
   "source": [
    "It seem Ready Food\tand Bar For Salad columns have the same value in each row, so we will drop one.\n"
   ]
  },
  {
   "cell_type": "code",
   "execution_count": 286,
   "id": "e1163fd8",
   "metadata": {},
   "outputs": [],
   "source": [
    "train.drop(columns=[\"Bar For Salad\",],inplace=True)\n",
    "test.drop(columns=[\"Bar For Salad\"],inplace=True)"
   ]
  },
  {
   "cell_type": "code",
   "execution_count": 287,
   "id": "497acc43",
   "metadata": {},
   "outputs": [],
   "source": [
    "train.drop(columns=[\"Net Weight\", \"Package Weight\"],inplace=True)\n",
    "test.drop(columns=[\"Net Weight\", \"Package Weight\"],inplace=True)"
   ]
  },
  {
   "cell_type": "code",
   "execution_count": 291,
   "id": "be081b4d",
   "metadata": {},
   "outputs": [],
   "source": [
    "train.drop([\"Store Cost (M)\"],axis=1,inplace=True)\n",
    "test.drop([\"Store Cost (M)\"],axis=1,inplace=True)"
   ]
  },
  {
   "cell_type": "code",
   "execution_count": 288,
   "id": "47979550",
   "metadata": {},
   "outputs": [],
   "source": [
    "train.drop([\"Grocery Area\", \"Frozen Area\", 'Meat Area'],axis=1,inplace=True)\n",
    "test.drop([\"Grocery Area\", \"Frozen Area\", 'Meat Area'],axis=1,inplace=True)"
   ]
  },
  {
   "cell_type": "code",
   "execution_count": 289,
   "id": "1a448555",
   "metadata": {},
   "outputs": [
    {
     "data": {
      "text/html": [
       "<div>\n",
       "<style scoped>\n",
       "    .dataframe tbody tr th:only-of-type {\n",
       "        vertical-align: middle;\n",
       "    }\n",
       "\n",
       "    .dataframe tbody tr th {\n",
       "        vertical-align: top;\n",
       "    }\n",
       "\n",
       "    .dataframe thead th {\n",
       "        text-align: right;\n",
       "    }\n",
       "</style>\n",
       "<table border=\"1\" class=\"dataframe\">\n",
       "  <thead>\n",
       "    <tr style=\"text-align: right;\">\n",
       "      <th></th>\n",
       "      <th>Place Code</th>\n",
       "      <th>Promotion Name</th>\n",
       "      <th>Store Kind</th>\n",
       "      <th>Yearly Income</th>\n",
       "      <th>Store Area</th>\n",
       "      <th>Marital Status</th>\n",
       "      <th>Gender</th>\n",
       "      <th>Num Children</th>\n",
       "      <th>Customer order</th>\n",
       "      <th>Coffee Bar</th>\n",
       "      <th>Florist</th>\n",
       "      <th>Ready Food</th>\n",
       "      <th>Video Store</th>\n",
       "      <th>Store Sales (M)</th>\n",
       "      <th>Store Cost (M)</th>\n",
       "      <th>Gross Weight</th>\n",
       "      <th>Is Recyclable</th>\n",
       "      <th>Cost</th>\n",
       "    </tr>\n",
       "  </thead>\n",
       "  <tbody>\n",
       "    <tr>\n",
       "      <th>0</th>\n",
       "      <td>6</td>\n",
       "      <td>7</td>\n",
       "      <td>0</td>\n",
       "      <td>0</td>\n",
       "      <td>2842.23</td>\n",
       "      <td>1</td>\n",
       "      <td>0</td>\n",
       "      <td>2</td>\n",
       "      <td>15</td>\n",
       "      <td>1</td>\n",
       "      <td>1</td>\n",
       "      <td>1</td>\n",
       "      <td>1</td>\n",
       "      <td>8.76</td>\n",
       "      <td>4.2924</td>\n",
       "      <td>28.1997</td>\n",
       "      <td>1</td>\n",
       "      <td>602.7575</td>\n",
       "    </tr>\n",
       "    <tr>\n",
       "      <th>1</th>\n",
       "      <td>14</td>\n",
       "      <td>5</td>\n",
       "      <td>4</td>\n",
       "      <td>6</td>\n",
       "      <td>2814.95</td>\n",
       "      <td>1</td>\n",
       "      <td>0</td>\n",
       "      <td>4</td>\n",
       "      <td>41</td>\n",
       "      <td>0</td>\n",
       "      <td>0</td>\n",
       "      <td>0</td>\n",
       "      <td>0</td>\n",
       "      <td>6.36</td>\n",
       "      <td>1.9716</td>\n",
       "      <td>16.5710</td>\n",
       "      <td>0</td>\n",
       "      <td>708.6650</td>\n",
       "    </tr>\n",
       "    <tr>\n",
       "      <th>2</th>\n",
       "      <td>7</td>\n",
       "      <td>38</td>\n",
       "      <td>4</td>\n",
       "      <td>5</td>\n",
       "      <td>2192.32</td>\n",
       "      <td>0</td>\n",
       "      <td>1</td>\n",
       "      <td>5</td>\n",
       "      <td>30</td>\n",
       "      <td>0</td>\n",
       "      <td>1</td>\n",
       "      <td>0</td>\n",
       "      <td>0</td>\n",
       "      <td>10.86</td>\n",
       "      <td>4.4526</td>\n",
       "      <td>28.6358</td>\n",
       "      <td>1</td>\n",
       "      <td>564.2647</td>\n",
       "    </tr>\n",
       "    <tr>\n",
       "      <th>3</th>\n",
       "      <td>13</td>\n",
       "      <td>36</td>\n",
       "      <td>4</td>\n",
       "      <td>5</td>\n",
       "      <td>1974.73</td>\n",
       "      <td>1</td>\n",
       "      <td>0</td>\n",
       "      <td>4</td>\n",
       "      <td>17</td>\n",
       "      <td>1</td>\n",
       "      <td>0</td>\n",
       "      <td>0</td>\n",
       "      <td>0</td>\n",
       "      <td>1.98</td>\n",
       "      <td>0.6732</td>\n",
       "      <td>14.2161</td>\n",
       "      <td>1</td>\n",
       "      <td>724.5119</td>\n",
       "    </tr>\n",
       "    <tr>\n",
       "      <th>4</th>\n",
       "      <td>8</td>\n",
       "      <td>31</td>\n",
       "      <td>0</td>\n",
       "      <td>6</td>\n",
       "      <td>2862.30</td>\n",
       "      <td>0</td>\n",
       "      <td>0</td>\n",
       "      <td>1</td>\n",
       "      <td>44</td>\n",
       "      <td>1</td>\n",
       "      <td>1</td>\n",
       "      <td>1</td>\n",
       "      <td>1</td>\n",
       "      <td>11.56</td>\n",
       "      <td>4.9708</td>\n",
       "      <td>12.6172</td>\n",
       "      <td>0</td>\n",
       "      <td>519.7574</td>\n",
       "    </tr>\n",
       "  </tbody>\n",
       "</table>\n",
       "</div>"
      ],
      "text/plain": [
       "   Place Code  Promotion Name  Store Kind  Yearly Income  Store Area  \\\n",
       "0           6               7           0              0     2842.23   \n",
       "1          14               5           4              6     2814.95   \n",
       "2           7              38           4              5     2192.32   \n",
       "3          13              36           4              5     1974.73   \n",
       "4           8              31           0              6     2862.30   \n",
       "\n",
       "   Marital Status  Gender  Num Children  Customer order  Coffee Bar  Florist  \\\n",
       "0               1       0             2              15           1        1   \n",
       "1               1       0             4              41           0        0   \n",
       "2               0       1             5              30           0        1   \n",
       "3               1       0             4              17           1        0   \n",
       "4               0       0             1              44           1        1   \n",
       "\n",
       "   Ready Food  Video Store  Store Sales (M)  Store Cost (M)  Gross Weight  \\\n",
       "0           1            1             8.76          4.2924       28.1997   \n",
       "1           0            0             6.36          1.9716       16.5710   \n",
       "2           0            0            10.86          4.4526       28.6358   \n",
       "3           0            0             1.98          0.6732       14.2161   \n",
       "4           1            1            11.56          4.9708       12.6172   \n",
       "\n",
       "   Is Recyclable      Cost  \n",
       "0              1  602.7575  \n",
       "1              0  708.6650  \n",
       "2              1  564.2647  \n",
       "3              1  724.5119  \n",
       "4              0  519.7574  "
      ]
     },
     "execution_count": 289,
     "metadata": {},
     "output_type": "execute_result"
    }
   ],
   "source": [
    "train.head()"
   ]
  },
  {
   "cell_type": "markdown",
   "id": "3905c584",
   "metadata": {},
   "source": [
    "# <a id=\"1\"></a>\n",
    "<div style=\"padding: 30px;color:white;margin:10;font-size:170%;text-align:left;display:fill;border-radius:10px;background-color:#F1C40F;overflow:hidden;background-image: url(https://th.bing.com/th/id/R.3be5e39321febd4c1f758691e109c8bd?rik=lkhAzU4ulIuL0Q&riu=http%3a%2f%2fupload.wikimedia.org%2fwikipedia%2fcommons%2f5%2f56%2fRMS_Titanic_2.jpg&ehk=VbIvq0%2b63pXvH%2bl3Ln4tlz%2bwppwyoN%2fUTZDuGVYTHiQ%3d&risl=&pid=ImgRaw&r=0)\"><b><span style='color:#404040'>Modeling </span></b> </div>"
   ]
  },
  {
   "cell_type": "code",
   "execution_count": 293,
   "id": "12eeb0d6",
   "metadata": {},
   "outputs": [],
   "source": [
    "X = train.drop(\"Cost\", axis=1)\n",
    "y = train[\"Cost\"]\n",
    "Test = test.drop(\"Unnamed: 0\", axis=1).copy()"
   ]
  },
  {
   "cell_type": "code",
   "execution_count": 294,
   "id": "16560a73",
   "metadata": {},
   "outputs": [
    {
     "name": "stdout",
     "output_type": "stream",
     "text": [
      "X_train (33032, 16)\n",
      "y_train (33032,)\n",
      "X_test (5830, 16)\n",
      "y_test (5830,)\n"
     ]
    }
   ],
   "source": [
    "X_train, X_test, y_train, y_test = train_test_split(X, y, test_size=0.15, random_state=45)\n",
    "print(\"X_train\",X_train.shape)\n",
    "print(\"y_train\",y_train.shape)\n",
    "print(\"X_test\",X_test.shape)\n",
    "print(\"y_test\",y_test.shape)"
   ]
  },
  {
   "cell_type": "code",
   "execution_count": 295,
   "id": "334b13d3",
   "metadata": {},
   "outputs": [],
   "source": [
    "def plot_importance(model, features, num=len(X), save=False):\n",
    "    \n",
    "    feature_imp = pd.DataFrame({'Value': model.estimators_[0].feature_importances_, 'Feature': features.columns})\n",
    "    plt.figure(figsize=(8, 6))\n",
    "    sns.set(font_scale=1)\n",
    "    sns.barplot(x=\"Value\", y=\"Feature\", data=feature_imp.sort_values(by=\"Value\",\n",
    "                                                                     ascending=False)[0:num])\n",
    "    plt.title('Features')\n",
    "    plt.tight_layout()\n",
    "    plt.show()\n",
    "    if save:\n",
    "        plt.savefig('importances.png')"
   ]
  },
  {
   "cell_type": "code",
   "execution_count": 296,
   "id": "4d6d38b3",
   "metadata": {},
   "outputs": [
    {
     "name": "stderr",
     "output_type": "stream",
     "text": [
      "[Parallel(n_jobs=-1)]: Using backend LokyBackend with 12 concurrent workers.\n",
      "[Parallel(n_jobs=-1)]: Done   5 out of   5 | elapsed:  1.2min finished\n"
     ]
    },
    {
     "data": {
      "text/plain": [
       "array([-80.0789939 , -76.1051368 , -78.31484525, -78.84459705,\n",
       "       -81.04184739])"
      ]
     },
     "execution_count": 296,
     "metadata": {},
     "output_type": "execute_result"
    }
   ],
   "source": [
    "Regressor = VotingRegressor([\n",
    "    (\"RandomForest\", RandomForestRegressor(random_state = 42, n_estimators = 500,\n",
    "                                           max_features= \"auto\", min_samples_split=20,\n",
    "                                           max_depth=20)),\n",
    "    (\"ExtraTree\", ExtraTreesRegressor(random_state = 42, n_estimators = 500, max_depth=30 )),\n",
    "])\n",
    "res = cross_val_score(Regressor, X_train , y_train , scoring = \"neg_root_mean_squared_error\", n_jobs = -1, verbose = True, cv = 5)\n",
    "res"
   ]
  },
  {
   "cell_type": "code",
   "execution_count": 297,
   "id": "7415eb81",
   "metadata": {},
   "outputs": [
    {
     "data": {
      "text/plain": [
       "(-78.87708407998288, 1.6811690579703764)"
      ]
     },
     "execution_count": 297,
     "metadata": {},
     "output_type": "execute_result"
    }
   ],
   "source": [
    "np.mean(res), np.std(res)"
   ]
  },
  {
   "cell_type": "code",
   "execution_count": 298,
   "id": "2e9bcafb",
   "metadata": {},
   "outputs": [
    {
     "data": {
      "text/plain": [
       "VotingRegressor(estimators=[('RandomForest',\n",
       "                             RandomForestRegressor(max_depth=20,\n",
       "                                                   min_samples_split=20,\n",
       "                                                   n_estimators=500,\n",
       "                                                   random_state=42)),\n",
       "                            ('ExtraTree',\n",
       "                             ExtraTreesRegressor(max_depth=30, n_estimators=500,\n",
       "                                                 random_state=42))])"
      ]
     },
     "execution_count": 298,
     "metadata": {},
     "output_type": "execute_result"
    }
   ],
   "source": [
    "Regressor.fit(X_train, y_train)"
   ]
  },
  {
   "cell_type": "code",
   "execution_count": 299,
   "id": "b0a78731",
   "metadata": {},
   "outputs": [
    {
     "name": "stdout",
     "output_type": "stream",
     "text": [
      "77.18\n",
      "37.57\n"
     ]
    }
   ],
   "source": [
    "preds_Regressor = Regressor.predict(X_test)\n",
    "mae_Regressor = round(mean_absolute_error(y_test, preds_Regressor), 2)\n",
    "rmse_Regressor = round(np.sqrt(mean_squared_error(y_test, preds_Regressor)),2)\n",
    "\n",
    "print(rmse_Regressor)\n",
    "print(mae_Regressor)"
   ]
  },
  {
   "cell_type": "code",
   "execution_count": 300,
   "id": "6d3c4e9a",
   "metadata": {},
   "outputs": [
    {
     "data": {
      "image/png": "[encoded data removed]",
      "text/plain": [
       "<Figure size 800x600 with 1 Axes>"
      ]
     },
     "metadata": {},
     "output_type": "display_data"
    }
   ],
   "source": [
    "plot_importance(Regressor, X_train, num=5)"
   ]
  },
  {
   "cell_type": "markdown",
   "id": "1d2ac735",
   "metadata": {},
   "source": [
    "# <a id=\"1\"></a>\n",
    "<div style=\"padding: 30px;color:white;margin:10;font-size:170%;text-align:left;display:fill;border-radius:10px;background-color:#F1C40F;overflow:hidden;background-image: url(https://th.bing.com/th/id/R.3be5e39321febd4c1f758691e109c8bd?rik=lkhAzU4ulIuL0Q&riu=http%3a%2f%2fupload.wikimedia.org%2fwikipedia%2fcommons%2f5%2f56%2fRMS_Titanic_2.jpg&ehk=VbIvq0%2b63pXvH%2bl3Ln4tlz%2bwppwyoN%2fUTZDuGVYTHiQ%3d&risl=&pid=ImgRaw&r=0)\"><b><span style='color:#404040'> Evaluation </span></b> </div>"
   ]
  },
  {
   "cell_type": "code",
   "execution_count": 301,
   "id": "ed020b2a",
   "metadata": {},
   "outputs": [],
   "source": [
    "predict_y = Regressor.predict(Test)\n",
    "\n",
    "predictions = pd.DataFrame({'Id': test[\"Unnamed: 0\"],\n",
    "                           'Cost': predict_y.flatten()})"
   ]
  },
  {
   "cell_type": "code",
   "execution_count": 302,
   "id": "242fa39e",
   "metadata": {},
   "outputs": [
    {
     "data": {
      "text/html": [
       "<div>\n",
       "<style scoped>\n",
       "    .dataframe tbody tr th:only-of-type {\n",
       "        vertical-align: middle;\n",
       "    }\n",
       "\n",
       "    .dataframe tbody tr th {\n",
       "        vertical-align: top;\n",
       "    }\n",
       "\n",
       "    .dataframe thead th {\n",
       "        text-align: right;\n",
       "    }\n",
       "</style>\n",
       "<table border=\"1\" class=\"dataframe\">\n",
       "  <thead>\n",
       "    <tr style=\"text-align: right;\">\n",
       "      <th></th>\n",
       "      <th>Id</th>\n",
       "      <th>Cost</th>\n",
       "    </tr>\n",
       "  </thead>\n",
       "  <tbody>\n",
       "    <tr>\n",
       "      <th>0</th>\n",
       "      <td>0</td>\n",
       "      <td>718.020790</td>\n",
       "    </tr>\n",
       "    <tr>\n",
       "      <th>1</th>\n",
       "      <td>1</td>\n",
       "      <td>617.973337</td>\n",
       "    </tr>\n",
       "    <tr>\n",
       "      <th>2</th>\n",
       "      <td>2</td>\n",
       "      <td>739.169759</td>\n",
       "    </tr>\n",
       "    <tr>\n",
       "      <th>3</th>\n",
       "      <td>3</td>\n",
       "      <td>438.633719</td>\n",
       "    </tr>\n",
       "    <tr>\n",
       "      <th>4</th>\n",
       "      <td>4</td>\n",
       "      <td>748.080581</td>\n",
       "    </tr>\n",
       "    <tr>\n",
       "      <th>...</th>\n",
       "      <td>...</td>\n",
       "      <td>...</td>\n",
       "    </tr>\n",
       "    <tr>\n",
       "      <th>19937</th>\n",
       "      <td>19937</td>\n",
       "      <td>359.519866</td>\n",
       "    </tr>\n",
       "    <tr>\n",
       "      <th>19938</th>\n",
       "      <td>19938</td>\n",
       "      <td>497.049193</td>\n",
       "    </tr>\n",
       "    <tr>\n",
       "      <th>19939</th>\n",
       "      <td>19939</td>\n",
       "      <td>652.505950</td>\n",
       "    </tr>\n",
       "    <tr>\n",
       "      <th>19940</th>\n",
       "      <td>19940</td>\n",
       "      <td>602.920736</td>\n",
       "    </tr>\n",
       "    <tr>\n",
       "      <th>19941</th>\n",
       "      <td>19941</td>\n",
       "      <td>398.788853</td>\n",
       "    </tr>\n",
       "  </tbody>\n",
       "</table>\n",
       "<p>19942 rows × 2 columns</p>\n",
       "</div>"
      ],
      "text/plain": [
       "          Id        Cost\n",
       "0          0  718.020790\n",
       "1          1  617.973337\n",
       "2          2  739.169759\n",
       "3          3  438.633719\n",
       "4          4  748.080581\n",
       "...      ...         ...\n",
       "19937  19937  359.519866\n",
       "19938  19938  497.049193\n",
       "19939  19939  652.505950\n",
       "19940  19940  602.920736\n",
       "19941  19941  398.788853\n",
       "\n",
       "[19942 rows x 2 columns]"
      ]
     },
     "execution_count": 302,
     "metadata": {},
     "output_type": "execute_result"
    }
   ],
   "source": [
    "predictions"
   ]
  },
  {
   "cell_type": "code",
   "execution_count": 303,
   "id": "47f5d446",
   "metadata": {},
   "outputs": [],
   "source": [
    "predictions.to_csv('submission.csv', index=False)"
   ]
  },
  {
   "cell_type": "markdown",
   "id": "696039fd",
   "metadata": {},
   "source": [
    "### "
   ]
  }
 ],
 "metadata": {
  "kernelspec": {
   "display_name": "Python 3 (ipykernel)",
   "language": "python",
   "name": "python3"
  },
  "language_info": {
   "codemirror_mode": {
    "name": "ipython",
    "version": 3
   },
   "file_extension": ".py",
   "mimetype": "text/x-python",
   "name": "python",
   "nbconvert_exporter": "python",
   "pygments_lexer": "ipython3",
   "version": "3.9.13"
  }
 },
 "nbformat": 4,
 "nbformat_minor": 5
}
